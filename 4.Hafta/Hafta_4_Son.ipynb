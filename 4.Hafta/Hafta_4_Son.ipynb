{
  "nbformat": 4,
  "nbformat_minor": 0,
  "metadata": {
    "colab": {
      "name": " Hafta 4 son.ipynb",
      "provenance": [],
      "collapsed_sections": []
    },
    "kernelspec": {
      "name": "python3",
      "display_name": "Python 3"
    },
    "language_info": {
      "name": "python"
    }
  },
  "cells": [
    {
      "cell_type": "markdown",
      "source": [
        "# 3. Haftadan Kalan Örnekler\n"
      ],
      "metadata": {
        "id": "V-1r6YGPsQGj"
      }
    },
    {
      "cell_type": "markdown",
      "source": [
        "#UYGULAMA 4\n",
        "Bir yılın artık yıl olup olmadığını kontrol etmek için bir program yazın. \n",
        "Artık yıl kuralı:\n",
        "\n",
        "a) Eğer yılın son iki basamağı (00) ile bitmiyorsa yalnızca 4'e tam bölünmesi\n",
        "gerekir.\n",
        "\n",
        "b) Eğer yılın son iki basamağı (00) ile bitiyorsa hem4'e hem de 400' e tam\n",
        "bölünmesi gerekir.Örneğin 1905 sayısının son iki basamağı 00 olmadığı için\n",
        "yalnızca 4 sayısına tam bölünmesi kontrol edilmelidir. Ancak 1900 sayısının\n",
        "son iki basamağı 00 ile bittiği için hem 4'e hem de 400'e tam bölünmesi\n",
        "kontrol edilmelidir."
      ],
      "metadata": {
        "id": "QqPzZ3Am_KsY"
      }
    },
    {
      "cell_type": "code",
      "source": [
        "yil = int(input(\"Bir yıl giriniz : \"))\n",
        "if yil % 4 == 0 :\n",
        "  if yil % 100 == 0:\n",
        "    if yil % 400 == 0 :\n",
        "      print(f\"{yil} yılı artık yıldır.\")\n",
        "    else:\n",
        "      print(f\"{yil} yılı artık yıl değildir.\")\n",
        "  else:\n",
        "    print(f\"{yil} yılı artık yıldır.\")\n",
        "else:\n",
        "  print(f\"{yil} yılı artık yıl değildir.\")"
      ],
      "metadata": {
        "id": "30ja1MOf_abE",
        "colab": {
          "base_uri": "https://localhost:8080/"
        },
        "outputId": "6fee0a05-b3bd-4419-8269-1c5e9636122b"
      },
      "execution_count": null,
      "outputs": [
        {
          "output_type": "stream",
          "name": "stdout",
          "text": [
            "Bir yıl giriniz : 2022\n",
            "2022 yılı artık yıl değildir.\n"
          ]
        }
      ]
    },
    {
      "cell_type": "markdown",
      "source": [
        "# UYGULAMA 5\n",
        "Kullanıcıdan bir üçgenin kenarları için 3 adet kenar uzunluğu isteyin. Girilen kenar\n",
        "uzunluklarına göre bu üçgenin eşkenar, ikizkenar veya çeşitkenar üçgen olma\n",
        "durumunu kontrol edin."
      ],
      "metadata": {
        "id": "DsLdLLdu_bBY"
      }
    },
    {
      "cell_type": "code",
      "source": [
        "k1 = int(input(\"1. Kenar uzunluğunu giriniz : \"))\n",
        "k2 = int(input(\"2. Kenar uzunluğunu giriniz : \"))\n",
        "k3 = int(input(\"3. Kenar uzunluğunu giriniz : \"))\n",
        "if k1 == k2 and k2 == k3:\n",
        "  print(\"Eşkenar üçgendir.\")\n",
        "elif((k1 == k2 and k2 != k3) or (k1 == k3 and k3 != k2) or (k2 == k3 and k1 != k2)):\n",
        "  print(\"İkizkenar üçgendir.\")\n",
        "else:\n",
        "  print(\"Çeşitkenar üçgendir.\")"
      ],
      "metadata": {
        "id": "YlEgTg4h_jZq",
        "colab": {
          "base_uri": "https://localhost:8080/"
        },
        "outputId": "b04ad47e-198f-4035-be90-5ef6a845e901"
      },
      "execution_count": null,
      "outputs": [
        {
          "output_type": "stream",
          "name": "stdout",
          "text": [
            "1. Kenar uzunluğunu giriniz : 8\n",
            "2. Kenar uzunluğunu giriniz : 5\n",
            "3. Kenar uzunluğunu giriniz : 10\n",
            "Çeşitkenar üçgendir.\n"
          ]
        }
      ]
    },
    {
      "cell_type": "markdown",
      "source": [
        "#UYGULAMA 6\n",
        "Bir AVM'ye ateş ölçer programı yazmalısınız.\n",
        "Kullanıcıya ateşini sorun daha sonra ateşinin derecesine göre AVM'ye \n",
        "girip-giremeyeceğini kullanıcıya belirtin. \n",
        "Program sonunda şöyle bir çıktı elde etmelisiniz:\n",
        "\"Ateşiniz 39 derece. AVM'ye Giremezsiniz!\""
      ],
      "metadata": {
        "id": "DPFDmd6W_j8p"
      }
    },
    {
      "cell_type": "code",
      "source": [
        "ates = float(input(\"Ateşinizi giriniz.\"))\n",
        "if ates < 38 :\n",
        "  print(\"AVM'ye girebilirsiniz.\")\n",
        "else:\n",
        "  print(\"AVM'ye giremezsiniz.\")"
      ],
      "metadata": {
        "id": "zmvhr_f5_mto",
        "colab": {
          "base_uri": "https://localhost:8080/"
        },
        "outputId": "a5ad0984-ccd4-49c8-f9ec-e570b19242b0"
      },
      "execution_count": null,
      "outputs": [
        {
          "output_type": "stream",
          "name": "stdout",
          "text": [
            "Ateşinizi giriniz.40\n",
            "AVM'ye giremezsiniz.\n"
          ]
        }
      ]
    },
    {
      "cell_type": "markdown",
      "source": [
        "#UYGULAMA 7\n",
        "Kullanıcıdan bir sayı alınız. Sayı 0'dan büyükse pozitif , 0'dan küçükse negatif \n",
        "sıfıra eşitse sıfır yazdırınız."
      ],
      "metadata": {
        "id": "jWr6Pm9r_m-_"
      }
    },
    {
      "cell_type": "code",
      "source": [
        "sayi = int(input(\"Bir sayı giriniz : \"))\n",
        "if sayi > 0:\n",
        "  print(f\"{sayi} sayısı pozitiftir.\")\n",
        "elif sayi == 0:\n",
        "  print(f\"{sayi} sayısı sıfıra eşittir.\")\n",
        "else:\n",
        "  print(f\"{sayi} sayısı negatiftir.\")"
      ],
      "metadata": {
        "id": "QzL7Iqla_sq2",
        "colab": {
          "base_uri": "https://localhost:8080/"
        },
        "outputId": "9da6a76a-1ac9-43d5-f2cf-71d34fd6d2b6"
      },
      "execution_count": null,
      "outputs": [
        {
          "output_type": "stream",
          "name": "stdout",
          "text": [
            "Bir sayı giriniz : 0\n",
            "0 sayısı sıfıra eşittir.\n"
          ]
        }
      ]
    },
    {
      "cell_type": "markdown",
      "source": [
        "# UYGULAMA 8\n",
        "Tebrikler, Python Pizza'da bir işiniz var. İlk işiniz otomatik bir pizza sipariş programı oluşturmak.\n",
        "\n",
        "Bir kullanıcının siparişine göre, son faturasını hesaplayın.\n",
        "\n",
        "Small Pizza: $15\n",
        "\n",
        "Medium Pizza: $20\n",
        "\n",
        "Large Pizza: $25\n",
        "\n",
        "Pepperoni for Small Pizza: +$2\n",
        "\n",
        "Pepperoni for Medium or Large Pizza: +$3\n",
        "\n",
        "Extra cheese for any size pizza: + $1\n",
        "```\n",
        "Örnek Giriş\n",
        "size = \"L\"\n",
        "add_pepperoni = \"Y\"\n",
        "extra_cheese = \"N\"\n",
        "Örnek Çıktı\n",
        "Your final bill is: $28.\n",
        "```"
      ],
      "metadata": {
        "id": "oUAXjB74_tFb"
      }
    },
    {
      "cell_type": "code",
      "source": [
        "print(\"******** Python Pizza'ya Hoş Geldiniz *************\")\n",
        "boyut = input(\"Pizzanızın boyutunu giriniz : S,M ya da L \\n\")\n",
        "biber = input(\"Ekstra biber ister misiniz : E ya da H \\n\")\n",
        "peynir = input(\"Ekstra peynir ister misiniz : E ya da H \\n\")\n",
        "ucret = 0\n",
        "if boyut == \"S\":\n",
        "  ucret += 15\n",
        "elif boyut == \"M\":\n",
        "  ucret += 20\n",
        "elif boyut == \"L\":\n",
        "  ucret += 25\n",
        "\n",
        "if biber == \"E\":\n",
        "  if boyut == \"S\":\n",
        "    ucret += 2\n",
        "  else:\n",
        "    ucret += 3\n",
        "\n",
        "if peynir == \"E\":\n",
        "  ucret += 1\n",
        "\n",
        "print(\"Pizzanızın ücreti : $\",ucret)"
      ],
      "metadata": {
        "id": "n0c88zOoAFAg",
        "colab": {
          "base_uri": "https://localhost:8080/"
        },
        "outputId": "acdda843-bf36-41f6-a6c1-17ba49ed0cc3"
      },
      "execution_count": null,
      "outputs": [
        {
          "output_type": "stream",
          "name": "stdout",
          "text": [
            "******** Python Pizza'ya Hoş Geldiniz *************\n",
            "Pizzanızın boyutunu giriniz : S,M ya da L \n",
            "L\n",
            "Ekstra biber ister misiniz : E ya da H \n",
            "E\n",
            "Ekstra peynir ister misiniz : E ya H \n",
            "H\n",
            "Pizzanızın ücreti : $ 28\n"
          ]
        }
      ]
    },
    {
      "cell_type": "markdown",
      "source": [
        "# UYGULAMA 9\n",
        "Bir kullanıcının kilosuna ve boyuna göre Vücut Kitle İndeksini (BMI) yorumlayan bir program yazın.\n",
        "BMI değerine göre BMI yorumunu onlara söylemelidir.\n",
        "\n",
        "18,5'in altında zayıflar\n",
        "\n",
        "18,5'in üzerinde ancak 25'in altında normal bir ağırlığa sahipler\n",
        "\n",
        "25'in üzerinde ama 30'un altında biraz fazla kilolular\n",
        "\n",
        "30'un üzerinde ama 35'in altında obezler\n",
        "\n",
        "35'in üzerinde olanlar klinik olarak obezdir.\n",
        "\n",
        "BMI, bir kişinin ağırlığının (kg olarak) boyunun karesine (m olarak) bölünmesiyle hesaplanır:\n",
        "\n",
        "Uyarı sizi gerektiğini yuvarlamak en yakın tam sayıya sonucu. Yorum mesajının, yukarıdaki yorumlardan kalın harflerle yazılmış kelimeleri içermesi gerekir. örneğin zayıf, normal kilolu, fazla kilolu, obez, klinik olarak obez .\n",
        "```\n",
        "Örnek Giriş\n",
        "weight = 85\n",
        "height = 1.75\n",
        "Örnek Çıktı\n",
        "85 ÷ (1.75 x 1.75) = 27.755102040816325\n",
        "Vücut kitle indeksiniz 28, fazla kilolusunuz.\n",
        "```"
      ],
      "metadata": {
        "id": "j2wIxm8EAFVE"
      }
    },
    {
      "cell_type": "code",
      "source": [
        "kg = float(input(\"Kilonuzu kilogram cinsinden yazınız : \"))\n",
        "m = float(input(\"Boyunuzu metre cinsinden yazınız : \"))\n",
        "vki = round(kg/(m**2))\n",
        "if vki < 18.5:\n",
        "  print(f\"Vücut kitle indeksiniz : {vki} ,zayıfsınız.\")\n",
        "elif vki < 25:\n",
        "  print(f\"Vücut kitle indeksiniz : {vki} ,normal ağırlıktasınız.\")\n",
        "elif vki < 30:\n",
        "  print(f\"Vücut kitle indeksiniz : {vki} ,kilonuzun biraz üzerindesiniz.\")\n",
        "elif vki < 35:\n",
        "  print(f\"Vücut kitle indeksiniz : {vki} ,obezsiniz.\")\n",
        "else:\n",
        "  print(f\"Vücut kitle indeksiniz : {vki} ,klinik obezsiniz.\")"
      ],
      "metadata": {
        "id": "OsdVr3N5ApXn",
        "colab": {
          "base_uri": "https://localhost:8080/"
        },
        "outputId": "eb3107e0-101e-44c1-c288-5595344145c2"
      },
      "execution_count": null,
      "outputs": [
        {
          "output_type": "stream",
          "name": "stdout",
          "text": [
            "Kilonuzu kilogram cinsinden yazınız : 85\n",
            "Boyunuzu metre cinsinden yazınız : 1.75\n",
            "Vücut kitle indeksiniz : 28 ,kilonuzun biraz üzerindesiniz.\n"
          ]
        }
      ]
    },
    {
      "cell_type": "markdown",
      "source": [
        "# UYGULAMA 10\n",
        "Kullanıcıdan isim, yaş ve eğitim bilgilerini isteyip ehliyet alabilme  durumunu kontrol ediniz. \n",
        "Ehliyet alma koşulu en az 18 ve eğitim durumu  lise ya da üniversite olmalıdır. "
      ],
      "metadata": {
        "id": "-DkwddecAu2F"
      }
    },
    {
      "cell_type": "code",
      "source": [
        "isim = input(\"İsminizi giriniz : \")\n",
        "yas = int(input(\"Yaşınızı giriniz : \"))\n",
        "egitim = input(\"Eğitim durumunuzu giriniz : \")\n",
        "if (yas >= 18) and (egitim == \"lise\" or egitim == \"üniversite\"):\n",
        "  print(\"Ehliyet alabilirsiniz.\")\n",
        "else:\n",
        "  print(\"Ehliyet alamazsınız.\")"
      ],
      "metadata": {
        "id": "yDE5EfGlAzpJ",
        "colab": {
          "base_uri": "https://localhost:8080/"
        },
        "outputId": "657f20cf-cdc8-474e-ade7-9b7fe19224f4"
      },
      "execution_count": null,
      "outputs": [
        {
          "output_type": "stream",
          "name": "stdout",
          "text": [
            "İsminizi giriniz : Berkcan\n",
            "Yaşınızı giriniz : 22\n",
            "Eğitim durumunuzu giriniz : üniversite\n",
            "Ehliyet alabilirsiniz.\n"
          ]
        }
      ]
    },
    {
      "cell_type": "markdown",
      "source": [
        "#UYGULAMA 11\n",
        "Brüt ücreti hesaplamak için input() kullanarak kullanıcıdan çalışma saati alın. \n",
        "40 saate kadar, her saat başına ücret 10 TL dir. 40 saatin üstündeki saatlerin ücreti 15 TL olmaktadır. \n",
        "Girilen saate göre ücreti hesaplayan bir kod yazınız.\n",
        "Test etmek için 30 saat değerini giriniz, \n",
        "sonuç 300 TL çıkmalı, ikincil test olarak 50 değerini giriniz, sonuç 750 TL çıkmalı."
      ],
      "metadata": {
        "id": "WtTBAiEaA4uN"
      }
    },
    {
      "cell_type": "code",
      "source": [
        "hrs = float(input(\"Çalışma saatinizi giriniz :\"))\n",
        "if hrs <= 40:\n",
        "  rate = 10\n",
        "  pay = hrs * rate\n",
        "else:\n",
        "  rate = 15\n",
        "  pay = hrs*rate\n",
        "print(\"Maaşınız : \", pay)\n"
      ],
      "metadata": {
        "id": "2whvqXvYBBoW",
        "colab": {
          "base_uri": "https://localhost:8080/"
        },
        "outputId": "07cc033f-3a9e-4fe2-9a2a-edc1529fb425"
      },
      "execution_count": null,
      "outputs": [
        {
          "output_type": "stream",
          "name": "stdout",
          "text": [
            "Çalışma saatinizi giriniz :50\n",
            "Maaşınız :  750.0\n"
          ]
        }
      ]
    },
    {
      "cell_type": "markdown",
      "source": [
        "#UYGULAMA 12\n",
        "0.0 ile 1.0 arasında bir puan istemek için bir program yazın. \n",
        "Puan aralık dışındaysa bir hata yazdırın. Puan 0,0 ile 1,0 arasında ise, \n",
        "aşağıdaki tabloyu kullanarak bir harf notu yazdırın:\n",
        "Puan Not\n",
        "```\n",
        "> = 0,9 A\n",
        "> = 0,8 B\n",
        "> = 0,7 C\n",
        "> = 0,6 D\n",
        "<   0,6 F\n",
        "```\n",
        "Kullanıcı aralık dışında bir değer girerse, uygun hata mesajı ve çıkış( quit() ) yapın."
      ],
      "metadata": {
        "id": "k-Tgl3NxBCcM"
      }
    },
    {
      "cell_type": "code",
      "source": [
        "sayi = float(input(\"0 ile 1 arasında sayı giriniz : \"))\n",
        "if 0<sayi<1:\n",
        "  if sayi >= 0.9:\n",
        "    print(\"A\")\n",
        "  elif sayi >= 0.8:\n",
        "    print(\"B\")\n",
        "  elif sayi >= 0.7:\n",
        "    print(\"C\")\n",
        "  elif sayi >= 0.6:\n",
        "    print(\"D\")\n",
        "  elif sayi < 0.6:\n",
        "    print(\"E\")\n",
        "else:\n",
        "  print(\"Yanlış değer girdiniz.\")\n",
        "  quit()"
      ],
      "metadata": {
        "id": "uDIoFlRRBQcs",
        "colab": {
          "base_uri": "https://localhost:8080/"
        },
        "outputId": "3a5d8a1b-085a-482d-b60c-b6766701226d"
      },
      "execution_count": null,
      "outputs": [
        {
          "output_type": "stream",
          "name": "stdout",
          "text": [
            "0 ile 1 arasında sayı giriniz : 0.5\n",
            "E\n"
          ]
        }
      ]
    },
    {
      "cell_type": "markdown",
      "source": [
        "#UYGULAMA 13\n",
        "Yazılım üniversitesi öğrencilerinin mezun olup olamayacağını göstermek için\n",
        "bir sistem oluşturmaya çalışıyor.\n",
        "\n",
        "Öncelikle durumunu öğrenmek isteyen öğrencinin, ismini yaşını ve not ortalamasını (0 - 100 arası) girmesi gerekiyor (input() fonksiyonu ile kullanıcıdan alıcak).\n",
        "\n",
        "Eğer kullanıcının yaşı 17 ve 21 arasındaysa ve not ortalaması 80 ve üzeri \n",
        "ise okulunu tamamlayabilecek.\n",
        "\n",
        "Eğer bu koşulları sağlamıyor ise okulunu tamamlayamayacaktır ve \n",
        "duruma göre ekrana bir çıktı gösterecektir (print() fonksiyonu ile)\n",
        "Yazılım Üniversitesinin böyle bir sisteme ihtiyacı var, \n",
        "Hadi sen de yardım et."
      ],
      "metadata": {
        "id": "8TyYoCHuBbDt"
      }
    },
    {
      "cell_type": "code",
      "source": [
        "isim = input(\"İsminizi giriniz : \")\n",
        "yas = int(input(\"Yaşınızı giriniz : \"))\n",
        "ortalama = int(input(\"Not ortalaması giriniz :\"))\n",
        "if ((yas > 16 and yas < 22) and (ortalama >= 80)):\n",
        "  print(\"Sınıfı geçtiniz\")\n",
        "else: \n",
        "  print(\"Sınıfta kaldınız\")"
      ],
      "metadata": {
        "id": "DCAd5UkJBlfV",
        "colab": {
          "base_uri": "https://localhost:8080/"
        },
        "outputId": "381f2b6e-9c18-467e-fa6e-7f874ee2a26a"
      },
      "execution_count": null,
      "outputs": [
        {
          "output_type": "stream",
          "name": "stdout",
          "text": [
            "İsminizi giriniz : Berkcan\n",
            "Yaşınızı giriniz : 22\n",
            "Not ortalaması giriniz :90\n",
            "Sınıfta kaldınız\n"
          ]
        }
      ]
    },
    {
      "cell_type": "markdown",
      "source": [
        "# UYGULAMA 14\n",
        "Kullanıcı tarafından girilen hava sıcaklığı 5 °C ve altındaysa “Soğuk”; 6-14 °C arasındaysa “Ilık”; 15 °C ve daha fazlaysa “Sıcak” çıktılarını veren kodu yazınız."
      ],
      "metadata": {
        "id": "O8udourKCKxi"
      }
    },
    {
      "cell_type": "code",
      "source": [
        "sicaklik = float(input(\"Bir sıcaklık değeri giriniz : \"))\n",
        "if sicaklik <= 5:\n",
        "  print(\"Soğuk\")\n",
        "elif sicaklik <= 14:\n",
        "  print(\"Ilık\")\n",
        "elif sicaklik >= 15:\n",
        "  print(\"Sıcak\")\n",
        "else:\n",
        "  print(\"Yanlış değer girdiniz.\")"
      ],
      "metadata": {
        "id": "GcsA7zhlCNOA",
        "colab": {
          "base_uri": "https://localhost:8080/"
        },
        "outputId": "73550d36-b915-4aac-c018-47a39af7e18c"
      },
      "execution_count": null,
      "outputs": [
        {
          "output_type": "stream",
          "name": "stdout",
          "text": [
            "Bir sıcaklık değeri giriniz : 17\n",
            "Sıcak\n"
          ]
        }
      ]
    },
    {
      "cell_type": "markdown",
      "source": [
        "# ÖRNEK PROJE"
      ],
      "metadata": {
        "id": "glgduHoJAp7i"
      }
    },
    {
      "cell_type": "code",
      "source": [
        "print('''\n",
        "*******************************************************************************\n",
        "          |                   |                  |                     |\n",
        " _________|________________.=\"\"_;=.______________|_____________________|_______\n",
        "|                   |  ,-\"_,=\"\"     `\"=.|                  |\n",
        "|___________________|__\"=._o`\"-._        `\"=.______________|___________________\n",
        "          |                `\"=._o`\"=._      _`\"=._                     |\n",
        " _________|_____________________:=._o \"=._.\"_.-=\"'\"=.__________________|_______\n",
        "|                   |    __.--\" , ; `\"=._o.\" ,-\"\"\"-._ \".   |\n",
        "|___________________|_._\"  ,. .` ` `` ,  `\"-._\"-._   \". '__|___________________\n",
        "          |           |o`\"=._` , \"` `; .\". ,  \"-._\"-._; ;              |\n",
        " _________|___________| ;`-.o`\"=._; .\" ` '`.\"\\` . \"-._ /_______________|_______\n",
        "|                   | |o;    `\"-.o`\"=._``  '` \" ,__.--o;   |\n",
        "|___________________|_| ;     (#) `-.o `\"=.`_.--\"_o.-; ;___|___________________\n",
        "____/______/______/___|o;._    \"      `\".o|o_.--\"    ;o;____/______/______/____\n",
        "/______/______/______/_\"=._o--._        ; | ;        ; ;/______/______/______/_\n",
        "____/______/______/______/__\"=._o--._   ;o|o;     _._;o;____/______/______/____\n",
        "/______/______/______/______/____\"=._o._; | ;_.--\"o.--\"_/______/______/______/_\n",
        "____/______/______/______/______/_____\"=.o|o_.--\"\"___/______/______/______/____\n",
        "/______/______/______/______/______/______/______/______/______/______/_____ /\n",
        "*******************************************************************************\n",
        "''')\n",
        "\n",
        "print(\"*** Hazine Adasına Hoş Geldiniz ***\")\n",
        "print(\"'Görevin hazineyi bulmak.\")\n",
        "ilkSecim = input(\"Bir yol ayrımındasınız. Nereye gitmek istersiniz? 'Sol' ya da 'Sağ' yazın\\n\")\n",
        "if ilkSecim ==\"Sol\":\n",
        "    print(\"Güvenle bir göle geldiniz. İlk aşamayı başarıyla tamamladınız\")\n",
        "    ikinciSecim = input(\"Gölün ortasında bir ada var. Tekne beklemek için \\\"bekle\\\" yazın, yüzerek geçmek için \\\"yüzme\\\" yazın\\n\")\n",
        "    if ikinciSecim == \"bekle\":\n",
        "        print(\"Adaya zarar görmeden vardınız.\")\n",
        "        ucuncuSecim = input(\"3 kapılı bir ev var. Kapılardan Biri kırmızı, biri sarı ve biri mavi. Bir kapıyı seçiniz\\n\")\n",
        "        if ucuncuSecim == \"kırmızı\":\n",
        "            print(\"Ateşle dolu bir oda. Oyun Bitti\")\n",
        "        elif ucuncuSecim == \"mavi\":\n",
        "            print(\"hayvanların odasına girdiniz. Oyun Bitti\")\n",
        "        elif ucuncuSecim == \"sarı\":\n",
        "            print(\"Hazineyi buldunuz. Kazandınız!\")\n",
        "            print(\"Hazine Adasını oynadığınız için teşekkür ederiz!\")\n",
        "    elif  ikinciSecim == \"yüzme\":\n",
        "        print(\"Kızgın bir alabalık tarafından saldırıya uğradınız. Oyun Bitti.\")\n",
        "    \n",
        "elif ilkSecim == \"Sağ\":\n",
        "    print(\"Deliğe düştünüz. Oyun Bitti\")\n",
        "else: \n",
        "    print(\"Sözdizimi Hatası\") "
      ],
      "metadata": {
        "id": "Z3xBBAtmAsoI",
        "colab": {
          "base_uri": "https://localhost:8080/"
        },
        "outputId": "79363273-7477-435f-a5f8-4045745ec28d"
      },
      "execution_count": null,
      "outputs": [
        {
          "name": "stdout",
          "output_type": "stream",
          "text": [
            "\n",
            "*******************************************************************************\n",
            "          |                   |                  |                     |\n",
            " _________|________________.=\"\"_;=.______________|_____________________|_______\n",
            "|                   |  ,-\"_,=\"\"     `\"=.|                  |\n",
            "|___________________|__\"=._o`\"-._        `\"=.______________|___________________\n",
            "          |                `\"=._o`\"=._      _`\"=._                     |\n",
            " _________|_____________________:=._o \"=._.\"_.-=\"'\"=.__________________|_______\n",
            "|                   |    __.--\" , ; `\"=._o.\" ,-\"\"\"-._ \".   |\n",
            "|___________________|_._\"  ,. .` ` `` ,  `\"-._\"-._   \". '__|___________________\n",
            "          |           |o`\"=._` , \"` `; .\". ,  \"-._\"-._; ;              |\n",
            " _________|___________| ;`-.o`\"=._; .\" ` '`.\"\\` . \"-._ /_______________|_______\n",
            "|                   | |o;    `\"-.o`\"=._``  '` \" ,__.--o;   |\n",
            "|___________________|_| ;     (#) `-.o `\"=.`_.--\"_o.-; ;___|___________________\n",
            "____/______/______/___|o;._    \"      `\".o|o_.--\"    ;o;____/______/______/____\n",
            "/______/______/______/_\"=._o--._        ; | ;        ; ;/______/______/______/_\n",
            "____/______/______/______/__\"=._o--._   ;o|o;     _._;o;____/______/______/____\n",
            "/______/______/______/______/____\"=._o._; | ;_.--\"o.--\"_/______/______/______/_\n",
            "____/______/______/______/______/_____\"=.o|o_.--\"\"___/______/______/______/____\n",
            "/______/______/______/______/______/______/______/______/______/______/_____ /\n",
            "*******************************************************************************\n",
            "\n",
            "*** Hazine Adasına Hoş Geldiniz ***\n",
            "'Görevin hazineyi bulmak.\n",
            "Bir yol ayrımındasınız. Nereye gitmek istersiniz? 'Sol' ya da 'Sağ' yazın\n",
            "Sol\n",
            "Güvenle bir göle geldiniz. İlk aşamayı başarıyla tamamladınız\n",
            "Gölün ortasında bir ada var. Tekne beklemek için \"bekle\" yazın, yüzerek geçmek için \"yüzme\" yazın\n",
            "Yüzme\n"
          ]
        }
      ]
    },
    {
      "cell_type": "markdown",
      "source": [
        "#LİSTELER\n",
        "- [] içerisinde tutulurlar.\n",
        "- Aynı stringlerde olduğu gibi indexleme mantığı ile çalışır.\n",
        "- Listelerde veri güncellemesi yapılabilir.\n",
        "- Listelerde ekleme ve silme işlemi yapılabilir.\n",
        "- İç içe listeleme işlemi yapılabilir."
      ],
      "metadata": {
        "id": "Z9ToPiWWs4jQ"
      }
    },
    {
      "cell_type": "code",
      "source": [
        "ogrenciler = [\"Berkcan\",\"Şevval\",\"Nurana\",\"Mete\"]\n",
        "print(ogrenciler)\n",
        "print(ogrenciler[1])"
      ],
      "metadata": {
        "id": "MoW_5kFktAL2",
        "colab": {
          "base_uri": "https://localhost:8080/"
        },
        "outputId": "02d43f20-816f-45a3-c546-67c0ba30ed29"
      },
      "execution_count": null,
      "outputs": [
        {
          "output_type": "stream",
          "name": "stdout",
          "text": [
            "['Berkcan', 'Şevval', 'Nurana', 'Mete']\n",
            "Şevval\n"
          ]
        }
      ]
    },
    {
      "cell_type": "code",
      "source": [
        "meyveler = [[\"kırmızı elma\",\"yeşil elma\"],\"armut\",\"karpuz\"]\n",
        "print(meyveler[0])"
      ],
      "metadata": {
        "colab": {
          "base_uri": "https://localhost:8080/"
        },
        "id": "fNsFQcnGAC4_",
        "outputId": "5ca2b360-5493-4316-ff24-77831f456ede"
      },
      "execution_count": null,
      "outputs": [
        {
          "output_type": "stream",
          "name": "stdout",
          "text": [
            "['kırmızı elma', 'yeşil elma']\n"
          ]
        }
      ]
    },
    {
      "cell_type": "code",
      "source": [
        "print(meyveler[0][1])"
      ],
      "metadata": {
        "colab": {
          "base_uri": "https://localhost:8080/"
        },
        "id": "3PSA6NzuAWpm",
        "outputId": "4bdd5f0a-a6b6-4715-c22f-98e2d43fb88f"
      },
      "execution_count": null,
      "outputs": [
        {
          "output_type": "stream",
          "name": "stdout",
          "text": [
            "yeşil elma\n"
          ]
        }
      ]
    },
    {
      "cell_type": "code",
      "source": [
        "print(meyveler[0:2])"
      ],
      "metadata": {
        "colab": {
          "base_uri": "https://localhost:8080/"
        },
        "id": "rJIWAmEEAdT8",
        "outputId": "12187111-59f2-4ce4-aea7-d9cb94370c5f"
      },
      "execution_count": null,
      "outputs": [
        {
          "output_type": "stream",
          "name": "stdout",
          "text": [
            "[['kırmızı elma', 'yeşil elma'], 'armut']\n"
          ]
        }
      ]
    },
    {
      "cell_type": "code",
      "source": [
        "print(ogrenciler[6])"
      ],
      "metadata": {
        "colab": {
          "base_uri": "https://localhost:8080/",
          "height": 165
        },
        "id": "asNzAybYAkFf",
        "outputId": "2194e0e6-59d8-482d-cc15-2f7d3ff41a80"
      },
      "execution_count": null,
      "outputs": [
        {
          "output_type": "error",
          "ename": "IndexError",
          "evalue": "ignored",
          "traceback": [
            "\u001b[0;31m---------------------------------------------------------------------------\u001b[0m",
            "\u001b[0;31mIndexError\u001b[0m                                Traceback (most recent call last)",
            "\u001b[0;32m<ipython-input-31-ef72d1b04efa>\u001b[0m in \u001b[0;36m<module>\u001b[0;34m()\u001b[0m\n\u001b[0;32m----> 1\u001b[0;31m \u001b[0mprint\u001b[0m\u001b[0;34m(\u001b[0m\u001b[0mogrenciler\u001b[0m\u001b[0;34m[\u001b[0m\u001b[0;36m6\u001b[0m\u001b[0;34m]\u001b[0m\u001b[0;34m)\u001b[0m\u001b[0;34m\u001b[0m\u001b[0;34m\u001b[0m\u001b[0m\n\u001b[0m",
            "\u001b[0;31mIndexError\u001b[0m: list index out of range"
          ]
        }
      ]
    },
    {
      "cell_type": "code",
      "source": [
        "print(ogrenciler[2:3])"
      ],
      "metadata": {
        "colab": {
          "base_uri": "https://localhost:8080/"
        },
        "id": "2tAUc6Q4Apdh",
        "outputId": "84f04b11-31a9-4e8d-bd7b-ef3c284a4671"
      },
      "execution_count": null,
      "outputs": [
        {
          "output_type": "stream",
          "name": "stdout",
          "text": [
            "['Nurana']\n"
          ]
        }
      ]
    },
    {
      "cell_type": "code",
      "source": [
        "print(ogrenciler[:2])"
      ],
      "metadata": {
        "colab": {
          "base_uri": "https://localhost:8080/"
        },
        "id": "BgB0omEuA61P",
        "outputId": "5d58b454-3e55-4f4c-9592-4a149f25a67e"
      },
      "execution_count": null,
      "outputs": [
        {
          "output_type": "stream",
          "name": "stdout",
          "text": [
            "['Berkcan', 'Şevval']\n"
          ]
        }
      ]
    },
    {
      "cell_type": "code",
      "source": [
        "print(ogrenciler[::-1])  #Listeyi tersten yaz."
      ],
      "metadata": {
        "colab": {
          "base_uri": "https://localhost:8080/"
        },
        "id": "3Dn7chN1BCUv",
        "outputId": "54c388f4-5b58-40b3-9bc5-af13090ddfb2"
      },
      "execution_count": null,
      "outputs": [
        {
          "output_type": "stream",
          "name": "stdout",
          "text": [
            "['Mete', 'Nurana', 'Şevval', 'Berkcan']\n"
          ]
        }
      ]
    },
    {
      "cell_type": "code",
      "source": [
        "print(ogrenciler[-1])"
      ],
      "metadata": {
        "colab": {
          "base_uri": "https://localhost:8080/"
        },
        "id": "QPOvw2mvBL3p",
        "outputId": "9e07e073-7955-4cbe-a5f6-c46ecb56e40c"
      },
      "execution_count": null,
      "outputs": [
        {
          "output_type": "stream",
          "name": "stdout",
          "text": [
            "Mete\n"
          ]
        }
      ]
    },
    {
      "cell_type": "code",
      "source": [
        "print(ogrenciler[1:-2])"
      ],
      "metadata": {
        "colab": {
          "base_uri": "https://localhost:8080/"
        },
        "id": "JhzjfcxHBSAW",
        "outputId": "dd68a57a-ada2-491a-8e79-1af7f6360806"
      },
      "execution_count": null,
      "outputs": [
        {
          "output_type": "stream",
          "name": "stdout",
          "text": [
            "['Şevval']\n"
          ]
        }
      ]
    },
    {
      "cell_type": "code",
      "source": [
        "print(ogrenciler[-4])"
      ],
      "metadata": {
        "colab": {
          "base_uri": "https://localhost:8080/"
        },
        "id": "mzmqB5fOBxid",
        "outputId": "56c4664a-30b3-432f-fa29-2c2801865cff"
      },
      "execution_count": null,
      "outputs": [
        {
          "output_type": "stream",
          "name": "stdout",
          "text": [
            "Berkcan\n"
          ]
        }
      ]
    },
    {
      "cell_type": "markdown",
      "source": [
        "# LİSTE METOTLARI\n",
        "## .append() Metodu\n",
        "- Listeye yeni eleman eklemeyi sağlar.\n",
        "\n",
        "\n",
        "## .remove() Metodu\n",
        "- Listeden veri silmeyi sağlar."
      ],
      "metadata": {
        "id": "kLv4d0hYtkzY"
      }
    },
    {
      "cell_type": "code",
      "source": [
        "ogrenciler.append(\"Şeyda\") \n",
        "print(ogrenciler)"
      ],
      "metadata": {
        "id": "CkKcE06zt1ZF",
        "colab": {
          "base_uri": "https://localhost:8080/"
        },
        "outputId": "610ab418-bb75-4409-9c0b-74d70bc054f1"
      },
      "execution_count": null,
      "outputs": [
        {
          "output_type": "stream",
          "name": "stdout",
          "text": [
            "['Şevval', 'Nurana', 'Mete', 'Berkcan', 'Şeyda']\n"
          ]
        }
      ]
    },
    {
      "cell_type": "code",
      "source": [
        "ogrenciler.remove(\"Berkcan\")\n",
        "print(ogrenciler)"
      ],
      "metadata": {
        "id": "Hp_FMdaQt2nE",
        "colab": {
          "base_uri": "https://localhost:8080/"
        },
        "outputId": "be4d8527-c265-4a0d-ec38-6226ad31f288"
      },
      "execution_count": null,
      "outputs": [
        {
          "output_type": "stream",
          "name": "stdout",
          "text": [
            "['Şevval', 'Nurana', 'Mete']\n"
          ]
        }
      ]
    },
    {
      "cell_type": "code",
      "source": [
        "ogrenciler.append(\"Berkcan\")\n",
        "print(ogrenciler)"
      ],
      "metadata": {
        "id": "mg79g6dtt27E",
        "colab": {
          "base_uri": "https://localhost:8080/"
        },
        "outputId": "d4ebc636-f623-4fc1-877b-5f372202c0e8"
      },
      "execution_count": null,
      "outputs": [
        {
          "output_type": "stream",
          "name": "stdout",
          "text": [
            "['Şevval', 'Nurana', 'Mete', 'Berkcan', 'Şeyda', 'Berkcan']\n"
          ]
        }
      ]
    },
    {
      "cell_type": "markdown",
      "source": [
        "##len() metodu\n",
        "Dizinin uzunluğunu verir."
      ],
      "metadata": {
        "id": "EO-Q4IPXt3u2"
      }
    },
    {
      "cell_type": "code",
      "source": [
        "print(len(ogrenciler))"
      ],
      "metadata": {
        "id": "Fx8cvre0t3V4",
        "colab": {
          "base_uri": "https://localhost:8080/"
        },
        "outputId": "4907ac88-043e-4855-da08-934883296eb9"
      },
      "execution_count": null,
      "outputs": [
        {
          "output_type": "stream",
          "name": "stdout",
          "text": [
            "6\n"
          ]
        }
      ]
    },
    {
      "cell_type": "code",
      "source": [
        "print(len(meyveler))"
      ],
      "metadata": {
        "id": "clZVTZ8tt79X",
        "colab": {
          "base_uri": "https://localhost:8080/"
        },
        "outputId": "93340f8d-6d6d-42fc-ee5c-1dd1a54fd9e4"
      },
      "execution_count": null,
      "outputs": [
        {
          "output_type": "stream",
          "name": "stdout",
          "text": [
            "3\n"
          ]
        }
      ]
    },
    {
      "cell_type": "markdown",
      "source": [
        "## clear() metodu\n",
        "- Listeyi tamamen boşaltır."
      ],
      "metadata": {
        "id": "_8WQxQpnt_D_"
      }
    },
    {
      "cell_type": "code",
      "source": [
        "meyveler.clear()\n",
        "print(meyveler)"
      ],
      "metadata": {
        "id": "NlSYZiJPt-oI",
        "colab": {
          "base_uri": "https://localhost:8080/"
        },
        "outputId": "c5cdc822-010b-494a-f49e-07414249dbaf"
      },
      "execution_count": null,
      "outputs": [
        {
          "output_type": "stream",
          "name": "stdout",
          "text": [
            "[]\n"
          ]
        }
      ]
    },
    {
      "cell_type": "markdown",
      "source": [
        "##count() metodu\n",
        "- Listedeki elemanları saymayı sağlar."
      ],
      "metadata": {
        "id": "11qF7PjJuDQZ"
      }
    },
    {
      "cell_type": "code",
      "source": [
        "print(ogrenciler.count(\"Berkcan\"))"
      ],
      "metadata": {
        "id": "-ToIjI1ouKyK",
        "colab": {
          "base_uri": "https://localhost:8080/"
        },
        "outputId": "33c66012-2824-4e63-8858-d1ec11373833"
      },
      "execution_count": null,
      "outputs": [
        {
          "output_type": "stream",
          "name": "stdout",
          "text": [
            "2\n"
          ]
        }
      ]
    },
    {
      "cell_type": "markdown",
      "source": [
        "## index() metodu\n",
        "- Listedeki elemanının indexini verir.\n",
        "- Aranan veriyi ilk bulduğunda durur. Diğer verilerde aynı veri varsa getirmez."
      ],
      "metadata": {
        "id": "hvRWoE_luPiN"
      }
    },
    {
      "cell_type": "code",
      "source": [
        "print(ogrenciler.index(\"Berkcan\"))"
      ],
      "metadata": {
        "id": "DegVIiiQuOqX",
        "colab": {
          "base_uri": "https://localhost:8080/"
        },
        "outputId": "74fe995f-784c-426c-bb7f-a463421eab61"
      },
      "execution_count": null,
      "outputs": [
        {
          "output_type": "stream",
          "name": "stdout",
          "text": [
            "3\n"
          ]
        }
      ]
    },
    {
      "cell_type": "markdown",
      "source": [
        "##pop() metodu\n",
        "- Listede indexe göre silme işlemi yapar."
      ],
      "metadata": {
        "id": "T3TFO5enuYmN"
      }
    },
    {
      "cell_type": "code",
      "source": [
        "ogrenciler.pop(-1)\n",
        "print(ogrenciler)"
      ],
      "metadata": {
        "id": "FHhZDXsfubsf",
        "colab": {
          "base_uri": "https://localhost:8080/"
        },
        "outputId": "2ed96347-2241-4c54-8671-403a82ca4d41"
      },
      "execution_count": null,
      "outputs": [
        {
          "output_type": "stream",
          "name": "stdout",
          "text": [
            "['Şevval', 'Nurana', 'Mete', 'Berkcan', 'Şeyda']\n"
          ]
        }
      ]
    },
    {
      "cell_type": "markdown",
      "source": [
        "## insert() metodu\n",
        "- Listede indexe göre ekleme işlemi yapar."
      ],
      "metadata": {
        "id": "aBmb1Cs9ufGF"
      }
    },
    {
      "cell_type": "code",
      "source": [
        "ogrenciler.insert(-2,\"Zümra\")\n",
        "print(ogrenciler)"
      ],
      "metadata": {
        "id": "Ja-7v9dNuht6",
        "colab": {
          "base_uri": "https://localhost:8080/"
        },
        "outputId": "11ec561e-a7e4-46e5-a830-f7ca759651d1"
      },
      "execution_count": null,
      "outputs": [
        {
          "output_type": "stream",
          "name": "stdout",
          "text": [
            "['Şevval', 'Nurana', 'Mete', 'Zümra', 'Berkcan', 'Şeyda']\n"
          ]
        }
      ]
    },
    {
      "cell_type": "markdown",
      "source": [
        "## reverse() metodu\n",
        "Listeyi terse çevirmeyi sağlar."
      ],
      "metadata": {
        "id": "OnlWDkymuifU"
      }
    },
    {
      "cell_type": "code",
      "source": [
        "ogrenciler.reverse()\n",
        "print(ogrenciler)"
      ],
      "metadata": {
        "id": "t-90QvRCurI1",
        "colab": {
          "base_uri": "https://localhost:8080/"
        },
        "outputId": "a602e648-253b-4683-d016-b5ef009d6b64"
      },
      "execution_count": null,
      "outputs": [
        {
          "output_type": "stream",
          "name": "stdout",
          "text": [
            "['Şeyda', 'Berkcan', 'Zümra', 'Mete', 'Nurana', 'Şevval']\n"
          ]
        }
      ]
    },
    {
      "cell_type": "markdown",
      "source": [
        "## sort() metodu\n",
        "- Listeyi sıralamayı sağlar."
      ],
      "metadata": {
        "id": "SD-ncGyfuvKy"
      }
    },
    {
      "cell_type": "code",
      "source": [
        "ogrenciler.sort()\n",
        "print(ogrenciler)"
      ],
      "metadata": {
        "id": "gylsJ2whuxXp",
        "colab": {
          "base_uri": "https://localhost:8080/"
        },
        "outputId": "b63a368e-704d-4398-c74e-a080a65e8f82"
      },
      "execution_count": null,
      "outputs": [
        {
          "output_type": "stream",
          "name": "stdout",
          "text": [
            "['Berkcan', 'Mete', 'Nurana', 'Zümra', 'Şevval', 'Şeyda']\n"
          ]
        }
      ]
    },
    {
      "cell_type": "markdown",
      "source": [
        "## max()\n",
        "- Hem sayısal hem de sözlüksel olarak en büyük unsuru bulur\n",
        "\n",
        "## min()\n",
        "- Hem sayısal hem de sözlüksel olarak en küçük elemanı bulur\n",
        "\n",
        "## sum()\n",
        "- Listedeki sayıların toplamını alır. Ve verilen liste sayısal olmayan herhangi bir değer içeremez"
      ],
      "metadata": {
        "id": "VmFiKZSWvSAO"
      }
    },
    {
      "cell_type": "markdown",
      "source": [
        "# Liste Toplama"
      ],
      "metadata": {
        "id": "tZ55lF0wu2-d"
      }
    },
    {
      "cell_type": "code",
      "source": [
        "sebze = [\"Patlıcan\",\"Pırasa\"]\n",
        "meyve = [\"Portakal\"]\n",
        "toplam = sebze + meyve\n",
        "print(toplam)"
      ],
      "metadata": {
        "id": "8LOhepGpu5Wg",
        "colab": {
          "base_uri": "https://localhost:8080/"
        },
        "outputId": "65d9e91f-00f8-49c0-f5c0-3abf76bf6e1f"
      },
      "execution_count": null,
      "outputs": [
        {
          "output_type": "stream",
          "name": "stdout",
          "text": [
            "['Patlıcan', 'Pırasa', 'Portakal']\n"
          ]
        }
      ]
    },
    {
      "cell_type": "markdown",
      "source": [
        "# LİSTE UYGULAMALARI\n",
        "1-  \"Bmw, Mercedes, Opel, Mazda\" elemanlarına sahip bir liste oluşturunuz.\n"
      ],
      "metadata": {
        "id": "nN_IfjONvm45"
      }
    },
    {
      "cell_type": "code",
      "source": [
        "arabalar = [\"BMW\",\"Mercedes\",\"Mazda\",\"Opel\"]\n",
        "print(arabalar)"
      ],
      "metadata": {
        "id": "91IiqOamvyLE",
        "colab": {
          "base_uri": "https://localhost:8080/"
        },
        "outputId": "792cdad3-5959-4f7b-aded-dbcfcd06772d"
      },
      "execution_count": 4,
      "outputs": [
        {
          "output_type": "stream",
          "name": "stdout",
          "text": [
            "['BMW', 'Mercedes', 'Mazda', 'Opel']\n"
          ]
        }
      ]
    },
    {
      "cell_type": "markdown",
      "source": [
        "2-  Liste Kaç elemanlıdır ?\n"
      ],
      "metadata": {
        "id": "Pt6QBTzTvzEI"
      }
    },
    {
      "cell_type": "code",
      "source": [
        "print(len(arabalar))"
      ],
      "metadata": {
        "id": "MkLQ6zxEv2ZP",
        "colab": {
          "base_uri": "https://localhost:8080/"
        },
        "outputId": "22127118-49bf-4fc9-db38-9e6015d516fa"
      },
      "execution_count": 5,
      "outputs": [
        {
          "output_type": "stream",
          "name": "stdout",
          "text": [
            "4\n"
          ]
        }
      ]
    },
    {
      "cell_type": "markdown",
      "source": [
        " 3-  Listenin ilk ve son elemanı nedir ?\n"
      ],
      "metadata": {
        "id": "xh5f3y9pv24c"
      }
    },
    {
      "cell_type": "code",
      "source": [
        "print(arabalar[0])\n",
        "print(arabalar[-1])"
      ],
      "metadata": {
        "id": "5XM__pDTv6du",
        "colab": {
          "base_uri": "https://localhost:8080/"
        },
        "outputId": "91d40283-c38d-42a9-cf03-9989abcd7aaf"
      },
      "execution_count": 6,
      "outputs": [
        {
          "output_type": "stream",
          "name": "stdout",
          "text": [
            "BMW\n",
            "Opel\n"
          ]
        }
      ]
    },
    {
      "cell_type": "markdown",
      "source": [
        "4-  Mazda değerini Toyota ile değiştirin.\n",
        "\n"
      ],
      "metadata": {
        "id": "d8D6TBh4v68S"
      }
    },
    {
      "cell_type": "code",
      "source": [
        "arabalar[-2] = \"Toyoto\"\n",
        "print(arabalar)"
      ],
      "metadata": {
        "id": "gS1_OAtNweii",
        "colab": {
          "base_uri": "https://localhost:8080/"
        },
        "outputId": "26640574-fa1f-4a48-8dac-9f04469dff9e"
      },
      "execution_count": 7,
      "outputs": [
        {
          "output_type": "stream",
          "name": "stdout",
          "text": [
            "['BMW', 'Mercedes', 'Toyoto', 'Opel']\n"
          ]
        }
      ]
    },
    {
      "cell_type": "markdown",
      "source": [
        "5-  Listenin -2 indeksindeki değer nedir ?\n"
      ],
      "metadata": {
        "id": "BJzpFB9Swezs"
      }
    },
    {
      "cell_type": "code",
      "source": [
        "print(arabalar[-2])"
      ],
      "metadata": {
        "id": "eqX3riBKwhQm",
        "colab": {
          "base_uri": "https://localhost:8080/"
        },
        "outputId": "93de9ce9-6afe-4c4d-c1df-aa0eae9bca56"
      },
      "execution_count": null,
      "outputs": [
        {
          "output_type": "stream",
          "name": "stdout",
          "text": [
            "Toyoto\n"
          ]
        }
      ]
    },
    {
      "cell_type": "markdown",
      "source": [
        "6-  Listenin ilk 3 elemanını alın.\n"
      ],
      "metadata": {
        "id": "sUBvS649whri"
      }
    },
    {
      "cell_type": "code",
      "source": [
        "print(arabalar[:3])"
      ],
      "metadata": {
        "id": "StiXvq4jwjq4",
        "colab": {
          "base_uri": "https://localhost:8080/"
        },
        "outputId": "86caeab3-1a6e-44f1-912e-786a529044ca"
      },
      "execution_count": null,
      "outputs": [
        {
          "output_type": "stream",
          "name": "stdout",
          "text": [
            "['BMW', 'Mercedes', 'Toyoto']\n"
          ]
        }
      ]
    },
    {
      "cell_type": "markdown",
      "source": [
        "7-  Listenin son 2 elemanı yerine \"Toyota\" ve \"Renault\" değerlerini ekleyin.\n"
      ],
      "metadata": {
        "id": "vyDqhE2twkC6"
      }
    },
    {
      "cell_type": "code",
      "source": [
        "arabalar[-1] = \"Renault\"\n",
        "print(arabalar)"
      ],
      "metadata": {
        "id": "W04Ec8-NwmSA",
        "colab": {
          "base_uri": "https://localhost:8080/"
        },
        "outputId": "1eec3891-e767-4865-f7f5-8866c509c12f"
      },
      "execution_count": null,
      "outputs": [
        {
          "output_type": "stream",
          "name": "stdout",
          "text": [
            "['BMW', 'Mercedes', 'Toyoto', 'Renault']\n"
          ]
        }
      ]
    },
    {
      "cell_type": "markdown",
      "source": [
        "8-  Listenin üzerine \"Audi\" ve \"Nissan\" değerlerini ekleyin.\n"
      ],
      "metadata": {
        "id": "7c163TOJwmwW"
      }
    },
    {
      "cell_type": "code",
      "source": [
        "arabalar.append(\"Audi\")\n",
        "arabalar.append(\"Nissan\")\n",
        "print(arabalar)"
      ],
      "metadata": {
        "id": "YheArl1xwoiz",
        "colab": {
          "base_uri": "https://localhost:8080/"
        },
        "outputId": "acc23f74-216a-481d-8349-a151c857b98b"
      },
      "execution_count": null,
      "outputs": [
        {
          "output_type": "stream",
          "name": "stdout",
          "text": [
            "['BMW', 'Mercedes', 'Toyoto', 'Renault', 'Audi', 'Nissan']\n"
          ]
        }
      ]
    },
    {
      "cell_type": "markdown",
      "source": [
        "9- Listenin son elemanını silin.\n"
      ],
      "metadata": {
        "id": "Tt3MuEhjwo2a"
      }
    },
    {
      "cell_type": "code",
      "source": [
        "arabalar.pop(-1)\n",
        "print(arabalar)"
      ],
      "metadata": {
        "id": "EyGN8odZwrEg",
        "colab": {
          "base_uri": "https://localhost:8080/"
        },
        "outputId": "103abad6-ee29-471b-f34f-4ba8467df019"
      },
      "execution_count": null,
      "outputs": [
        {
          "output_type": "stream",
          "name": "stdout",
          "text": [
            "['BMW', 'Mercedes', 'Toyoto', 'Renault']\n"
          ]
        }
      ]
    },
    {
      "cell_type": "markdown",
      "source": [
        "10- Liste elemanlarını tersten yazdırınız.\n",
        "\n"
      ],
      "metadata": {
        "id": "v-Qe-oTIwrai"
      }
    },
    {
      "cell_type": "code",
      "source": [
        "arabalar.reverse()\n",
        "print(arabalar)"
      ],
      "metadata": {
        "id": "tCI4oKmrwtT4",
        "colab": {
          "base_uri": "https://localhost:8080/"
        },
        "outputId": "d593a283-6c7c-425c-a930-6f4ee3a2318c"
      },
      "execution_count": null,
      "outputs": [
        {
          "output_type": "stream",
          "name": "stdout",
          "text": [
            "['Toyoto', 'Renault', 'Mercedes', 'BMW']\n"
          ]
        }
      ]
    },
    {
      "cell_type": "markdown",
      "source": [
        "11- Aşağıdaki verileri bir liste içinde saklayınız. \n",
        "\n",
        "      # studentA: Berkcan Gümüşışık 1999, (90,90,70)\n",
        "      # studentB: Şevval Baydemir  2000, (80,80,70)\n",
        "      # studentC: Nurana Jumageldiyeva 2000, (80,70,90) \n",
        "\n"
      ],
      "metadata": {
        "id": "QdxeP_j_wtwH"
      }
    },
    {
      "cell_type": "code",
      "source": [
        "students = [[\"Berkcan Gümüşışık\",1999,[90,90,70]],[\"Şevval Baydemir\",2000,[80,80,70]],[\"Nurana Jumageldiyeva\",2000,[80,70,90]]]"
      ],
      "metadata": {
        "id": "ZBeB4nVSw_k9"
      },
      "execution_count": 1,
      "outputs": []
    },
    {
      "cell_type": "markdown",
      "source": [
        "12- Liste elemanlarını ekrana yazdırınız.\n",
        "  \n"
      ],
      "metadata": {
        "id": "oe2d8-rVw_0t"
      }
    },
    {
      "cell_type": "code",
      "source": [
        "print(students)"
      ],
      "metadata": {
        "id": "s14jThVIxCx0",
        "colab": {
          "base_uri": "https://localhost:8080/"
        },
        "outputId": "da6de70c-310e-4c95-cc15-d5f1743c7c2b"
      },
      "execution_count": 2,
      "outputs": [
        {
          "output_type": "stream",
          "name": "stdout",
          "text": [
            "[['Berkcan Gümüşışık', 1999, [90, 90, 70]], ['Şevval Baydemir', 2000, [80, 80, 70]], ['Nurana Jumageldiyeva', 2000, [80, 70, 90]]]\n"
          ]
        }
      ]
    },
    {
      "cell_type": "markdown",
      "source": [
        "names = ['Berkcan','Şevval','Nurana','Mete']\n",
        "\n",
        "years = [1999, 2000, 2000, 2001]\n",
        "\n",
        "13-  \"Cenk\" ismini listenin sonuna ekleyiniz.\n"
      ],
      "metadata": {
        "id": "i2gamVfHxDO0"
      }
    },
    {
      "cell_type": "code",
      "source": [
        "names = ['Berkcan','Şevval','Nurana','Mete']\n",
        "years = [1999, 2000, 2000, 2001]\n",
        "names.append(\"Cenk\")\n",
        "print(names)"
      ],
      "metadata": {
        "id": "EbCcwPJzxWZ2",
        "colab": {
          "base_uri": "https://localhost:8080/"
        },
        "outputId": "c5dee1d2-8d79-4457-b1c4-42937ef8748c"
      },
      "execution_count": 3,
      "outputs": [
        {
          "output_type": "stream",
          "name": "stdout",
          "text": [
            "['Berkcan', 'Şevval', 'Nurana', 'Mete', 'Cenk']\n"
          ]
        }
      ]
    },
    {
      "cell_type": "markdown",
      "source": [
        "14-  \"Sena\" değerini listenin başına ekleyiniz.\n"
      ],
      "metadata": {
        "id": "vvoaXtb-xWwU"
      }
    },
    {
      "cell_type": "code",
      "source": [
        "names.insert(0,\"Sena\")\n",
        "print(names)"
      ],
      "metadata": {
        "id": "dAP1hv_XxYav",
        "colab": {
          "base_uri": "https://localhost:8080/"
        },
        "outputId": "bed629cd-bc0d-4817-c8c3-3504ed2e8b25"
      },
      "execution_count": 9,
      "outputs": [
        {
          "output_type": "stream",
          "name": "stdout",
          "text": [
            "['Sena', 'Sena', 'Berkcan', 'Şevval', 'Nurana', 'Mete', 'Cenk']\n"
          ]
        }
      ]
    },
    {
      "cell_type": "markdown",
      "source": [
        "15-  \"Sena\" ismini listeden siliniz.\n"
      ],
      "metadata": {
        "id": "mnUEj_MWxY-k"
      }
    },
    {
      "cell_type": "code",
      "source": [
        "names.pop(0)\n",
        "print(names)"
      ],
      "metadata": {
        "id": "W7yNbaVDxcgm",
        "colab": {
          "base_uri": "https://localhost:8080/"
        },
        "outputId": "e1865578-215b-49dc-d3b0-d14ec2fc804a"
      },
      "execution_count": 11,
      "outputs": [
        {
          "output_type": "stream",
          "name": "stdout",
          "text": [
            "['Sena', 'Berkcan', 'Şevval', 'Nurana', 'Mete', 'Cenk']\n"
          ]
        }
      ]
    },
    {
      "cell_type": "markdown",
      "source": [
        "16-  Liste elemanlarını ters çevirin.\n"
      ],
      "metadata": {
        "id": "2_ZA9cWoxfDK"
      }
    },
    {
      "cell_type": "code",
      "source": [
        "names.reverse()\n",
        "print(names)"
      ],
      "metadata": {
        "id": "JUmQFKH1xhLU",
        "colab": {
          "base_uri": "https://localhost:8080/"
        },
        "outputId": "ca94e382-b728-4a41-ff40-db018c88fbc5"
      },
      "execution_count": 13,
      "outputs": [
        {
          "output_type": "stream",
          "name": "stdout",
          "text": [
            "['Cenk', 'Mete', 'Nurana', 'Şevval', 'Berkcan', 'Sena']\n"
          ]
        }
      ]
    },
    {
      "cell_type": "markdown",
      "source": [
        "17-  Liste elemanlarını alfabetik olarak sıralayınız.\n"
      ],
      "metadata": {
        "id": "tV-eA-QIxh0x"
      }
    },
    {
      "cell_type": "code",
      "source": [
        "names.sort()\n",
        "print(names)"
      ],
      "metadata": {
        "id": "EPqBDgCaxje1",
        "colab": {
          "base_uri": "https://localhost:8080/"
        },
        "outputId": "3011d744-fd2a-420c-9795-91634ce0beed"
      },
      "execution_count": 14,
      "outputs": [
        {
          "output_type": "stream",
          "name": "stdout",
          "text": [
            "['Berkcan', 'Cenk', 'Mete', 'Nurana', 'Sena', 'Şevval']\n"
          ]
        }
      ]
    },
    {
      "cell_type": "markdown",
      "source": [
        "18-  years listesini rakamsal büyüklüğe göre sıralayınız.\n"
      ],
      "metadata": {
        "id": "_DHF1mqbxjyE"
      }
    },
    {
      "cell_type": "code",
      "source": [
        "years.sort()\n",
        "print(years)"
      ],
      "metadata": {
        "id": "xJumPUc3xlSV",
        "colab": {
          "base_uri": "https://localhost:8080/"
        },
        "outputId": "3130d35d-6aa1-4a3d-94f3-9417bb161cf5"
      },
      "execution_count": 15,
      "outputs": [
        {
          "output_type": "stream",
          "name": "stdout",
          "text": [
            "[1999, 2000, 2000, 2001]\n"
          ]
        }
      ]
    },
    {
      "cell_type": "markdown",
      "source": [
        "19-  str = \"Chevrolet,Dacia\" karakter dizisini listeye çeviriniz.\n"
      ],
      "metadata": {
        "id": "wIBWDyr-xl3y"
      }
    },
    {
      "cell_type": "code",
      "source": [
        "str = \"Chevrolet,Dacia,Renault\"\n",
        "print(str.split(\",\"))"
      ],
      "metadata": {
        "id": "8aO1jL3FxlYZ",
        "colab": {
          "base_uri": "https://localhost:8080/"
        },
        "outputId": "d1ddc847-4bf0-443f-d3a0-7cc8d427ae26"
      },
      "execution_count": 19,
      "outputs": [
        {
          "output_type": "stream",
          "name": "stdout",
          "text": [
            "['Chevrolet', 'Dacia', 'Renault']\n"
          ]
        }
      ]
    },
    {
      "cell_type": "markdown",
      "source": [
        "20- years dizisinde kaç tane 2000 değeri vardır ?\n"
      ],
      "metadata": {
        "id": "GmvHtZ-xxouM"
      }
    },
    {
      "cell_type": "code",
      "source": [
        "print(years.count(2000))"
      ],
      "metadata": {
        "id": "Y3VE_pgTxrK-",
        "colab": {
          "base_uri": "https://localhost:8080/"
        },
        "outputId": "052217af-b52d-4ec6-af30-d1ecbb84f15e"
      },
      "execution_count": 22,
      "outputs": [
        {
          "output_type": "stream",
          "name": "stdout",
          "text": [
            "2\n"
          ]
        }
      ]
    },
    {
      "cell_type": "markdown",
      "source": [
        "21- years dizisinin tüm elemanlarını siliniz.\n"
      ],
      "metadata": {
        "id": "TtGL0NQ6xrie"
      }
    },
    {
      "cell_type": "code",
      "source": [
        "years.clear()\n",
        "print(years)"
      ],
      "metadata": {
        "id": "n3eEvBw3xs-z",
        "colab": {
          "base_uri": "https://localhost:8080/"
        },
        "outputId": "db6a70bd-1894-40e1-b1d0-b34b33973b05"
      },
      "execution_count": 23,
      "outputs": [
        {
          "output_type": "stream",
          "name": "stdout",
          "text": [
            "[]\n"
          ]
        }
      ]
    },
    {
      "cell_type": "markdown",
      "source": [
        "22- Kullanıcıdan alacağınız 3 tane marka bilgisini bir listede saklayınız."
      ],
      "metadata": {
        "id": "cQQ_csgMxtVk"
      }
    },
    {
      "cell_type": "code",
      "source": [
        "marka1 = input(\"Bir marka giriniz : \")\n",
        "marka2 = input(\"Bir marka giriniz : \")\n",
        "marka3 = input(\"Bir marka giriniz : \")\n",
        "markalar = [marka1,marka2,marka3]\n",
        "print(markalar)"
      ],
      "metadata": {
        "id": "nbj0wiVRxuRK",
        "colab": {
          "base_uri": "https://localhost:8080/"
        },
        "outputId": "9f9c0d51-02e1-4913-b278-aec26a1f7ff7"
      },
      "execution_count": 24,
      "outputs": [
        {
          "output_type": "stream",
          "name": "stdout",
          "text": [
            "Bir marka giriniz : Eti\n",
            "Bir marka giriniz : Ülker\n",
            "Bir marka giriniz : Torku\n",
            "['Eti', 'Ülker', 'Torku']\n"
          ]
        }
      ]
    },
    {
      "cell_type": "markdown",
      "source": [
        "# TUPLE(DEMET)\n",
        "- Tuple listelere benzerdir.\n",
        "- Tuple ile liste arasındaki en önemli fark tuple elemanlarının değiştirilemez, liste elemanlarınının değiştirilebilir olmasıdır.\n",
        "- Performanslı bir data sağlar.\n",
        "- () içerisinde tanımlanabilir.\n",
        "- İç içe tuple oluşturulabilir.\n",
        "- Liste içerisinde tuple, tuple içersinide liste tanımlamak mümkündür.\n",
        "- Bir kere tanımlandıktan sonra değiştirilemezler yalnızca okunurlar.\n",
        "- Tek elemansa tuple olduğunu belirtmek için bir virgül koyulmalıdır."
      ],
      "metadata": {
        "id": "ERBjH_O7xuqO"
      }
    },
    {
      "cell_type": "code",
      "source": [
        "tupleListe = (2,4,6,\"Ankara\",(2,4,6),[1,2,3])\n",
        "liste = [2,4,6,\"Ankara\",(2,4,6)]\n",
        "print(type(tupleListe))\n",
        "print(type(liste))"
      ],
      "metadata": {
        "id": "l80r9hBzyOuN",
        "colab": {
          "base_uri": "https://localhost:8080/"
        },
        "outputId": "31a2d246-61f1-4eee-bb64-465f575fc222"
      },
      "execution_count": 25,
      "outputs": [
        {
          "output_type": "stream",
          "name": "stdout",
          "text": [
            "<class 'tuple'>\n",
            "<class 'list'>\n"
          ]
        }
      ]
    },
    {
      "cell_type": "code",
      "source": [
        "print(tupleListe)\n",
        "print(liste)"
      ],
      "metadata": {
        "id": "LcECRGPbyaCq",
        "colab": {
          "base_uri": "https://localhost:8080/"
        },
        "outputId": "05c82116-37ca-4876-9826-2f947c8c5c8f"
      },
      "execution_count": 26,
      "outputs": [
        {
          "output_type": "stream",
          "name": "stdout",
          "text": [
            "(2, 4, 6, 'Ankara', (2, 4, 6), [1, 2, 3])\n",
            "[2, 4, 6, 'Ankara', (2, 4, 6)]\n"
          ]
        }
      ]
    },
    {
      "cell_type": "code",
      "source": [
        "liste[0] = 6\n",
        "print(liste)"
      ],
      "metadata": {
        "id": "V6-yuR4myaUO",
        "colab": {
          "base_uri": "https://localhost:8080/"
        },
        "outputId": "9aa97a11-4c9a-4a8d-c50f-fd5907bb1b23"
      },
      "execution_count": 27,
      "outputs": [
        {
          "output_type": "stream",
          "name": "stdout",
          "text": [
            "[6, 4, 6, 'Ankara', (2, 4, 6)]\n"
          ]
        }
      ]
    },
    {
      "cell_type": "code",
      "source": [
        "tupleListe[0] = 6\n",
        "print(tupleListe)"
      ],
      "metadata": {
        "id": "6Ge9x7lKyavI",
        "colab": {
          "base_uri": "https://localhost:8080/",
          "height": 182
        },
        "outputId": "6feed161-e4dd-445b-b72e-3f2321628a82"
      },
      "execution_count": 28,
      "outputs": [
        {
          "output_type": "error",
          "ename": "TypeError",
          "evalue": "ignored",
          "traceback": [
            "\u001b[0;31m---------------------------------------------------------------------------\u001b[0m",
            "\u001b[0;31mTypeError\u001b[0m                                 Traceback (most recent call last)",
            "\u001b[0;32m<ipython-input-28-3328119a28c6>\u001b[0m in \u001b[0;36m<module>\u001b[0;34m()\u001b[0m\n\u001b[0;32m----> 1\u001b[0;31m \u001b[0mtupleListe\u001b[0m\u001b[0;34m[\u001b[0m\u001b[0;36m0\u001b[0m\u001b[0;34m]\u001b[0m \u001b[0;34m=\u001b[0m \u001b[0;36m6\u001b[0m\u001b[0;34m\u001b[0m\u001b[0;34m\u001b[0m\u001b[0m\n\u001b[0m\u001b[1;32m      2\u001b[0m \u001b[0mprint\u001b[0m\u001b[0;34m(\u001b[0m\u001b[0mtupleListe\u001b[0m\u001b[0;34m)\u001b[0m\u001b[0;34m\u001b[0m\u001b[0;34m\u001b[0m\u001b[0m\n",
            "\u001b[0;31mTypeError\u001b[0m: 'tuple' object does not support item assignment"
          ]
        }
      ]
    },
    {
      "cell_type": "code",
      "source": [
        "print(liste[0])\n",
        "print(tupleListe[0])"
      ],
      "metadata": {
        "colab": {
          "base_uri": "https://localhost:8080/"
        },
        "id": "7f3VX8wG6Yj4",
        "outputId": "2beec85f-7721-44d2-eeaf-fb61e292ce4b"
      },
      "execution_count": 29,
      "outputs": [
        {
          "output_type": "stream",
          "name": "stdout",
          "text": [
            "6\n",
            "2\n"
          ]
        }
      ]
    },
    {
      "cell_type": "code",
      "source": [
        "print(liste[0:3])\n",
        "print(tupleListe[0:3])"
      ],
      "metadata": {
        "colab": {
          "base_uri": "https://localhost:8080/"
        },
        "id": "-kN18jwN6hUR",
        "outputId": "5901fe79-3fe9-4ce3-c504-c9c2b4b75da2"
      },
      "execution_count": 30,
      "outputs": [
        {
          "output_type": "stream",
          "name": "stdout",
          "text": [
            "[6, 4, 6]\n",
            "(2, 4, 6)\n"
          ]
        }
      ]
    },
    {
      "cell_type": "markdown",
      "source": [
        "# TUPLE ATAMA\n"
      ],
      "metadata": {
        "id": "cgP8GqlUykoZ"
      }
    },
    {
      "cell_type": "code",
      "source": [
        "(x,y) = (4,\"Berkcan\")\n",
        "print(y)"
      ],
      "metadata": {
        "id": "MbMA1WxYyoXv",
        "colab": {
          "base_uri": "https://localhost:8080/"
        },
        "outputId": "6c759053-fbf2-4c10-8065-fa7896188e0e"
      },
      "execution_count": 31,
      "outputs": [
        {
          "output_type": "stream",
          "name": "stdout",
          "text": [
            "Berkcan\n"
          ]
        }
      ]
    },
    {
      "cell_type": "code",
      "source": [
        "(0,1,2) < (5,1,2)"
      ],
      "metadata": {
        "id": "LdayH746yop-",
        "colab": {
          "base_uri": "https://localhost:8080/"
        },
        "outputId": "25d2605d-4e12-41df-a964-1e0baa5bc54d"
      },
      "execution_count": 32,
      "outputs": [
        {
          "output_type": "execute_result",
          "data": {
            "text/plain": [
              "True"
            ]
          },
          "metadata": {},
          "execution_count": 32
        }
      ]
    },
    {
      "cell_type": "markdown",
      "source": [
        "## sorted(list_name, reverse=bool)\n",
        "- Bir demet listesini sıralamamıza yardımcı olur\n",
        "- Sıralama yaparken ilk öğeyi dikkate alır"
      ],
      "metadata": {
        "id": "IDCojXSxybEH"
      }
    },
    {
      "cell_type": "code",
      "source": [
        "d = {\"a\":10 , \"b\":1, \"c\":22}\n",
        "t = sorted(d.items())\n",
        "print(t)"
      ],
      "metadata": {
        "id": "VT6cZRgGyhei",
        "colab": {
          "base_uri": "https://localhost:8080/"
        },
        "outputId": "94b2aa1f-b5c8-4728-8668-ef172dd13911"
      },
      "execution_count": 33,
      "outputs": [
        {
          "output_type": "stream",
          "name": "stdout",
          "text": [
            "[('a', 10), ('b', 1), ('c', 22)]\n"
          ]
        }
      ]
    },
    {
      "cell_type": "markdown",
      "source": [
        "# SET\n",
        "- Listelere benzer.\n",
        "- En önemli özelliği indexsiz ve sırasız elemanlardan oluşmasıdır.\n",
        "* Veri tekrarı söz konusu değildir. Tüm elemanlar eşsizdir.\n",
        "* {} içerisinde tanımlanır.\n",
        "* Çok hızlı bir veri tipidir."
      ],
      "metadata": {
        "id": "p7BLzJbBypuQ"
      }
    },
    {
      "cell_type": "code",
      "source": [
        "students = {\"Berkcan\",\"Şevval\",\"Mete\",\"Nurana\"}\n",
        "print(students)\n",
        "print(type(students))"
      ],
      "metadata": {
        "id": "GhA3FP4Yy4SB",
        "colab": {
          "base_uri": "https://localhost:8080/"
        },
        "outputId": "010e6178-83d2-4619-b150-8cfb41057bab"
      },
      "execution_count": 34,
      "outputs": [
        {
          "output_type": "stream",
          "name": "stdout",
          "text": [
            "{'Berkcan', 'Mete', 'Şevval', 'Nurana'}\n",
            "<class 'set'>\n"
          ]
        }
      ]
    },
    {
      "cell_type": "code",
      "source": [
        "print(students[0])"
      ],
      "metadata": {
        "id": "N7Gr9o0by9Wt",
        "colab": {
          "base_uri": "https://localhost:8080/",
          "height": 165
        },
        "outputId": "8e3fb6ff-5555-45e1-f56c-60b410fe61d4"
      },
      "execution_count": 35,
      "outputs": [
        {
          "output_type": "error",
          "ename": "TypeError",
          "evalue": "ignored",
          "traceback": [
            "\u001b[0;31m---------------------------------------------------------------------------\u001b[0m",
            "\u001b[0;31mTypeError\u001b[0m                                 Traceback (most recent call last)",
            "\u001b[0;32m<ipython-input-35-c821a281da65>\u001b[0m in \u001b[0;36m<module>\u001b[0;34m()\u001b[0m\n\u001b[0;32m----> 1\u001b[0;31m \u001b[0mprint\u001b[0m\u001b[0;34m(\u001b[0m\u001b[0mstudents\u001b[0m\u001b[0;34m[\u001b[0m\u001b[0;36m0\u001b[0m\u001b[0;34m]\u001b[0m\u001b[0;34m)\u001b[0m\u001b[0;34m\u001b[0m\u001b[0;34m\u001b[0m\u001b[0m\n\u001b[0m",
            "\u001b[0;31mTypeError\u001b[0m: 'set' object is not subscriptable"
          ]
        }
      ]
    },
    {
      "cell_type": "code",
      "source": [
        "for student in students:\n",
        "  print(student)"
      ],
      "metadata": {
        "id": "-Mp9DZQay9j9",
        "colab": {
          "base_uri": "https://localhost:8080/"
        },
        "outputId": "faebbb17-c2d4-41e6-c822-03f3b9421cfd"
      },
      "execution_count": 36,
      "outputs": [
        {
          "output_type": "stream",
          "name": "stdout",
          "text": [
            "Berkcan\n",
            "Mete\n",
            "Şevval\n",
            "Nurana\n"
          ]
        }
      ]
    },
    {
      "cell_type": "code",
      "source": [
        "print(\"Berkcan\" in students)"
      ],
      "metadata": {
        "colab": {
          "base_uri": "https://localhost:8080/"
        },
        "id": "LJBIkIa38Rt0",
        "outputId": "ee035833-1a7c-454c-843e-ee31b6525022"
      },
      "execution_count": 37,
      "outputs": [
        {
          "output_type": "stream",
          "name": "stdout",
          "text": [
            "True\n"
          ]
        }
      ]
    },
    {
      "cell_type": "markdown",
      "source": [
        "# Set Metotları\n",
        "## add()\n",
        "- Veri eklemeyi sağlar."
      ],
      "metadata": {
        "id": "cJVMdbrgy98c"
      }
    },
    {
      "cell_type": "code",
      "source": [
        "students.add(\"Ali\")\n",
        "print(students)"
      ],
      "metadata": {
        "id": "ZkILCuQrzCBp",
        "colab": {
          "base_uri": "https://localhost:8080/"
        },
        "outputId": "22310d7f-a7cc-4471-b215-4de4f0dfbf53"
      },
      "execution_count": 38,
      "outputs": [
        {
          "output_type": "stream",
          "name": "stdout",
          "text": [
            "{'Ali', 'Mete', 'Berkcan', 'Şevval', 'Nurana'}\n"
          ]
        }
      ]
    },
    {
      "cell_type": "markdown",
      "source": [
        "## update()\n",
        "- Çoklu veri eklemeyi sağlar."
      ],
      "metadata": {
        "id": "ceGYNa0DzCf-"
      }
    },
    {
      "cell_type": "code",
      "source": [
        "students.update([\"Seher\",\"Zümra\"])\n",
        "print(students)"
      ],
      "metadata": {
        "id": "SzB7mFlZzHwS",
        "colab": {
          "base_uri": "https://localhost:8080/"
        },
        "outputId": "44b2a38c-cad2-4156-b47f-c959901d30f4"
      },
      "execution_count": 40,
      "outputs": [
        {
          "output_type": "stream",
          "name": "stdout",
          "text": [
            "{'r', 'Ali', 'Zümra', 'Seher', 'S', 'e', 'h', 'Mete', 'Z', 'ü', 'a', 'Berkcan', 'm', 'Şevval', 'Nurana'}\n"
          ]
        }
      ]
    },
    {
      "cell_type": "markdown",
      "source": [
        "##remove()\n",
        "- Silme işlemini yapar"
      ],
      "metadata": {
        "id": "H0hxNc9zzIEe"
      }
    },
    {
      "cell_type": "code",
      "source": [
        "students.remove(\"r\")\n",
        "students.remove(\"S\")\n",
        "students.remove(\"e\")\n",
        "print(students)"
      ],
      "metadata": {
        "id": "msdTDK6gzLyU",
        "colab": {
          "base_uri": "https://localhost:8080/"
        },
        "outputId": "d773bf7f-2e14-43f8-f22e-4d933bd84f90"
      },
      "execution_count": 41,
      "outputs": [
        {
          "output_type": "stream",
          "name": "stdout",
          "text": [
            "{'Ali', 'Zümra', 'Seher', 'h', 'Mete', 'Z', 'ü', 'a', 'Berkcan', 'm', 'Şevval', 'Nurana'}\n"
          ]
        }
      ]
    },
    {
      "cell_type": "markdown",
      "source": [
        "##pop()\n",
        "- Listeninin ilk elemanını siler."
      ],
      "metadata": {
        "id": "smSjOGS5zO6D"
      }
    },
    {
      "cell_type": "code",
      "source": [
        "students.pop()\n",
        "print(students)"
      ],
      "metadata": {
        "id": "eJaLtdL4zRxu",
        "colab": {
          "base_uri": "https://localhost:8080/"
        },
        "outputId": "521562f6-eb9e-485f-c15a-8ff0a2b1178f"
      },
      "execution_count": 42,
      "outputs": [
        {
          "output_type": "stream",
          "name": "stdout",
          "text": [
            "{'Zümra', 'Seher', 'h', 'Mete', 'Z', 'ü', 'a', 'Berkcan', 'm', 'Şevval', 'Nurana'}\n"
          ]
        }
      ]
    },
    {
      "cell_type": "markdown",
      "source": [
        "## clear()\n",
        "- Set'in içini boşaltır."
      ],
      "metadata": {
        "id": "_blkVUCuzR_w"
      }
    },
    {
      "cell_type": "code",
      "source": [
        "students.clear()\n",
        "print(students)"
      ],
      "metadata": {
        "id": "TgjwMXFizWXi",
        "colab": {
          "base_uri": "https://localhost:8080/"
        },
        "outputId": "06fb16ff-7b67-46a4-d2d7-e2643aac92ee"
      },
      "execution_count": 43,
      "outputs": [
        {
          "output_type": "stream",
          "name": "stdout",
          "text": [
            "set()\n"
          ]
        }
      ]
    },
    {
      "cell_type": "markdown",
      "source": [
        "#DICTIONARIES(SÖZLÜKLER)\n",
        "- Python'un en güçlü veri koleksiyonudur.\n",
        "- Python'da hızlı veritabanı işlemleri yapmamızı sağlar.\n",
        "- PHP'de => ilişkili diziler\n",
        "- Java => properties ya da Map ya da HashMap\n",
        "- C# ve .Net => property bag\n",
        "- Sözlükler sırasızdır, bu da dizin numaralarını onlar için işe yaramaz hale getirir (yine de kullanılabilir)\n",
        "- Sözlük içinde bir değer kullanmak istiyorsanız, o değerin anahtar adını kullanarak onu çağırmamız gerekir.\n",
        "- \"dict()\" işlevi kullanılarak boş sözlükler oluşturulabilir\n",
        "- Bir sözlüğe oluşturduktan sonra bile bir anahtar ve bir değer atayabilirsiniz. Bu da listelerin ve sözlüklerin değişken olduğunu gösterir.\n",
        "Sözlüklerde var olmayan bir şey ararsanız geri izleme alırsınız\n",
        "- {} içerisinde tanımlanır."
      ],
      "metadata": {
        "id": "o6p0ayYbzhU9"
      }
    },
    {
      "cell_type": "markdown",
      "source": [
        "# key- value pairing (anahtar kelime - değer eşleşmesi\n",
        "{\"anahtar kelime\" : \"deger\"}\n",
        "\n",
        "{\"key\" : \"value\"}"
      ],
      "metadata": {
        "id": "d_nWXjyhzxlf"
      }
    },
    {
      "cell_type": "code",
      "source": [
        "yemekKaloriSozlugu = {\"Elma\" : 100, \"Armut\" : 200, \"Muz\" : 300}\n",
        "print(yemekKaloriSozlugu)\n",
        "print(type(yemekKaloriSozlugu))"
      ],
      "metadata": {
        "id": "ULXzty9Mz0Mb",
        "colab": {
          "base_uri": "https://localhost:8080/"
        },
        "outputId": "d270fc0f-e608-4f4b-fb03-d26bc0db8913"
      },
      "execution_count": 44,
      "outputs": [
        {
          "output_type": "stream",
          "name": "stdout",
          "text": [
            "{'Elma': 100, 'Armut': 200, 'Muz': 300}\n",
            "<class 'dict'>\n"
          ]
        }
      ]
    },
    {
      "cell_type": "code",
      "source": [
        "sozluk = {\n",
        "    \"book\" : \"kitap\",\n",
        "    \"table\" : \"masa\"\n",
        "}"
      ],
      "metadata": {
        "id": "NpdDR7PUBnwY"
      },
      "execution_count": 45,
      "outputs": []
    },
    {
      "cell_type": "markdown",
      "source": [
        "# Veri Güncelleme"
      ],
      "metadata": {
        "id": "JWXLgKTIz83I"
      }
    },
    {
      "cell_type": "code",
      "source": [
        "sozluk[\"book\"] = \"Kitap\"\n",
        "print(sozluk)"
      ],
      "metadata": {
        "id": "75LAgQEW0aAp",
        "colab": {
          "base_uri": "https://localhost:8080/"
        },
        "outputId": "fa7c7277-048f-4d5a-c8e1-f42244dd3e43"
      },
      "execution_count": 46,
      "outputs": [
        {
          "output_type": "stream",
          "name": "stdout",
          "text": [
            "{'book': 'Kitap', 'table': 'masa'}\n"
          ]
        }
      ]
    },
    {
      "cell_type": "markdown",
      "source": [
        "#Veri Ekleme\n"
      ],
      "metadata": {
        "id": "GXAdrLXJ0am4"
      }
    },
    {
      "cell_type": "code",
      "source": [
        "sozluk[\"pencil\"] = \"kalem\"\n",
        "print(sozluk)"
      ],
      "metadata": {
        "id": "mwcJE5CW0dHc",
        "colab": {
          "base_uri": "https://localhost:8080/"
        },
        "outputId": "ecf973a4-fd4f-4daf-f36f-7f1a424d4436"
      },
      "execution_count": 47,
      "outputs": [
        {
          "output_type": "stream",
          "name": "stdout",
          "text": [
            "{'book': 'Kitap', 'table': 'masa', 'pencil': 'kalem'}\n"
          ]
        }
      ]
    },
    {
      "cell_type": "markdown",
      "source": [
        "# Veri Silme\n"
      ],
      "metadata": {
        "id": "8Hmz6EeY0dWX"
      }
    },
    {
      "cell_type": "code",
      "source": [
        "del(sozluk[\"book\"])\n",
        "print(sozluk)"
      ],
      "metadata": {
        "id": "zFOdW88r0gVo",
        "colab": {
          "base_uri": "https://localhost:8080/"
        },
        "outputId": "af67f382-58c1-4e2e-b165-2cee00318971"
      },
      "execution_count": 48,
      "outputs": [
        {
          "output_type": "stream",
          "name": "stdout",
          "text": [
            "{'table': 'masa', 'pencil': 'kalem'}\n"
          ]
        }
      ]
    },
    {
      "cell_type": "markdown",
      "source": [
        "# Sözlüklerde Metotlar\n",
        "## .keys() Metodu\n",
        "Sözlüğümüzde bulunan bütün key değerlerini verir.\n",
        "\n",
        "## .values() Metodu\n",
        "- Sözlüğümüzde bulunan bütün value değerlerini verir.\n",
        "\n",
        "##.items() Metodu\n",
        "- Sözlüğümüzde bulunan bütün key value değerlerini tuple halinde verir."
      ],
      "metadata": {
        "id": "UzjiSEET0gwv"
      }
    },
    {
      "cell_type": "code",
      "source": [
        "print(sozluk.keys())"
      ],
      "metadata": {
        "id": "XvZ-UeyY0wjs",
        "colab": {
          "base_uri": "https://localhost:8080/"
        },
        "outputId": "b00a74d4-6eb4-4943-e219-aa73758cb70f"
      },
      "execution_count": 49,
      "outputs": [
        {
          "output_type": "stream",
          "name": "stdout",
          "text": [
            "dict_keys(['table', 'pencil'])\n"
          ]
        }
      ]
    },
    {
      "cell_type": "code",
      "source": [
        "print(sozluk.values())"
      ],
      "metadata": {
        "id": "W9u64wlI0wuq",
        "colab": {
          "base_uri": "https://localhost:8080/"
        },
        "outputId": "d1a9ae8c-7a04-4ad6-9429-dce70c2fc1fe"
      },
      "execution_count": 50,
      "outputs": [
        {
          "output_type": "stream",
          "name": "stdout",
          "text": [
            "dict_values(['masa', 'kalem'])\n"
          ]
        }
      ]
    },
    {
      "cell_type": "code",
      "source": [
        "print(sozluk.items())"
      ],
      "metadata": {
        "id": "Ag8K7WFK0xCk",
        "colab": {
          "base_uri": "https://localhost:8080/"
        },
        "outputId": "d7d9a324-c0bf-4b14-c43f-b5707115f2ce"
      },
      "execution_count": 51,
      "outputs": [
        {
          "output_type": "stream",
          "name": "stdout",
          "text": [
            "dict_items([('table', 'masa'), ('pencil', 'kalem')])\n"
          ]
        }
      ]
    },
    {
      "cell_type": "markdown",
      "source": [
        "#UYGULAMALAR"
      ],
      "metadata": {
        "id": "C3p2iWAf09GY"
      }
    },
    {
      "cell_type": "markdown",
      "source": [
        "    ogrenciler = {\n",
        "        '120': {\n",
        "            'ad': 'Ali',\n",
        "            'soyad': 'Yılmaz',\n",
        "            'telefon': '532 000 00 01'\n",
        "        },\n",
        "\n",
        "    }\n",
        "    1- Bilgileri verilen öğrencileri kullanıcıdan aldığınız bilgilerle\n",
        "       dictionary içinde saklayınız.\n",
        "    2- Öğrenci numarasını kullanıcıdan alıp ilgili öğrenci bilgisini gösterin."
      ],
      "metadata": {
        "id": "f21jIJRS0_Q9"
      }
    },
    {
      "cell_type": "code",
      "source": [
        "ogrenciler = {}\n",
        "number = int(input(\"Öğrenci numarası giriniz : \"))\n",
        "name = input(\"Öğrenci ismini giriniz : \")\n",
        "surname = input(\"Öğrenci soyadını giriniz : \")\n",
        "phoneNumber = int(input(\"Öğrenci telefon numarası giriniz : \"))\n",
        "\n",
        "ogrenciler.update({\n",
        "    number: {\n",
        "        'ad' : name,\n",
        "        'soyad' : surname,\n",
        "        'telefon' : phoneNumber\n",
        "    }\n",
        "})\n",
        "print(\"*\"*50)\n",
        "studentNumber = int(input(\"Öğrenci no giriniz :\"))\n",
        "ogrenci = ogrenciler[studentNumber]\n",
        "\n",
        "print(f\"Aradığınız {studentNumber} nolu öğrencinin adı : {ogrenci['ad']}\")"
      ],
      "metadata": {
        "id": "kAPx25yZ1AhK",
        "colab": {
          "base_uri": "https://localhost:8080/"
        },
        "outputId": "9c4fbe45-8bb1-4a2e-bea5-48eff61207aa"
      },
      "execution_count": 54,
      "outputs": [
        {
          "output_type": "stream",
          "name": "stdout",
          "text": [
            "Öğrenci numarası giriniz : 123\n",
            "Öğrenci ismini giriniz : Berkcan\n",
            "Öğrenci soyadını giriniz : Gümüşışık\n",
            "Öğrenci telefon numarası giriniz : 123\n",
            "**************************************************\n",
            "Öğrenci no giriniz :123\n",
            "Aradığınız 123 nolu öğrencinin adı : Berkcan\n"
          ]
        }
      ]
    },
    {
      "cell_type": "markdown",
      "source": [
        "Sözlükleri Kullanarak Bir Telefon Rehberi Yazın. Bu rehberde kullanıcıya kimin telefonunu görüntülemek istediğini \n",
        "sorun ve kullanıcının girdiği isme göre o kişinin telefon numarasını yazdırın. Proje sonunda elde edeceğiniz çıktı \n",
        "şuna benzer olmalı:\n",
        "Lütfen numarasını öğrenmek istediğiniz kişinin adını girin: Ahmet\n",
        "Ahmet isimli kişinin numarası şu şekildedir: 0532 862 98 47"
      ],
      "metadata": {
        "id": "nooIRfld1A2E"
      }
    },
    {
      "cell_type": "code",
      "source": [
        "telefonRehberi = {\n",
        "    \"Ahmet\" : \"123\",\n",
        "    \"Mehmet\" : \"456\",\n",
        "    \"Ayşe\": \"789\"\n",
        "}\n",
        "name = input(\"Lütfen numarasını öğrenmek istediğiniz kişiyi yazınız : \")\n",
        "print(f\"{name} isimli kişinin numarası : {telefonRehberi[name]}\")"
      ],
      "metadata": {
        "id": "h50k-QgI1GTu",
        "colab": {
          "base_uri": "https://localhost:8080/"
        },
        "outputId": "fdff6b95-13c5-483b-dcaf-6d72f27d5cef"
      },
      "execution_count": 55,
      "outputs": [
        {
          "output_type": "stream",
          "name": "stdout",
          "text": [
            "Lütfen numarasını öğrenmek istediğiniz kişiyi yazınız : Ahmet\n",
            "Ahmet isimli kişinin numarası : 123\n"
          ]
        }
      ]
    },
    {
      "cell_type": "markdown",
      "source": [
        "Sözlükleri kullanarak bir şirket çalışanları indeksi oluşturun. Bu isim indeksinde kişilerin isimleri key, kişilerin şu \n",
        "bilgileri de value olmalı: memleket, yaş, görev. Burada kullanacağımız value liste olmalı. \n",
        "\n",
        "Daha sonra bir isim sorgulama ekranı gibi kullanıcıya kimin bilgilerini görüntülemek istediğini \n",
        "sorun ve sorgulanan kişinin ekranda gösterilmesini sağlayın. Proje sonunda elde edeceğiniz çıktı şu şekilde olmalı:\n",
        "\n",
        "Lütfen bilgilerini görüntülemek istediğiniz çalışanın ismini girin: Mehmet Yağız\n",
        "\n",
        "Mehmet Yağız= Memleket: Adana Yaş: 40 Görev: Direktör"
      ],
      "metadata": {
        "id": "gLhg_Gn31Gya"
      }
    },
    {
      "cell_type": "code",
      "source": [
        ""
      ],
      "metadata": {
        "id": "OlgPsrNp1T3M"
      },
      "execution_count": null,
      "outputs": []
    },
    {
      "cell_type": "markdown",
      "source": [
        "5 öğrenciden oluşan bir öğrenci not sözlüğü oluşturun. Bu sözlükte \n",
        "öğrencilerin notları value olarak bir listede toplansın.\n",
        "Kullanıcıya hangi öğrencinin notlarını görmek istediğini sorun. \n",
        "Öğrencinin notu görüntülendiğinde program sonunda şöyle bir çıktı elde etmelisiniz:\n",
        "```\n",
        "Lütfen notlarını görmek istediğiniz öğrencinin adını girin: Mehmet\n",
        "Mehmet isimli öğrencinin 1.Sınav Notu:72\n",
        "                              2.Sınav Notu:66\n",
        "                              3.Sınav Notu:48\n",
        "Not Ortalaması: 62.0\n",
        "```"
      ],
      "metadata": {
        "id": "Uu0wA8Jb1UZ5"
      }
    },
    {
      "cell_type": "code",
      "source": [
        ""
      ],
      "metadata": {
        "id": "NnlDLgTt1Z6L"
      },
      "execution_count": null,
      "outputs": []
    }
  ]
}