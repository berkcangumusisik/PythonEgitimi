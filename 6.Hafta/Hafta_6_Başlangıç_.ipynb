{
  "nbformat": 4,
  "nbformat_minor": 0,
  "metadata": {
    "colab": {
      "name": "Hafta 6 Başlangıç .ipynb",
      "provenance": []
    },
    "kernelspec": {
      "name": "python3",
      "display_name": "Python 3"
    },
    "language_info": {
      "name": "python"
    }
  },
  "cells": [
    {
      "cell_type": "markdown",
      "source": [
        "# String Fonksiyonları\n",
        "### Len Metodu\n",
        "- Bir metnin kaç karakterden oluştuğunu verir."
      ],
      "metadata": {
        "id": "3cPAyhaBioQH"
      }
    },
    {
      "cell_type": "code",
      "source": [
        ""
      ],
      "metadata": {
        "id": "WCEWKKv7iygy"
      },
      "execution_count": null,
      "outputs": []
    },
    {
      "cell_type": "code",
      "source": [
        ""
      ],
      "metadata": {
        "id": "cOPzwS6kiyaC"
      },
      "execution_count": null,
      "outputs": []
    },
    {
      "cell_type": "code",
      "source": [
        ""
      ],
      "metadata": {
        "id": "34r1jXxRiyPG"
      },
      "execution_count": null,
      "outputs": []
    },
    {
      "cell_type": "code",
      "source": [
        "y = \"Merhaba Berkcan\"\n",
        "print(y[len(y)-1:len(y)])"
      ],
      "metadata": {
        "id": "-1TBXtBXivOu"
      },
      "execution_count": null,
      "outputs": []
    },
    {
      "cell_type": "markdown",
      "source": [
        "### Upper Metodu\n",
        "- Metinsel ifadeyi büyük harflerle yazmayı sağlar."
      ],
      "metadata": {
        "id": "VIcLemb3iuzj"
      }
    },
    {
      "cell_type": "code",
      "source": [
        ""
      ],
      "metadata": {
        "id": "9u9XfURAi25e"
      },
      "execution_count": null,
      "outputs": []
    },
    {
      "cell_type": "code",
      "source": [
        ""
      ],
      "metadata": {
        "id": "kRhoG59ai3Jl"
      },
      "execution_count": null,
      "outputs": []
    },
    {
      "cell_type": "markdown",
      "source": [
        "### Lower Metodu\n",
        "- Metinsel ifadeyi küçük harflerle yazmayı sağlar."
      ],
      "metadata": {
        "id": "JVwyoESOi3bm"
      }
    },
    {
      "cell_type": "code",
      "source": [
        ""
      ],
      "metadata": {
        "id": "eNs2M2yrjJJI"
      },
      "execution_count": null,
      "outputs": []
    },
    {
      "cell_type": "code",
      "source": [
        ""
      ],
      "metadata": {
        "id": "TpTXwK1SjJj5"
      },
      "execution_count": null,
      "outputs": []
    },
    {
      "cell_type": "markdown",
      "source": [
        "### Replace Metodu\n",
        "- Metinsel ifadeleri değiştirmeyi sağlar."
      ],
      "metadata": {
        "id": "gNvMMxe6jLow"
      }
    },
    {
      "cell_type": "code",
      "source": [
        ""
      ],
      "metadata": {
        "id": "_0ytrrVnjO6X"
      },
      "execution_count": null,
      "outputs": []
    },
    {
      "cell_type": "code",
      "source": [
        ""
      ],
      "metadata": {
        "id": "nNi4oexyjPLD"
      },
      "execution_count": null,
      "outputs": []
    },
    {
      "cell_type": "markdown",
      "source": [
        "###Split Metodu\n",
        "- Metinsel ifadeleri kelime kelime ayırmayı sağlar.\n",
        "- Eğer boşluk bırakmak istersek .split(\" \") yapmalıyız. Aslında neyle ayırmak istersek onu ekliyoruz.\n"
      ],
      "metadata": {
        "id": "Ptme9nlbjPct"
      }
    },
    {
      "cell_type": "code",
      "source": [
        ""
      ],
      "metadata": {
        "id": "UM7CDUEojVqW"
      },
      "execution_count": null,
      "outputs": []
    },
    {
      "cell_type": "code",
      "source": [
        ""
      ],
      "metadata": {
        "id": "nZW1HWbrjYVr"
      },
      "execution_count": null,
      "outputs": []
    },
    {
      "cell_type": "code",
      "source": [
        ""
      ],
      "metadata": {
        "id": "nMlI_TfijYk3"
      },
      "execution_count": null,
      "outputs": []
    },
    {
      "cell_type": "markdown",
      "source": [
        "### Strip Metodu\n",
        "- Silmeyi sağlar.\n",
        "- lstrip() soldan silmeyi sağlar.\n",
        "- rstrip() sağdan silmei sağlar."
      ],
      "metadata": {
        "id": "x2PM29-FjY6U"
      }
    },
    {
      "cell_type": "code",
      "source": [
        ""
      ],
      "metadata": {
        "id": "GBl5yx3CjdJB"
      },
      "execution_count": null,
      "outputs": []
    },
    {
      "cell_type": "code",
      "source": [
        ""
      ],
      "metadata": {
        "id": "4YfRa0Y1jeZ-"
      },
      "execution_count": null,
      "outputs": []
    },
    {
      "cell_type": "code",
      "source": [
        ""
      ],
      "metadata": {
        "id": "8L_ZUTE1jewq"
      },
      "execution_count": null,
      "outputs": []
    },
    {
      "cell_type": "code",
      "source": [
        ""
      ],
      "metadata": {
        "id": "lZ7HEXDnje61"
      },
      "execution_count": null,
      "outputs": []
    },
    {
      "cell_type": "markdown",
      "source": [
        "### Count Metodu\n",
        "- Bir karakterden kaç tane olduğunu sayar."
      ],
      "metadata": {
        "id": "m_KY5tXejfTB"
      }
    },
    {
      "cell_type": "code",
      "source": [
        ""
      ],
      "metadata": {
        "id": "oR0r-3ifjjL1"
      },
      "execution_count": null,
      "outputs": []
    },
    {
      "cell_type": "markdown",
      "source": [
        "###startswith Metodu\n",
        "- Bir dizinin bir şeyle başlayıp başlamadığının kontrolünü sağlar true ya da false değer döndürür.\n",
        "\n",
        "\n",
        "###endswith Metodu\n",
        "- Bir dizinin bir şeyle bitip bitmediğinin kontrolünü sağlar true ya da false değer döndürür."
      ],
      "metadata": {
        "id": "SdKnM-UnjjlJ"
      }
    },
    {
      "cell_type": "code",
      "source": [
        ""
      ],
      "metadata": {
        "id": "-QYT-v0kjquZ"
      },
      "execution_count": null,
      "outputs": []
    },
    {
      "cell_type": "code",
      "source": [
        ""
      ],
      "metadata": {
        "id": "O1vtfVBIjuN5"
      },
      "execution_count": null,
      "outputs": []
    },
    {
      "cell_type": "code",
      "source": [
        ""
      ],
      "metadata": {
        "id": "jxP5M3Zmjuct"
      },
      "execution_count": null,
      "outputs": []
    },
    {
      "cell_type": "markdown",
      "source": [
        "### Find Metodu\n",
        "- Bir ifadenin string içinde kaçıncı indexten itibaren başladığını verir."
      ],
      "metadata": {
        "id": "6cfm2neyjuyN"
      }
    },
    {
      "cell_type": "code",
      "source": [
        ""
      ],
      "metadata": {
        "id": "wXmOfc1VjzdO"
      },
      "execution_count": null,
      "outputs": []
    },
    {
      "cell_type": "code",
      "source": [
        ""
      ],
      "metadata": {
        "id": "tFEqibc7j4uT"
      },
      "execution_count": null,
      "outputs": []
    },
    {
      "cell_type": "code",
      "source": [
        ""
      ],
      "metadata": {
        "id": "zekjenaGj4-7"
      },
      "execution_count": null,
      "outputs": []
    },
    {
      "cell_type": "markdown",
      "source": [
        "### isalpha Metodu\n",
        "- Bir ifadenin alfabetik olup olmadığını söyler.\n",
        "- True ya da false değer döndürür.\n",
        "\n",
        "\n",
        "###isdigit Metodu\n",
        "- Bir ifadenin rakamlarının sıralı olup olmadığını söyler.\n",
        "- True ya da false değer döndürür."
      ],
      "metadata": {
        "id": "SQN6Y7wXj5Tb"
      }
    },
    {
      "cell_type": "code",
      "source": [
        ""
      ],
      "metadata": {
        "id": "fkr1aqtCkBN5"
      },
      "execution_count": null,
      "outputs": []
    },
    {
      "cell_type": "code",
      "source": [
        ""
      ],
      "metadata": {
        "id": "DIW5mJXkkBpR"
      },
      "execution_count": null,
      "outputs": []
    },
    {
      "cell_type": "code",
      "source": [
        ""
      ],
      "metadata": {
        "id": "4HxGrAwrkBjy"
      },
      "execution_count": null,
      "outputs": []
    },
    {
      "cell_type": "markdown",
      "source": [
        "### Capitalize Metodu\n",
        "- Bir string ifadenin ilk harfini büyütür."
      ],
      "metadata": {
        "id": "QlUXRllOkB-3"
      }
    },
    {
      "cell_type": "code",
      "source": [
        ""
      ],
      "metadata": {
        "id": "Jy10hxXHkEpC"
      },
      "execution_count": null,
      "outputs": []
    },
    {
      "cell_type": "code",
      "source": [
        ""
      ],
      "metadata": {
        "id": "B4_DhzpjkG9V"
      },
      "execution_count": null,
      "outputs": []
    },
    {
      "cell_type": "markdown",
      "source": [
        "### Bir Cümleyi Alt Satıra Geçirme \\n ile yapılır."
      ],
      "metadata": {
        "id": "STtevcj2kHNB"
      }
    },
    {
      "cell_type": "code",
      "source": [
        ""
      ],
      "metadata": {
        "id": "UQJrIE2ykKHz"
      },
      "execution_count": null,
      "outputs": []
    },
    {
      "cell_type": "code",
      "source": [
        ""
      ],
      "metadata": {
        "id": "vPYJ227OkKna"
      },
      "execution_count": null,
      "outputs": []
    },
    {
      "cell_type": "code",
      "source": [
        ""
      ],
      "metadata": {
        "id": "kri-wDShkK2A"
      },
      "execution_count": null,
      "outputs": []
    },
    {
      "cell_type": "markdown",
      "source": [
        "# UYGULAMALAR\n",
        "website = \"https://github.com/berkcangumusisik\"\n",
        "\n",
        "course  = \"Python Programlama Kursu\"\n",
        "\n",
        "1- 'course' karakter dizisinde kaç karakter bulunmaktadır ?\n"
      ],
      "metadata": {
        "id": "jCCReV3okXuA"
      }
    },
    {
      "cell_type": "code",
      "source": [
        ""
      ],
      "metadata": {
        "id": "ojOD5fQCkb03"
      },
      "execution_count": null,
      "outputs": []
    },
    {
      "cell_type": "markdown",
      "source": [
        "2- 'website' içinden www karakterlerini alın.)\n"
      ],
      "metadata": {
        "id": "Qv-JOy7zkkjE"
      }
    },
    {
      "cell_type": "code",
      "source": [
        ""
      ],
      "metadata": {
        "id": "ff4qoEvIlQ_7"
      },
      "execution_count": null,
      "outputs": []
    },
    {
      "cell_type": "markdown",
      "source": [
        "3- 'website' içinden com karakterlerini alın.\n",
        "\n"
      ],
      "metadata": {
        "id": "onF1rLXAlRPb"
      }
    },
    {
      "cell_type": "code",
      "source": [
        ""
      ],
      "metadata": {
        "id": "ns5e81unlSvu"
      },
      "execution_count": null,
      "outputs": []
    },
    {
      "cell_type": "markdown",
      "source": [
        "4- 'course' içinden ilk 15 ve son 15 karakterlerini alın.\n"
      ],
      "metadata": {
        "id": "4bw71_mklTHT"
      }
    },
    {
      "cell_type": "code",
      "source": [
        ""
      ],
      "metadata": {
        "id": "crPLR7S2lU0W"
      },
      "execution_count": null,
      "outputs": []
    },
    {
      "cell_type": "markdown",
      "source": [
        "5- 'course' ifadesindeki karakterleri tersten yazdırın.\n",
        "\n"
      ],
      "metadata": {
        "id": "lyv5KtxolVBm"
      }
    },
    {
      "cell_type": "code",
      "source": [
        ""
      ],
      "metadata": {
        "id": "g4EW3veKlWpB"
      },
      "execution_count": null,
      "outputs": []
    },
    {
      "cell_type": "markdown",
      "source": [
        "name, surname, age, job = 'Berkcan','Gümüşışık', 22, 'Öğrenci'\n",
        "6- Yukarıda verilen değişkenler ile ekrana aşağıdaki ifadeyi yazdırın.\n"
      ],
      "metadata": {
        "id": "IJlYcdsAlXUl"
      }
    },
    {
      "cell_type": "code",
      "source": [
        ""
      ],
      "metadata": {
        "id": "3z9kbN1RlXEv"
      },
      "execution_count": null,
      "outputs": []
    },
    {
      "cell_type": "markdown",
      "source": [
        "7- 'Hello world' ifadesindeki w harfini 'W' ile değiştirin.\n"
      ],
      "metadata": {
        "id": "HSjHm1G0lZg4"
      }
    },
    {
      "cell_type": "code",
      "source": [
        ""
      ],
      "metadata": {
        "id": "VAvd4_TelZFm"
      },
      "execution_count": null,
      "outputs": []
    },
    {
      "cell_type": "markdown",
      "source": [
        "8- 'abc' ifadesini yan yana 3 defa yazdırın.\n"
      ],
      "metadata": {
        "id": "i6jY9EA5lbwS"
      }
    },
    {
      "cell_type": "code",
      "source": [
        ""
      ],
      "metadata": {
        "id": "v6buk5zflbP1"
      },
      "execution_count": null,
      "outputs": []
    },
    {
      "cell_type": "markdown",
      "source": [
        "9-  ' Hello World ' karakter dizisinin baş ve sondaki boşluk karakterlerini silin.\n"
      ],
      "metadata": {
        "id": "ZQ2J9C9EldqI"
      }
    },
    {
      "cell_type": "code",
      "source": [
        ""
      ],
      "metadata": {
        "id": "jc9oz9f4ldci"
      },
      "execution_count": null,
      "outputs": []
    },
    {
      "cell_type": "markdown",
      "source": [
        "10- 'website' içindeki berkcangumusisik bilgisi haricindeki her karakteri silin.\n"
      ],
      "metadata": {
        "id": "e4-dy6welf5M"
      }
    },
    {
      "cell_type": "code",
      "source": [
        ""
      ],
      "metadata": {
        "id": "aqLoD1TYlhPh"
      },
      "execution_count": null,
      "outputs": []
    },
    {
      "cell_type": "markdown",
      "source": [
        "11-  'course' karakter dizisinin tüm karakterlerini küçük harf yapın.\n"
      ],
      "metadata": {
        "id": "hEIKkxsflhbZ"
      }
    },
    {
      "cell_type": "code",
      "source": [
        ""
      ],
      "metadata": {
        "id": "7gUI4PGIljIJ"
      },
      "execution_count": null,
      "outputs": []
    },
    {
      "cell_type": "markdown",
      "source": [
        "12 - 'website' içinde kaç tane a karakteri vardır ? (count('a'))\n"
      ],
      "metadata": {
        "id": "Ca43fKoKljSy"
      }
    },
    {
      "cell_type": "code",
      "source": [
        ""
      ],
      "metadata": {
        "id": "VBMQSlH5lkrX"
      },
      "execution_count": null,
      "outputs": []
    },
    {
      "cell_type": "markdown",
      "source": [
        "13 - 'website' \"www\" ile başlayıp com ile bitiyor mu?\n"
      ],
      "metadata": {
        "id": "CfsPMadClk1s"
      }
    },
    {
      "cell_type": "code",
      "source": [
        ""
      ],
      "metadata": {
        "id": "xTEY9kKOlmyh"
      },
      "execution_count": null,
      "outputs": []
    },
    {
      "cell_type": "markdown",
      "source": [
        "14 -  'website' içinde '.com' ifadesi var mı?\n"
      ],
      "metadata": {
        "id": "gVEJoUWUlm8q"
      }
    },
    {
      "cell_type": "code",
      "source": [
        ""
      ],
      "metadata": {
        "id": "Kob9wHCNlozs"
      },
      "execution_count": null,
      "outputs": []
    },
    {
      "cell_type": "markdown",
      "source": [
        "15- 'course' içindeki karakterlerin hepsi alfabetik mi? \n"
      ],
      "metadata": {
        "id": "HvQ7r0JElo_v"
      }
    },
    {
      "cell_type": "code",
      "source": [
        ""
      ],
      "metadata": {
        "id": "UWK5gGFWlq0Y"
      },
      "execution_count": null,
      "outputs": []
    },
    {
      "cell_type": "markdown",
      "source": [
        "16 - 'Contents' ifadesini satırda 50 karakter içine yerleştirip sağ ve soluna * ekleyiniz.\n"
      ],
      "metadata": {
        "id": "sckq5LMulrDm"
      }
    },
    {
      "cell_type": "code",
      "source": [
        ""
      ],
      "metadata": {
        "id": "EaUKpWvMlsr9"
      },
      "execution_count": null,
      "outputs": []
    },
    {
      "cell_type": "markdown",
      "source": [
        "17 -  'course' karakter dizisindeki tüm boşluk karakterlerini '-' ile değiştirin.\n"
      ],
      "metadata": {
        "id": "d0E6jeNsls7I"
      }
    },
    {
      "cell_type": "code",
      "source": [
        ""
      ],
      "metadata": {
        "id": "KDhyEmEYluX-"
      },
      "execution_count": null,
      "outputs": []
    },
    {
      "cell_type": "markdown",
      "source": [
        "18- 'Hello World' karakter dizisinin 'World' ifadesini 'There' olarak değiştirin\n"
      ],
      "metadata": {
        "id": "52CyX_jOlung"
      }
    },
    {
      "cell_type": "code",
      "source": [
        ""
      ],
      "metadata": {
        "id": "hCiV765glwFY"
      },
      "execution_count": null,
      "outputs": []
    },
    {
      "cell_type": "markdown",
      "source": [
        "19-  'course' karakter dizisini boşluk karakterlerinden ayırın"
      ],
      "metadata": {
        "id": "WEqamfpzlwWy"
      }
    },
    {
      "cell_type": "code",
      "source": [
        ""
      ],
      "metadata": {
        "id": "46qltbqhlw3U"
      },
      "execution_count": null,
      "outputs": []
    },
    {
      "cell_type": "markdown",
      "source": [
        "# FONKSİYONLAR\n",
        "- Bir kodu bir çok yerde kullanmamız gerekiyorsa, her yerde tekrar tekrar yazmayı önler.\n",
        "- Programlamanın temeli : DRY(Don't Repeat Yourself - Kendini tekrar etme)\n",
        "- \"def\" anahtar kelimesi temel olarak işlevler oluşturmak için kullanılır.\n",
        "- Fonksiyonların içindeki değişkenler yereldir, yani bir fonksiyonun içinde bir değişken tanımladığınızda, o değişkeni fonksiyonun dışında çağıramayız. Çünkü o değişken o fonksiyona özeldir ve gloabalde kullanılamaz.\n",
        "- def bir şeyi hatırlamaktan başka bir şey yapmaz. Kısacası aracıdır.\n",
        "İşlevler \"islevAdi()\" olarak çağrılabilir. Ve bir işlevi çağırmak istiyorsanız, işlevin adının sonuna parantez eklemeniz gerektiğini, aksi takdirde işlevin içindeki kodu döndürmeniz gerektiğini unutmamalıyız. İşlev adını istediğimiz şekilde verebiliriz. Bir işlev çağrısı başlatıldığında kod işlemi, işlev işlemde kullanmak için bir değer döndürene kadar kısa bir süre duraklayabilir.\n",
        "- Ne zaman bir fonksiyon çağırılırsa, fonksiyonu yazdıktan sonra yapmalısınız."
      ],
      "metadata": {
        "id": "r3DVq1Qil8S0"
      }
    },
    {
      "cell_type": "code",
      "source": [
        ""
      ],
      "metadata": {
        "id": "ym1dUHqSmEZv"
      },
      "execution_count": null,
      "outputs": []
    },
    {
      "cell_type": "code",
      "source": [
        ""
      ],
      "metadata": {
        "id": "Ac99fKrmmJHx"
      },
      "execution_count": null,
      "outputs": []
    },
    {
      "cell_type": "code",
      "source": [
        ""
      ],
      "metadata": {
        "id": "9jRm1P3LmJ3b"
      },
      "execution_count": null,
      "outputs": []
    },
    {
      "cell_type": "code",
      "source": [
        ""
      ],
      "metadata": {
        "id": "sKH70urYmJun"
      },
      "execution_count": null,
      "outputs": []
    },
    {
      "cell_type": "markdown",
      "source": [
        "## Argüman:\n",
        "- işlev çağrılırken parantez içindeki işlevlere iletilen değerler (string , number, vb.) (ör. islev_adı (argüman))\n",
        "- Fonksiyon tanımlanırken parantez içinde yazılan değişkenlerdir(Örneğin. islev_adı(parametre):\n",
        "\n",
        "\n",
        "  fonksiyon kodu\n",
        "\n",
        "\n",
        ")\n",
        "- Birden fazla parametre olabilir. Her biri virgülle ayrılır."
      ],
      "metadata": {
        "id": "kmCCPZe0mKQO"
      }
    },
    {
      "cell_type": "code",
      "source": [
        ""
      ],
      "metadata": {
        "id": "tNwx_mm2mQY-"
      },
      "execution_count": null,
      "outputs": []
    },
    {
      "cell_type": "code",
      "source": [
        ""
      ],
      "metadata": {
        "id": "r5uzjY-SmRZw"
      },
      "execution_count": null,
      "outputs": []
    },
    {
      "cell_type": "code",
      "source": [
        ""
      ],
      "metadata": {
        "id": "PCMFnMCxmRVs"
      },
      "execution_count": null,
      "outputs": []
    },
    {
      "cell_type": "code",
      "source": [
        ""
      ],
      "metadata": {
        "id": "HWvYXMIwmRR0"
      },
      "execution_count": null,
      "outputs": []
    },
    {
      "cell_type": "code",
      "source": [
        ""
      ],
      "metadata": {
        "id": "HTOgW6aQmRNR"
      },
      "execution_count": null,
      "outputs": []
    },
    {
      "cell_type": "markdown",
      "source": [
        "# return\n",
        "- Kodun tamamında kullanmak için işlevin kodu tamamlandıktan sonra kalan değeri (sonuç değeri) döndürür\n",
        "- \"return\" anahtar sözcüğünden sonraki kodlar yürütülmez. Bu, görmezden gelindikleri anlamına gelir\n",
        "- Hiçbir şey döndürmeyen bir işleve \"verimli olmayan işlev\" denir\n",
        "- Bir şey döndüren bir işleve \"verimli işlev\" denir"
      ],
      "metadata": {
        "id": "IYGp3scmmRAO"
      }
    },
    {
      "cell_type": "code",
      "source": [
        ""
      ],
      "metadata": {
        "id": "EbD22U4Mn33X"
      },
      "execution_count": null,
      "outputs": []
    },
    {
      "cell_type": "code",
      "source": [
        ""
      ],
      "metadata": {
        "id": "LDiafOisn4nj"
      },
      "execution_count": null,
      "outputs": []
    },
    {
      "cell_type": "markdown",
      "source": [
        "#FONKSİYON UYGULAMALARI"
      ],
      "metadata": {
        "id": "yr2F5CsEn497"
      }
    },
    {
      "cell_type": "markdown",
      "source": [
        "1- Kendisine gönderilen bir kelimeyi belirtilen kez ekranda gösteren fonksiyonu yazınız. \n",
        "\n"
      ],
      "metadata": {
        "id": "1vAGF7OVn8eG"
      }
    },
    {
      "cell_type": "code",
      "source": [
        ""
      ],
      "metadata": {
        "id": "JHm5yJe-n8PU"
      },
      "execution_count": null,
      "outputs": []
    },
    {
      "cell_type": "markdown",
      "source": [
        "2- Dikdörgenin alan ve çevresini hesaplayan fonksiyonu yazınız.\n"
      ],
      "metadata": {
        "id": "mSGVBkepoNdU"
      }
    },
    {
      "cell_type": "code",
      "source": [
        ""
      ],
      "metadata": {
        "id": "Ff4bI-UQoNE_"
      },
      "execution_count": null,
      "outputs": []
    },
    {
      "cell_type": "markdown",
      "source": [
        "3- Yazı tura uygulamasını fonksiyon kullanarak yapınız. (Random modülü)\n"
      ],
      "metadata": {
        "id": "Z0_r2It1oRWn"
      }
    },
    {
      "cell_type": "code",
      "source": [
        ""
      ],
      "metadata": {
        "id": "0M5lDq5EoTdZ"
      },
      "execution_count": null,
      "outputs": []
    },
    {
      "cell_type": "markdown",
      "source": [
        "4- Kendisine gönderilen 2 sayı arasındaki tüm asal sayıları bulan fonksiyonu yazınız.\n"
      ],
      "metadata": {
        "id": "y0SBdH0YoToP"
      }
    },
    {
      "cell_type": "code",
      "source": [
        ""
      ],
      "metadata": {
        "id": "4Kk6g4a2oaUq"
      },
      "execution_count": null,
      "outputs": []
    },
    {
      "cell_type": "markdown",
      "source": [
        "5- Kendisine gönderilen bir sayının tam bölenlerini bir liste şeklinde döndüren fonksiyonu yazınız."
      ],
      "metadata": {
        "id": "Rf_qM51doV_g"
      }
    },
    {
      "cell_type": "code",
      "source": [
        ""
      ],
      "metadata": {
        "id": "AGIZhvEqoa0p"
      },
      "execution_count": null,
      "outputs": []
    },
    {
      "cell_type": "markdown",
      "source": [
        "# Maaş Hesaplayıcı\n",
        "- Brüt ücreti hesaplamak için input() fonksiyonunu kullanarak kullanıcıdan çalışma  saati girdisini alın. Buradan sonra ödeme hesaplaması mantığı için computePay() adlı bir fonksiyon oluşturup işlemler için bu fonksiyonu kullanın. \n",
        "- Çalışma saati 40 ve altındaysa saat başına ücret 10 TL’dir. \n",
        "- 40 saatin üstünde çalışıldıysa saat başına ücret 15 lira sayılmaktadır. \n",
        "- Girilen saate göre ücreti hesaplayan, sizin tarafınızdan oluşturulan \n",
        "fonksiyon ile çalışan bir kod yazınız.\n",
        "```\n",
        "Test etmek için 30 saat değerini giriniz, \n",
        "sonuç 300 TL çıkmalı, ikincil test olarak 50 değerini giriniz, \n",
        "sonuç 750 TL çıkmalı.\n",
        "```"
      ],
      "metadata": {
        "id": "Jn8TO5NUor9J"
      }
    },
    {
      "cell_type": "code",
      "source": [
        ""
      ],
      "metadata": {
        "id": "zDRJZy5RoreF"
      },
      "execution_count": null,
      "outputs": []
    },
    {
      "cell_type": "markdown",
      "source": [
        "# Hız Formülü Hesaplayıcı\n",
        "Fizikte, bir nesnenin sabit ivmeyle hareket ederken son hızını \n",
        "(veya hızını) bulmak için aşağıdaki denklem kullanılabilir:\n",
        "```\n",
        "vf = vi + at\n",
        "burada:\n",
        "vf= son hız\n",
        "vi= ilk hız\n",
        "a= hızlanma\n",
        "t= zaman\n",
        "```\n",
        "İlk hız, ivme ve zaman verildiğinde, son hızı döndürecek bir fonksiyon yazın."
      ],
      "metadata": {
        "id": "hSipLNZSo_KN"
      }
    },
    {
      "cell_type": "code",
      "source": [
        ""
      ],
      "metadata": {
        "id": "eoF7EScJpG09"
      },
      "execution_count": null,
      "outputs": []
    },
    {
      "cell_type": "markdown",
      "source": [
        "# Garip Adam Dışarı\n",
        "Çok sayıda insanı ve çok sayıda grubu alan bir fonksiyon yazın. Kişiler gruplara eşit olarak bölünecektir \n",
        "(fazla kişiler olabilir). Çift grupları oluşturduktan sonra kalan kişi sayısını döndürür."
      ],
      "metadata": {
        "id": "6ZXF6xzCpYef"
      }
    },
    {
      "cell_type": "code",
      "source": [
        ""
      ],
      "metadata": {
        "id": "1GVgyFmypbph"
      },
      "execution_count": null,
      "outputs": []
    },
    {
      "cell_type": "markdown",
      "source": [
        "# *args\n",
        "- Sınırsız sayıda parametreli fonksiyon oluşturmak için parametremizin önüne tek yıldız (*) koyabiliriz.\n",
        "- İsimsiz argümanlardır."
      ],
      "metadata": {
        "id": "xaxlOGAkp7Wz"
      }
    },
    {
      "cell_type": "code",
      "source": [
        ""
      ],
      "metadata": {
        "id": "bz2vM6gEp_f1"
      },
      "execution_count": null,
      "outputs": []
    },
    {
      "cell_type": "code",
      "source": [
        ""
      ],
      "metadata": {
        "id": "hvb8ZMqKp_Ud"
      },
      "execution_count": null,
      "outputs": []
    },
    {
      "cell_type": "code",
      "source": [
        ""
      ],
      "metadata": {
        "id": "obyerVrnp_GY"
      },
      "execution_count": null,
      "outputs": []
    },
    {
      "cell_type": "markdown",
      "source": [
        "# **kwargs\n",
        "- Çift yıldızlı (*) parametrelerin tek yıldızlı () parametrelerden en önemli farkı, fonksiyonu çağırırken anahtar değer ilişkisiyle çağırabilmemizdir.\n",
        "- İsimli argümanlardır."
      ],
      "metadata": {
        "id": "SsJEpvE-p7QE"
      }
    },
    {
      "cell_type": "code",
      "source": [
        ""
      ],
      "metadata": {
        "id": "qFhg_4rDqHCc"
      },
      "execution_count": null,
      "outputs": []
    },
    {
      "cell_type": "code",
      "source": [
        ""
      ],
      "metadata": {
        "id": "a1gzZIhYqHRb"
      },
      "execution_count": null,
      "outputs": []
    },
    {
      "cell_type": "code",
      "source": [
        ""
      ],
      "metadata": {
        "id": "Q0prKMnOqKko"
      },
      "execution_count": null,
      "outputs": []
    },
    {
      "cell_type": "markdown",
      "source": [
        "# Pass Deyimi\n",
        "Python programlamasında pass ifadesi null değer atama için kullanılır. Python’daki bir açıklama ve geçiş ifadesi arasındaki fark, yorumlayıcı bir yorumu tamamen yok sayırken, geçişin göz ardı edilmemesidir."
      ],
      "metadata": {
        "id": "EcPoU5oxqIDg"
      }
    },
    {
      "cell_type": "code",
      "source": [
        ""
      ],
      "metadata": {
        "id": "ZThwOzwRqH62"
      },
      "execution_count": null,
      "outputs": []
    },
    {
      "cell_type": "code",
      "source": [
        ""
      ],
      "metadata": {
        "id": "Cd3dkuV6qLQd"
      },
      "execution_count": null,
      "outputs": []
    },
    {
      "cell_type": "code",
      "source": [
        ""
      ],
      "metadata": {
        "id": "dN3RxsW8qLF2"
      },
      "execution_count": null,
      "outputs": []
    },
    {
      "cell_type": "markdown",
      "source": [
        "#Global ve Yerel Değişkenler\n",
        "- Global değişken fonksiyonlarımızın dışında tanımladığımız değişkenlerdir.\n",
        "- Yerel değişkenler ise fonksiyon içinde kullandığımız değişkenlerdir.\n",
        "- Fonksiyonun dışında tanımladığımız fonksiyonların içinde kullanılırken, fonksiyonların içinde tanımladığımız değişkenler fonksiyon dışında kullanılamaz."
      ],
      "metadata": {
        "id": "kZPKvhscqMAd"
      }
    },
    {
      "cell_type": "code",
      "source": [
        ""
      ],
      "metadata": {
        "id": "8pfTWjucqRPx"
      },
      "execution_count": null,
      "outputs": []
    },
    {
      "cell_type": "code",
      "source": [
        ""
      ],
      "metadata": {
        "id": "mv7JZVs5qR_K"
      },
      "execution_count": null,
      "outputs": []
    },
    {
      "cell_type": "code",
      "source": [
        ""
      ],
      "metadata": {
        "id": "MSUvc0IjqRxm"
      },
      "execution_count": null,
      "outputs": []
    },
    {
      "cell_type": "markdown",
      "source": [
        "# Bir Fonksiyonu Kendi İçinde Çağırmak\n"
      ],
      "metadata": {
        "id": "xQbh0ewPqSct"
      }
    },
    {
      "cell_type": "code",
      "source": [
        ""
      ],
      "metadata": {
        "id": "HImKLePUqWTa"
      },
      "execution_count": null,
      "outputs": []
    },
    {
      "cell_type": "code",
      "source": [
        ""
      ],
      "metadata": {
        "id": "wtNzbNfHqWgO"
      },
      "execution_count": null,
      "outputs": []
    },
    {
      "cell_type": "code",
      "source": [
        ""
      ],
      "metadata": {
        "id": "HOxNf9auqYUB"
      },
      "execution_count": null,
      "outputs": []
    },
    {
      "cell_type": "markdown",
      "source": [
        "# Lambda Gösterimi\n",
        "- Pythonda isimsiz olarak tanımladığımız fonksiyonlara lambda fonksiyonları denir.\n",
        "- Tek satırda yazılırlar.\n",
        "- Gösterimi fonksiyonAdi = lambda parametreler : yapılacakIslem"
      ],
      "metadata": {
        "id": "R-ndOgoyqYop"
      }
    },
    {
      "cell_type": "code",
      "source": [
        ""
      ],
      "metadata": {
        "id": "IbEYAx1YqcKS"
      },
      "execution_count": null,
      "outputs": []
    },
    {
      "cell_type": "code",
      "source": [
        ""
      ],
      "metadata": {
        "id": "megc5z-aqdiP"
      },
      "execution_count": null,
      "outputs": []
    },
    {
      "cell_type": "code",
      "source": [
        ""
      ],
      "metadata": {
        "id": "Zd0__KYRqdZx"
      },
      "execution_count": null,
      "outputs": []
    },
    {
      "cell_type": "markdown",
      "source": [
        "Bir duvar boyamaya karar verdiniz . Boya kutusunun üzerindeki talimatta, 1 kutu boyanın 5 metrekarelik bir duvarı boyayabileceği yazıyor . Rastgele bir duvar yüksekliği ve genişliği verildiğinde, kaç kutu boya satın almanız gerektiğini hesaplayın.\n",
        "\n",
        "\n",
        "kutu sayısı = (duvar yüksekliği + duvar genişliği) ÷ kutu başına kaplama.\n",
        "örneğin Yükseklik = 2, Genişlik = 4, Kapsama = 5\n",
        "kutu sayısı = (2 * 4) ÷ 5 = 1.6\n",
        "\n",
        "\n",
        "Ancak bir kutu boyanın 0,6'sını satın alamayacağınız için, sonuç 2 kutuya yuvarlanmalıdır ."
      ],
      "metadata": {
        "id": "eva7US_Hqd-9"
      }
    },
    {
      "cell_type": "code",
      "source": [
        ""
      ],
      "metadata": {
        "id": "0Y2w_PPeqjq3"
      },
      "execution_count": null,
      "outputs": []
    },
    {
      "cell_type": "markdown",
      "source": [
        "### EBOB hesaplayan bir fonksiyon yazınız.\n"
      ],
      "metadata": {
        "id": "QDQkfG_vqnt_"
      }
    },
    {
      "cell_type": "code",
      "source": [
        ""
      ],
      "metadata": {
        "id": "4IZMviIyqpou"
      },
      "execution_count": null,
      "outputs": []
    },
    {
      "cell_type": "code",
      "source": [
        ""
      ],
      "metadata": {
        "id": "0vQ8DpWDqp9m"
      },
      "execution_count": null,
      "outputs": []
    },
    {
      "cell_type": "markdown",
      "source": [
        "# EKOK hesaplayan bir fonksiyon yazınız.\n"
      ],
      "metadata": {
        "id": "KbBIuq7YqqPc"
      }
    },
    {
      "cell_type": "code",
      "source": [
        ""
      ],
      "metadata": {
        "id": "5_NuxMRAqtI5"
      },
      "execution_count": null,
      "outputs": []
    },
    {
      "cell_type": "markdown",
      "source": [
        "Bir kişinin günlük içmesi gereken su miktarını litre cinsinden bulunuz. Erkekler için kg * 0.04 , kadınlar içn kg*0.03  ile bir kişinin içmesi gereken su bulunabilir.\n"
      ],
      "metadata": {
        "id": "mLKwMgIfqtfD"
      }
    },
    {
      "cell_type": "code",
      "source": [
        ""
      ],
      "metadata": {
        "id": "CO3qhC03qwIU"
      },
      "execution_count": null,
      "outputs": []
    }
  ]
}