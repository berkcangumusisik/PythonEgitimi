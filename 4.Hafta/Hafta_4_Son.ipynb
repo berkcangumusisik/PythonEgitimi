{
  "nbformat": 4,
  "nbformat_minor": 0,
  "metadata": {
    "colab": {
      "name": "Hafta 4 Son",
      "provenance": [],
      "collapsed_sections": []
    },
    "kernelspec": {
      "name": "python3",
      "display_name": "Python 3"
    },
    "language_info": {
      "name": "python"
    }
  },
  "cells": [
    {
      "cell_type": "markdown",
      "source": [
        "# 3. Haftadan Kalan Örnekler\n"
      ],
      "metadata": {
        "id": "V-1r6YGPsQGj"
      }
    },
    {
      "cell_type": "markdown",
      "source": [
        "#UYGULAMA 4\n",
        "Bir yılın artık yıl olup olmadığını kontrol etmek için bir program yazın. \n",
        "Artık yıl kuralı:\n",
        "\n",
        "a) Eğer yılın son iki basamağı (00) ile bitmiyorsa yalnızca 4'e tam bölünmesi\n",
        "gerekir.\n",
        "\n",
        "b) Eğer yılın son iki basamağı (00) ile bitiyorsa hem4'e hem de 400' e tam\n",
        "bölünmesi gerekir.Örneğin 1905 sayısının son iki basamağı 00 olmadığı için\n",
        "yalnızca 4 sayısına tam bölünmesi kontrol edilmelidir. Ancak 1900 sayısının\n",
        "son iki basamağı 00 ile bittiği için hem 4'e hem de 400'e tam bölünmesi\n",
        "kontrol edilmelidir."
      ],
      "metadata": {
        "id": "QqPzZ3Am_KsY"
      }
    },
    {
      "cell_type": "code",
      "source": [
        "yil = int(input(\"Bir yıl giriniz : \"))\n",
        "if yil % 4 == 0:\n",
        "  if yil % 100 == 0:\n",
        "    if yil % 400 == 0:\n",
        "      print( yil ,\" yılı artık yıldır.\")\n",
        "    else:\n",
        "      print( yil ,\" yılı artık yıl değildir.\")\n",
        "  else:\n",
        "    print( yil ,\" yılı artık yıldır.\")\n",
        "else:\n",
        "  print( yil ,\" yılı artık yıl değildir.\")"
      ],
      "metadata": {
        "id": "30ja1MOf_abE",
        "colab": {
          "base_uri": "https://localhost:8080/"
        },
        "outputId": "98db63b0-09e9-4ebf-ef8c-6bb3f0ebbb35"
      },
      "execution_count": 5,
      "outputs": [
        {
          "output_type": "stream",
          "name": "stdout",
          "text": [
            "Bir yıl giriniz : 2020\n",
            "2020  yılı artık yıldır.\n"
          ]
        }
      ]
    },
    {
      "cell_type": "markdown",
      "source": [
        "# UYGULAMA 5\n",
        "Kullanıcıdan bir üçgenin kenarları için 3 adet kenar uzunluğu isteyin. Girilen kenar\n",
        "uzunluklarına göre bu üçgenin eşkenar, ikizkenar veya çeşitkenar üçgen olma\n",
        "durumunu kontrol edin."
      ],
      "metadata": {
        "id": "DsLdLLdu_bBY"
      }
    },
    {
      "cell_type": "code",
      "source": [
        "kenar1 = int(input(\"Birinci kenar uzunluğunu giriniz : \"))\n",
        "kenar2 = int(input(\"İkinci kenar uzunluğunu giriniz : \"))\n",
        "kenar3 = int(input(\"Üçüncü kenar uzunluğunu giriniz : \"))\n",
        "if kenar1 == kenar2 and kenar2 == kenar3:\n",
        "  print(\"Üçgen eşkenardır.\")\n",
        "elif (kenar1 == kenar2 and kenar2 != kenar3) or (kenar1 == kenar3 and kenar3 != kenar2) or (kenar2 == kenar3 and kenar2 != kenar1):\n",
        "  print(\"Üçgen ikizkenardır.\")\n",
        "else:\n",
        "  print(\"Üçgen çeşitkenardır.\")"
      ],
      "metadata": {
        "id": "YlEgTg4h_jZq",
        "colab": {
          "base_uri": "https://localhost:8080/"
        },
        "outputId": "d10956e2-53f9-4fec-98c3-aa4584d8614d"
      },
      "execution_count": 8,
      "outputs": [
        {
          "output_type": "stream",
          "name": "stdout",
          "text": [
            "Birinci kenar uzunluğunu giriniz : 3\n",
            "İkinci kenar uzunluğunu giriniz : 3\n",
            "Üçüncü kenar uzunluğunu giriniz : 2\n",
            "Üçgen ikizkenardır.\n"
          ]
        }
      ]
    },
    {
      "cell_type": "markdown",
      "source": [
        "#UYGULAMA 6\n",
        "Bir AVM'ye ateş ölçer programı yazmalısınız.\n",
        "Kullanıcıya ateşini sorun daha sonra ateşinin derecesine göre AVM'ye \n",
        "girip-giremeyeceğini kullanıcıya belirtin. \n",
        "Program sonunda şöyle bir çıktı elde etmelisiniz:\n",
        "\"Ateşiniz 39 derece. AVM'ye Giremezsiniz!\""
      ],
      "metadata": {
        "id": "DPFDmd6W_j8p"
      }
    },
    {
      "cell_type": "code",
      "source": [
        "ates = float(input(\"Ateşinizi giriniz : \"))\n",
        "if ates < 38:\n",
        "  print(f\"Ateşiniz {ates} derecedir. AVM'ye girebilirisiniz\")\n",
        "else:\n",
        "  print(f\"Ateşiniz {ates} derecedir. AVM'ye giremezsiniz. En yakın hastaneye başvurun.\")"
      ],
      "metadata": {
        "id": "zmvhr_f5_mto",
        "colab": {
          "base_uri": "https://localhost:8080/"
        },
        "outputId": "4d342dbb-f508-4328-8cc4-43be7d10dc57"
      },
      "execution_count": 12,
      "outputs": [
        {
          "output_type": "stream",
          "name": "stdout",
          "text": [
            "Ateşinizi giriniz : 36.5\n",
            "Ateşiniz 36.5 derecedir. AVM'ye girebilirisiniz\n"
          ]
        }
      ]
    },
    {
      "cell_type": "markdown",
      "source": [
        "#UYGULAMA 7\n",
        "Kullanıcıdan bir sayı alınız. Sayı 0'dan büyükse pozitif , 0'dan küçükse negatif \n",
        "sıfıra eşitse sıfır yazdırınız."
      ],
      "metadata": {
        "id": "jWr6Pm9r_m-_"
      }
    },
    {
      "cell_type": "code",
      "source": [
        "sayi = int(input(\"Bir sayı giriniz : \"))\n",
        "if sayi > 0:\n",
        "  print(\"Pozitif\")\n",
        "elif sayi == 0:\n",
        "  print(\"Sıfır\")\n",
        "else:\n",
        "  print(\"Negatif\")"
      ],
      "metadata": {
        "id": "QzL7Iqla_sq2",
        "colab": {
          "base_uri": "https://localhost:8080/"
        },
        "outputId": "f7e5c722-8421-469b-8e1c-c3e26c79314f"
      },
      "execution_count": 13,
      "outputs": [
        {
          "output_type": "stream",
          "name": "stdout",
          "text": [
            "Bir sayı giriniz : 12\n",
            "Pozitif\n"
          ]
        }
      ]
    },
    {
      "cell_type": "markdown",
      "source": [
        "# UYGULAMA 8\n",
        "Tebrikler, Python Pizza'da bir işiniz var. İlk işiniz otomatik bir pizza sipariş programı oluşturmak.\n",
        "\n",
        "Bir kullanıcının siparişine göre, son faturasını hesaplayın.\n",
        "\n",
        "Small Pizza: $15\n",
        "\n",
        "Medium Pizza: $20\n",
        "\n",
        "Large Pizza: $25\n",
        "\n",
        "Pepperoni for Small Pizza: +$2\n",
        "\n",
        "Pepperoni for Medium or Large Pizza: +$3\n",
        "\n",
        "Extra cheese for any size pizza: + $1\n",
        "```\n",
        "Örnek Giriş\n",
        "size = \"L\"\n",
        "add_pepperoni = \"Y\"\n",
        "extra_cheese = \"N\"\n",
        "Örnek Çıktı\n",
        "Your final bill is: $28.\n",
        "```"
      ],
      "metadata": {
        "id": "oUAXjB74_tFb"
      }
    },
    {
      "cell_type": "code",
      "source": [
        "print(\"*** Python Pizza'a Hoş Geldiniz ***\")\n",
        "boyut = input(\"Pizzanız hangi boy olsun? S, M veya L seçiniz:\\n\")\n",
        "biber = input(\"Ekstra biber ister misiniz? E veya H\\n\")\n",
        "peynir = input(\"Ekstra peynir ister misiniz? E veya H\\n\")\n",
        "ucret = 0\n",
        "if boyut == \"S\":\n",
        "  ucret += 15\n",
        "elif boyut == \"M\":\n",
        "  ucret += 20\n",
        "elif boyut == \"L\":\n",
        "  ucret += 25\n",
        "\n",
        "if biber == \"E\":\n",
        "  if boyut == \"S\":\n",
        "    ucret += 2\n",
        "  else:\n",
        "    ucret += 3\n",
        "\n",
        "if peynir == \"E\":\n",
        "  ucret += 1\n",
        "\n",
        "print(f\"Ücretiniz : ${ucret}\")"
      ],
      "metadata": {
        "id": "n0c88zOoAFAg",
        "colab": {
          "base_uri": "https://localhost:8080/"
        },
        "outputId": "263979a8-3ff8-46c7-8000-f0fa2a8f130c"
      },
      "execution_count": 14,
      "outputs": [
        {
          "output_type": "stream",
          "name": "stdout",
          "text": [
            "*** Python Pizza'a Hoş Geldiniz ***\n",
            "Pizzanız hangi boy olsun? S, M veya L seçiniz:\n",
            "L\n",
            "Ekstra biber ister misiniz? E veya H\n",
            "E\n",
            "Ekstra peynir ister misiniz? E veya H\n",
            "H\n",
            "Ücretiniz : $28\n"
          ]
        }
      ]
    },
    {
      "cell_type": "markdown",
      "source": [
        "# UYGULAMA 9\n",
        "Bir kullanıcının kilosuna ve boyuna göre Vücut Kitle İndeksini (BMI) yorumlayan bir program yazın.\n",
        "BMI değerine göre BMI yorumunu onlara söylemelidir.\n",
        "\n",
        "18,5'in altında zayıflar\n",
        "\n",
        "18,5'in üzerinde ancak 25'in altında normal bir ağırlığa sahipler\n",
        "\n",
        "25'in üzerinde ama 30'un altında biraz fazla kilolular\n",
        "\n",
        "30'un üzerinde ama 35'in altında obezler\n",
        "\n",
        "35'in üzerinde olanlar klinik olarak obezdir.\n",
        "\n",
        "BMI, bir kişinin ağırlığının (kg olarak) boyunun karesine (m olarak) bölünmesiyle hesaplanır:\n",
        "\n",
        "Uyarı sizi gerektiğini yuvarlamak en yakın tam sayıya sonucu. Yorum mesajının, yukarıdaki yorumlardan kalın harflerle yazılmış kelimeleri içermesi gerekir. örneğin zayıf, normal kilolu, fazla kilolu, obez, klinik olarak obez .\n",
        "```\n",
        "Örnek Giriş\n",
        "weight = 85\n",
        "height = 1.75\n",
        "Örnek Çıktı\n",
        "85 ÷ (1.75 x 1.75) = 27.755102040816325\n",
        "Vücut kitle indeksiniz 28, fazla kilolusunuz.\n",
        "```"
      ],
      "metadata": {
        "id": "j2wIxm8EAFVE"
      }
    },
    {
      "cell_type": "code",
      "source": [
        "kg = float(input(\"Kilonuzu kilogram cinsinden giriniz:\"))\n",
        "m = float(input(\"Boyunuzu metre cinsinden giriniz:\"))\n",
        "vki = round(kg/(m**2))\n",
        "if vki < 18.5:\n",
        "    print(\"Vücut kitle indeksiniz:\",vki,\" zayıfsınız.\")\n",
        "    \n",
        "elif vki < 25:\n",
        "    print(\"Vücut kitle indeksiniz:\",vki,\" normal kilodasınız.\")\n",
        "    \n",
        "elif vki < 30:\n",
        "    print(\"Vücut kitle indeksiniz:\",vki,\" kilonuzun biraz üzerindesiniz.\")\n",
        "\n",
        "elif vki < 35:\n",
        "    print(\"Vücut kitle indeksiniz:\",vki,\" obezsiniz.\")\n",
        "    \n",
        "else:\n",
        "    print(\"Vücut kitle indeksiniz:\",vki,\" klinik obezsiniz.\")"
      ],
      "metadata": {
        "id": "OsdVr3N5ApXn",
        "colab": {
          "base_uri": "https://localhost:8080/"
        },
        "outputId": "c5e1dc4f-db51-412d-e642-318c3279ce5d"
      },
      "execution_count": 15,
      "outputs": [
        {
          "output_type": "stream",
          "name": "stdout",
          "text": [
            "Kilonuzu kilogram cinsinden giriniz:85\n",
            "Boyunuzu metre cinsinden giriniz:1.75\n",
            "Vücut kitle indeksiniz: 28  kilonuzun biraz üzerindesiniz.\n"
          ]
        }
      ]
    },
    {
      "cell_type": "markdown",
      "source": [
        "# UYGULAMA 10\n",
        "Kullanıcıdan isim, yaş ve eğitim bilgilerini isteyip ehliyet alabilme  durumunu kontrol ediniz. \n",
        "Ehliyet alma koşulu en az 18 ve eğitim durumu  lise ya da üniversite olmalıdır. "
      ],
      "metadata": {
        "id": "-DkwddecAu2F"
      }
    },
    {
      "cell_type": "code",
      "source": [
        "isim = input(\"İsminizi giriniz : \")\n",
        "yas = int(input(\"Yaşınızı giriniz : \"))\n",
        "egitim = input(\"Eğitim durumunuzu giriniz : \")\n",
        "if yas >= 18:\n",
        "  if(egitim == \"lise\" or egitim == \"Lise\" or egitim == \"Üniversite\" or egitim == \"Üniversite\"):\n",
        "    print(f\"{isim} ehliyet alabilirsiniz.\")\n",
        "  else:\n",
        "    print(f\"{isim} ehliyet alamazsınız.\")\n",
        "else:\n",
        "  print(f\"{isim} yaşınız 18'den küçük olduğu için ehliyet alamazsınız.\")"
      ],
      "metadata": {
        "id": "yDE5EfGlAzpJ",
        "colab": {
          "base_uri": "https://localhost:8080/"
        },
        "outputId": "4dd2835b-ff28-4640-a016-837f4b35541b"
      },
      "execution_count": 17,
      "outputs": [
        {
          "output_type": "stream",
          "name": "stdout",
          "text": [
            "İsminizi giriniz : Berkcan\n",
            "Yaşınızı giriniz : 17\n",
            "Eğitim durumunuzu giriniz : Lise\n",
            "Berkcan yaşınız 18'den küçük olduğu için ehliyet alamazsınız.\n"
          ]
        }
      ]
    },
    {
      "cell_type": "markdown",
      "source": [
        "#UYGULAMA 11\n",
        "Brüt ücreti hesaplamak için input() kullanarak kullanıcıdan çalışma saati alın. \n",
        "40 saate kadar, her saat başına ücret 10 TL dir. 40 saatin üstündeki saatlerin ücreti 15 TL olmaktadır. \n",
        "Girilen saate göre ücreti hesaplayan bir kod yazınız.\n",
        "Test etmek için 30 saat değerini giriniz, \n",
        "sonuç 300 TL çıkmalı, ikincil test olarak 50 değerini giriniz, sonuç 750 TL çıkmalı."
      ],
      "metadata": {
        "id": "WtTBAiEaA4uN"
      }
    },
    {
      "cell_type": "code",
      "source": [
        "saat = int(input(\"Çalışma saati sürenizi giriniz : \"))\n",
        "if saat <= 40:\n",
        "    ucret = 10\n",
        "    maas = saat * ucret\n",
        "else:\n",
        "    ucret = 15\n",
        "odeme = ((saat-40)*ucret) + 400\n",
        "print(\"Ücretiniz : \" ,odeme)"
      ],
      "metadata": {
        "id": "2whvqXvYBBoW",
        "colab": {
          "base_uri": "https://localhost:8080/"
        },
        "outputId": "59e60733-6327-4c58-c2cb-12e093ca1e54"
      },
      "execution_count": 21,
      "outputs": [
        {
          "output_type": "stream",
          "name": "stdout",
          "text": [
            "Çalışma saati sürenizi giriniz : 50\n",
            "Ücretiniz :  550\n"
          ]
        }
      ]
    },
    {
      "cell_type": "markdown",
      "source": [
        "#UYGULAMA 12\n",
        "0.0 ile 1.0 arasında bir puan istemek için bir program yazın. \n",
        "Puan aralık dışındaysa bir hata yazdırın. Puan 0,0 ile 1,0 arasında ise, \n",
        "aşağıdaki tabloyu kullanarak bir harf notu yazdırın:\n",
        "Puan Not\n",
        "```\n",
        "> = 0,9 A\n",
        "> = 0,8 B\n",
        "> = 0,7 C\n",
        "> = 0,6 D\n",
        "<   0,6 F\n",
        "```\n",
        "Kullanıcı aralık dışında bir değer girerse, uygun hata mesajı ve çıkış( quit() ) yapın."
      ],
      "metadata": {
        "id": "k-Tgl3NxBCcM"
      }
    },
    {
      "cell_type": "code",
      "source": [
        "puan = float(input(\"0 ile 1 arasında bir değer giriniz : \"))\n",
        "if puan >= 0.0 and  puan <= 1:\n",
        "  if(puan >= 0.9):\n",
        "    print(\"A\")\n",
        "  elif(puan >= 0.8):\n",
        "    print(\"B\")\n",
        "  elif(puan >= 0.7):\n",
        "    print(\"c\")\n",
        "  elif(puan >= 0.6):\n",
        "    print(\"D\")\n",
        "  else:\n",
        "    print(\"F\")\n",
        "else:\n",
        "  print(\"Yanlış değer girdiniz\")\n",
        "  quit()"
      ],
      "metadata": {
        "id": "uDIoFlRRBQcs",
        "colab": {
          "base_uri": "https://localhost:8080/"
        },
        "outputId": "03d6a5d8-71fb-4742-c6db-61f3d9995994"
      },
      "execution_count": 23,
      "outputs": [
        {
          "output_type": "stream",
          "name": "stdout",
          "text": [
            "0 ile 1 arasında bir değer giriniz : 3\n",
            "Yanlış değer girdiniz\n"
          ]
        }
      ]
    },
    {
      "cell_type": "markdown",
      "source": [
        "#UYGULAMA 13\n",
        "Yazılım üniversitesi öğrencilerinin mezun olup olamayacağını göstermek için\n",
        "bir sistem oluşturmaya çalışıyor.\n",
        "\n",
        "Öncelikle durumunu öğrenmek isteyen öğrencinin, ismini yaşını ve not ortalamasını (0 - 100 arası) girmesi gerekiyor (input() fonksiyonu ile kullanıcıdan alıcak).\n",
        "\n",
        "Eğer kullanıcının yaşı 17 ve 21 arasındaysa ve not ortalaması 80 ve üzeri \n",
        "ise okulunu tamamlayabilecek.\n",
        "\n",
        "Eğer bu koşulları sağlamıyor ise okulunu tamamlayamayacaktır ve \n",
        "duruma göre ekrana bir çıktı gösterecektir (print() fonksiyonu ile)\n",
        "Yazılım Üniversitesinin böyle bir sisteme ihtiyacı var, \n",
        "Hadi sen de yardım et."
      ],
      "metadata": {
        "id": "8TyYoCHuBbDt"
      }
    },
    {
      "cell_type": "code",
      "source": [
        "isim = input(\"İsminizi giriniz:\")\n",
        "yas = int(input(\"Yaşınızı giriniz:\"))\n",
        "ortalama = int(input(\"Not Ortalaması giriniz:\"))\n",
        "if((yas > 16 or yas < 22) and (ortalama >= 80)):\n",
        "  print(\"Sınıfı geçtiniz\")\n",
        "else:\n",
        "  print(\"Sınıfta kaldınız\")"
      ],
      "metadata": {
        "id": "DCAd5UkJBlfV",
        "colab": {
          "base_uri": "https://localhost:8080/"
        },
        "outputId": "c6fee74a-c626-4c48-fc7c-199d0fdf4a31"
      },
      "execution_count": 1,
      "outputs": [
        {
          "output_type": "stream",
          "name": "stdout",
          "text": [
            "İsminizi giriniz:Berkcan\n",
            "Yaşınızı giriniz:21\n",
            "Not Ortalaması giriniz:98\n",
            "Sınıfı geçtiniz\n"
          ]
        }
      ]
    },
    {
      "cell_type": "markdown",
      "source": [
        "# UYGULAMA 14\n",
        "Kullanıcı tarafından girilen hava sıcaklığı 5 °C ve altındaysa “Soğuk”; 6-14 °C arasındaysa “Ilık”; 15 °C ve daha fazlaysa “Sıcak” çıktılarını veren kodu yazınız."
      ],
      "metadata": {
        "id": "O8udourKCKxi"
      }
    },
    {
      "cell_type": "code",
      "source": [
        "sicaklik = int(input(\"Bir sıcaklık değeri giriniz : \"))\n",
        "if sicaklik <= 5:\n",
        "  print(\"Soğuk\")\n",
        "elif sicaklik <= 14:\n",
        "  print(\"Ilık\")\n",
        "elif sicaklik >= 15:\n",
        "  print(\"Sıcak\")\n",
        "else:\n",
        "  print(\"Yanlış değer girdiniz.\")"
      ],
      "metadata": {
        "id": "GcsA7zhlCNOA",
        "colab": {
          "base_uri": "https://localhost:8080/"
        },
        "outputId": "a623c07d-f04d-4998-dec2-bc6a11bec8f9"
      },
      "execution_count": 2,
      "outputs": [
        {
          "output_type": "stream",
          "name": "stdout",
          "text": [
            "Bir sıcaklık değeri giriniz : 4\n",
            "Soğuk\n"
          ]
        }
      ]
    },
    {
      "cell_type": "markdown",
      "source": [
        "# ÖRNEK PROJE"
      ],
      "metadata": {
        "id": "glgduHoJAp7i"
      }
    },
    {
      "cell_type": "code",
      "source": [
        "print('''\n",
        "*******************************************************************************\n",
        "          |                   |                  |                     |\n",
        " _________|________________.=\"\"_;=.______________|_____________________|_______\n",
        "|                   |  ,-\"_,=\"\"     `\"=.|                  |\n",
        "|___________________|__\"=._o`\"-._        `\"=.______________|___________________\n",
        "          |                `\"=._o`\"=._      _`\"=._                     |\n",
        " _________|_____________________:=._o \"=._.\"_.-=\"'\"=.__________________|_______\n",
        "|                   |    __.--\" , ; `\"=._o.\" ,-\"\"\"-._ \".   |\n",
        "|___________________|_._\"  ,. .` ` `` ,  `\"-._\"-._   \". '__|___________________\n",
        "          |           |o`\"=._` , \"` `; .\". ,  \"-._\"-._; ;              |\n",
        " _________|___________| ;`-.o`\"=._; .\" ` '`.\"\\` . \"-._ /_______________|_______\n",
        "|                   | |o;    `\"-.o`\"=._``  '` \" ,__.--o;   |\n",
        "|___________________|_| ;     (#) `-.o `\"=.`_.--\"_o.-; ;___|___________________\n",
        "____/______/______/___|o;._    \"      `\".o|o_.--\"    ;o;____/______/______/____\n",
        "/______/______/______/_\"=._o--._        ; | ;        ; ;/______/______/______/_\n",
        "____/______/______/______/__\"=._o--._   ;o|o;     _._;o;____/______/______/____\n",
        "/______/______/______/______/____\"=._o._; | ;_.--\"o.--\"_/______/______/______/_\n",
        "____/______/______/______/______/_____\"=.o|o_.--\"\"___/______/______/______/____\n",
        "/______/______/______/______/______/______/______/______/______/______/_____ /\n",
        "*******************************************************************************\n",
        "''')\n",
        "\n",
        "print(\"*** Hazine Adasına Hoş Geldiniz ***\")\n",
        "print(\"'Görevin hazineyi bulmak.\")\n",
        "ilkSecim = input(\"Bir yol ayrımındasınız. Nereye gitmek istersiniz? 'Sol' ya da 'Sağ' yazın\\n\")\n",
        "if ilkSecim ==\"Sol\":\n",
        "    print(\"Güvenle bir göle geldiniz. İlk aşamayı başarıyla tamamladınız\")\n",
        "    ikinciSecim = input(\"Gölün ortasında bir ada var. Tekne beklemek için \\\"bekle\\\" yazın, yüzerek geçmek için \\\"yüzme\\\" yazın\\n\")\n",
        "    if ikinciSecim == \"bekle\":\n",
        "        print(\"Adaya zarar görmeden vardınız.\")\n",
        "        ucuncuSecim = input(\"3 kapılı bir ev var. Kapılardan Biri kırmızı, biri sarı ve biri mavi. Bir kapıyı seçiniz\\n\")\n",
        "        if ucuncuSecim == \"kırmızı\":\n",
        "            print(\"Ateşle dolu bir oda. Oyun Bitti\")\n",
        "        elif ucuncuSecim == \"mavi\":\n",
        "            print(\"hayvanların odasına girdiniz. Oyun Bitti\")\n",
        "        elif ucuncuSecim == \"sarı\":\n",
        "            print(\"Hazineyi buldunuz. Kazandınız!\")\n",
        "            print(\"Hazine Adasını oynadığınız için teşekkür ederiz!\")\n",
        "    elif  ikinciSecim == \"yüzme\":\n",
        "        print(\"Kızgın bir alabalık tarafından saldırıya uğradınız. Oyun Bitti.\")\n",
        "    \n",
        "elif ilkSecim == \"Sağ\":\n",
        "    print(\"Deliğe düştünüz. Oyun Bitti\")\n",
        "else: \n",
        "    print(\"Sözdizimi Hatası\") "
      ],
      "metadata": {
        "id": "Z3xBBAtmAsoI"
      },
      "execution_count": null,
      "outputs": []
    },
    {
      "cell_type": "markdown",
      "source": [
        "#LİSTELER\n",
        "- [] içerisinde tutulurlar.\n",
        "- Aynı stringlerde olduğu gibi indexleme mantığı ile çalışır.\n",
        "- Listelerde veri güncellemesi yapılabilir.\n",
        "- Listelerde ekleme ve silme işlemi yapılabilir.\n",
        "- İç içe listeleme işlemi yapılabilir."
      ],
      "metadata": {
        "id": "Z9ToPiWWs4jQ"
      }
    },
    {
      "cell_type": "code",
      "source": [
        "ogrenciler = [\"Berkcan\",\"Şevval\",\"Nurana\",\"Mete\"]\n",
        "print(ogrenciler)\n",
        "print(ogrenciler[1])\n"
      ],
      "metadata": {
        "id": "MoW_5kFktAL2",
        "colab": {
          "base_uri": "https://localhost:8080/"
        },
        "outputId": "26321086-63ff-4475-bce3-07da49f1d487"
      },
      "execution_count": 3,
      "outputs": [
        {
          "output_type": "stream",
          "name": "stdout",
          "text": [
            "['Berkcan', 'Şevval', 'Nurana', 'Mete']\n",
            "Şevval\n"
          ]
        }
      ]
    },
    {
      "cell_type": "code",
      "source": [
        "print(ogrenciler[2:3])"
      ],
      "metadata": {
        "colab": {
          "base_uri": "https://localhost:8080/"
        },
        "id": "-W3CveNp9gkY",
        "outputId": "aef8cae0-8c70-44ed-c5a0-6b2bdff31c4d"
      },
      "execution_count": 4,
      "outputs": [
        {
          "output_type": "stream",
          "name": "stdout",
          "text": [
            "['Nurana']\n"
          ]
        }
      ]
    },
    {
      "cell_type": "code",
      "source": [
        "print(ogrenciler[0:3])"
      ],
      "metadata": {
        "colab": {
          "base_uri": "https://localhost:8080/"
        },
        "id": "WuJrcBnt9mrg",
        "outputId": "3624ffcc-fbee-49f4-fd44-8e6f0baf48d3"
      },
      "execution_count": 5,
      "outputs": [
        {
          "output_type": "stream",
          "name": "stdout",
          "text": [
            "['Berkcan', 'Şevval', 'Nurana']\n"
          ]
        }
      ]
    },
    {
      "cell_type": "code",
      "source": [
        "print(ogrenciler[:2])"
      ],
      "metadata": {
        "colab": {
          "base_uri": "https://localhost:8080/"
        },
        "id": "kYAq16j99qqG",
        "outputId": "c31856c2-f326-4b07-d453-97b374a7a0c4"
      },
      "execution_count": 6,
      "outputs": [
        {
          "output_type": "stream",
          "name": "stdout",
          "text": [
            "['Berkcan', 'Şevval']\n"
          ]
        }
      ]
    },
    {
      "cell_type": "code",
      "source": [
        "print(ogrenciler[::-1])"
      ],
      "metadata": {
        "colab": {
          "base_uri": "https://localhost:8080/"
        },
        "id": "PysU-8wV9vhe",
        "outputId": "1473b0d7-1fe4-42ea-f53b-d2150de1b73a"
      },
      "execution_count": 7,
      "outputs": [
        {
          "output_type": "stream",
          "name": "stdout",
          "text": [
            "['Mete', 'Nurana', 'Şevval', 'Berkcan']\n"
          ]
        }
      ]
    },
    {
      "cell_type": "markdown",
      "source": [
        "# LİSTE METOTLARI\n",
        "## .append() Metodu\n",
        "- Listeye yeni eleman eklemeyi sağlar.\n",
        "\n",
        "\n",
        "## .remove() Metodu\n",
        "- Listeden veri silmeyi sağlar."
      ],
      "metadata": {
        "id": "kLv4d0hYtkzY"
      }
    },
    {
      "cell_type": "code",
      "source": [
        "sehirler = []\n",
        "sehirler.append(\"Ankara\")\n",
        "print(sehirler)"
      ],
      "metadata": {
        "id": "CkKcE06zt1ZF",
        "colab": {
          "base_uri": "https://localhost:8080/"
        },
        "outputId": "06c22fb8-e9bc-4171-e29d-e7c7a31308e7"
      },
      "execution_count": 8,
      "outputs": [
        {
          "output_type": "stream",
          "name": "stdout",
          "text": [
            "['Ankara']\n"
          ]
        }
      ]
    },
    {
      "cell_type": "code",
      "source": [
        "sehirler.append(\"Hatay\")\n",
        "print(sehirler)"
      ],
      "metadata": {
        "id": "Hp_FMdaQt2nE",
        "colab": {
          "base_uri": "https://localhost:8080/"
        },
        "outputId": "54fd5fa3-615b-45d7-a488-96d706951c5a"
      },
      "execution_count": 9,
      "outputs": [
        {
          "output_type": "stream",
          "name": "stdout",
          "text": [
            "['Ankara', 'Hatay']\n"
          ]
        }
      ]
    },
    {
      "cell_type": "code",
      "source": [
        "sehirler.remove(\"Hatay\")\n",
        "print(sehirler)"
      ],
      "metadata": {
        "id": "mg79g6dtt27E",
        "colab": {
          "base_uri": "https://localhost:8080/"
        },
        "outputId": "362ce61a-682f-4fa4-be8f-58b30d169036"
      },
      "execution_count": 10,
      "outputs": [
        {
          "output_type": "stream",
          "name": "stdout",
          "text": [
            "['Ankara']\n"
          ]
        }
      ]
    },
    {
      "cell_type": "markdown",
      "source": [
        "##len() metodu\n",
        "Dizinin uzunluğunu verir."
      ],
      "metadata": {
        "id": "EO-Q4IPXt3u2"
      }
    },
    {
      "cell_type": "code",
      "source": [
        "print(len(ogrenciler))"
      ],
      "metadata": {
        "id": "Fx8cvre0t3V4",
        "colab": {
          "base_uri": "https://localhost:8080/"
        },
        "outputId": "4fbbccf4-f5af-49ed-cdf1-33aaaedbe9d9"
      },
      "execution_count": 11,
      "outputs": [
        {
          "output_type": "stream",
          "name": "stdout",
          "text": [
            "4\n"
          ]
        }
      ]
    },
    {
      "cell_type": "code",
      "source": [
        "print(len(sehirler))"
      ],
      "metadata": {
        "id": "clZVTZ8tt79X",
        "colab": {
          "base_uri": "https://localhost:8080/"
        },
        "outputId": "4b40cdbc-9b8b-4257-f13d-b1c55d44cc63"
      },
      "execution_count": 12,
      "outputs": [
        {
          "output_type": "stream",
          "name": "stdout",
          "text": [
            "1\n"
          ]
        }
      ]
    },
    {
      "cell_type": "markdown",
      "source": [
        "## clear() metodu\n",
        "- Listeyi tamamen boşaltır."
      ],
      "metadata": {
        "id": "_8WQxQpnt_D_"
      }
    },
    {
      "cell_type": "code",
      "source": [
        "sehirler.clear()\n",
        "print(sehirler)"
      ],
      "metadata": {
        "id": "NlSYZiJPt-oI",
        "colab": {
          "base_uri": "https://localhost:8080/"
        },
        "outputId": "4e905696-62b1-4c09-bc0d-c3ffef28d5ec"
      },
      "execution_count": 13,
      "outputs": [
        {
          "output_type": "stream",
          "name": "stdout",
          "text": [
            "[]\n"
          ]
        }
      ]
    },
    {
      "cell_type": "markdown",
      "source": [
        "##count() metodu\n",
        "- Listedeki elemanları saymayı sağlar."
      ],
      "metadata": {
        "id": "11qF7PjJuDQZ"
      }
    },
    {
      "cell_type": "code",
      "source": [
        "ogrenciler.append(\"Berkcan\")\n",
        "print(ogrenciler.count(\"Berkcan\"))"
      ],
      "metadata": {
        "id": "-ToIjI1ouKyK",
        "colab": {
          "base_uri": "https://localhost:8080/"
        },
        "outputId": "4c8d1d76-ac16-4f5d-f903-800cd1249c08"
      },
      "execution_count": 20,
      "outputs": [
        {
          "output_type": "stream",
          "name": "stdout",
          "text": [
            "2\n"
          ]
        }
      ]
    },
    {
      "cell_type": "markdown",
      "source": [
        "## index() metodu\n",
        "- Listedeki elemanının indexini verir.\n",
        "- Aranan veriyi ilk bulduğunda durur. Diğer verilerde aynı veri varsa getirmez."
      ],
      "metadata": {
        "id": "hvRWoE_luPiN"
      }
    },
    {
      "cell_type": "code",
      "source": [
        "ogrenciler.index(\"Berkcan\")"
      ],
      "metadata": {
        "id": "DegVIiiQuOqX",
        "colab": {
          "base_uri": "https://localhost:8080/"
        },
        "outputId": "67592584-03eb-4d28-ed5e-82d3ce97d841"
      },
      "execution_count": 21,
      "outputs": [
        {
          "output_type": "execute_result",
          "data": {
            "text/plain": [
              "0"
            ]
          },
          "metadata": {},
          "execution_count": 21
        }
      ]
    },
    {
      "cell_type": "markdown",
      "source": [
        "##pop() metodu\n",
        "- Listede indexe göre silme işlemi yapar."
      ],
      "metadata": {
        "id": "T3TFO5enuYmN"
      }
    },
    {
      "cell_type": "code",
      "source": [
        "print(ogrenciler)"
      ],
      "metadata": {
        "id": "FHhZDXsfubsf",
        "colab": {
          "base_uri": "https://localhost:8080/"
        },
        "outputId": "db8b5614-1113-44ed-f8fc-8c03cdb09a2d"
      },
      "execution_count": 22,
      "outputs": [
        {
          "output_type": "stream",
          "name": "stdout",
          "text": [
            "['Berkcan', 'Şevval', 'Nurana', 'Mete', 'Berkcan']\n"
          ]
        }
      ]
    },
    {
      "cell_type": "code",
      "source": [
        "ogrenciler.pop(4)"
      ],
      "metadata": {
        "id": "BMFSPqOE_rOM"
      },
      "execution_count": null,
      "outputs": []
    },
    {
      "cell_type": "code",
      "source": [
        "print(ogrenciler)"
      ],
      "metadata": {
        "id": "o2iUqigouelj",
        "colab": {
          "base_uri": "https://localhost:8080/"
        },
        "outputId": "b95d9074-7281-48aa-f041-e75666f665b8"
      },
      "execution_count": 25,
      "outputs": [
        {
          "output_type": "stream",
          "name": "stdout",
          "text": [
            "['Berkcan', 'Şevval', 'Nurana', 'Mete']\n"
          ]
        }
      ]
    },
    {
      "cell_type": "markdown",
      "source": [
        "## insert() metodu\n",
        "- Listede indexe göre ekleme işlemi yapar."
      ],
      "metadata": {
        "id": "aBmb1Cs9ufGF"
      }
    },
    {
      "cell_type": "code",
      "source": [
        "sehirler.insert(0,\"Ankara\")\n",
        "sehirler.insert(1,\"Hatay\")\n",
        "print(sehirler)"
      ],
      "metadata": {
        "id": "Ja-7v9dNuht6",
        "colab": {
          "base_uri": "https://localhost:8080/"
        },
        "outputId": "3f58d887-0ac4-47f0-a793-23f44a9d464e"
      },
      "execution_count": 26,
      "outputs": [
        {
          "output_type": "stream",
          "name": "stdout",
          "text": [
            "['Ankara', 'Hatay']\n"
          ]
        }
      ]
    },
    {
      "cell_type": "markdown",
      "source": [
        "## reverse() metodu\n",
        "- Listeyi terse çevirmeyi sağlar.\n",
        "- En az 3 eleman olmalıdır."
      ],
      "metadata": {
        "id": "OnlWDkymuifU"
      }
    },
    {
      "cell_type": "code",
      "source": [
        "sehirler.append(\"Hatay\")\n",
        "sehirler.reverse()\n",
        "print(sehirler)"
      ],
      "metadata": {
        "id": "t-90QvRCurI1",
        "colab": {
          "base_uri": "https://localhost:8080/"
        },
        "outputId": "62f498bf-103b-4b0f-bf66-8b4d3e58f790"
      },
      "execution_count": 29,
      "outputs": [
        {
          "output_type": "stream",
          "name": "stdout",
          "text": [
            "['Hatay', 'Hatay', 'Ankara']\n"
          ]
        }
      ]
    },
    {
      "cell_type": "code",
      "source": [
        "ogrenciler.reverse()\n",
        "print(ogrenciler)"
      ],
      "metadata": {
        "id": "XdGCpV1zuux0",
        "colab": {
          "base_uri": "https://localhost:8080/"
        },
        "outputId": "09603d3d-32ac-434c-a66b-48bc3074154e"
      },
      "execution_count": 30,
      "outputs": [
        {
          "output_type": "stream",
          "name": "stdout",
          "text": [
            "['Mete', 'Nurana', 'Şevval', 'Berkcan']\n"
          ]
        }
      ]
    },
    {
      "cell_type": "markdown",
      "source": [
        "## sort() metodu\n",
        "- Listeyi sıralamayı sağlar."
      ],
      "metadata": {
        "id": "SD-ncGyfuvKy"
      }
    },
    {
      "cell_type": "code",
      "source": [
        "ogrenciler.sort()\n",
        "print(ogrenciler)"
      ],
      "metadata": {
        "id": "gylsJ2whuxXp",
        "colab": {
          "base_uri": "https://localhost:8080/"
        },
        "outputId": "ebe7c456-62b3-4ac8-e48e-51b3ef73467a"
      },
      "execution_count": 31,
      "outputs": [
        {
          "output_type": "stream",
          "name": "stdout",
          "text": [
            "['Berkcan', 'Mete', 'Nurana', 'Şevval']\n"
          ]
        }
      ]
    },
    {
      "cell_type": "code",
      "source": [
        "sayilar = [5,12,66,1,11,-1]\n",
        "sayilar.sort()\n",
        "print(sayilar)"
      ],
      "metadata": {
        "id": "vaNhg1yhu2ie",
        "colab": {
          "base_uri": "https://localhost:8080/"
        },
        "outputId": "b542f85a-70ff-439c-a03c-aab76014246b"
      },
      "execution_count": 32,
      "outputs": [
        {
          "output_type": "stream",
          "name": "stdout",
          "text": [
            "[-1, 1, 5, 11, 12, 66]\n"
          ]
        }
      ]
    },
    {
      "cell_type": "markdown",
      "source": [
        "## max()\n",
        "- Hem sayısal hem de sözlüksel olarak en büyük unsuru bulur\n",
        "\n",
        "## min()\n",
        "- Hem sayısal hem de sözlüksel olarak en küçük elemanı bulur\n",
        "\n",
        "## sum()\n",
        "- Listedeki sayıların toplamını alır. Ve verilen liste sayısal olmayan herhangi bir değer içeremez"
      ],
      "metadata": {
        "id": "VmFiKZSWvSAO"
      }
    },
    {
      "cell_type": "markdown",
      "source": [
        "# Liste Toplama"
      ],
      "metadata": {
        "id": "tZ55lF0wu2-d"
      }
    },
    {
      "cell_type": "code",
      "source": [
        "meyveler = [\"Elma\",\"Armut\"]\n",
        "sebzeler = [\"Domates\",\"Salatalık\"]\n",
        "print(meyveler + sebzeler)"
      ],
      "metadata": {
        "id": "8LOhepGpu5Wg",
        "colab": {
          "base_uri": "https://localhost:8080/"
        },
        "outputId": "5439c207-b36b-490d-ad94-1cce0475dcb0"
      },
      "execution_count": 36,
      "outputs": [
        {
          "output_type": "stream",
          "name": "stdout",
          "text": [
            "['Elma', 'Armut', 'Domates', 'Salatalık']\n"
          ]
        }
      ]
    },
    {
      "cell_type": "markdown",
      "source": [
        "# LİSTE UYGULAMALARI\n",
        "1-  \"Bmw, Mercedes, Opel, Mazda\" elemanlarına sahip bir liste oluşturunuz.\n"
      ],
      "metadata": {
        "id": "nN_IfjONvm45"
      }
    },
    {
      "cell_type": "code",
      "source": [
        "marka=[\"BMW\",\"Mercedes\",\"Opel\",\"Mazda\"]"
      ],
      "metadata": {
        "id": "91IiqOamvyLE"
      },
      "execution_count": 37,
      "outputs": []
    },
    {
      "cell_type": "markdown",
      "source": [
        "2-  Liste Kaç elemanlıdır ?\n"
      ],
      "metadata": {
        "id": "Pt6QBTzTvzEI"
      }
    },
    {
      "cell_type": "code",
      "source": [
        ""
      ],
      "metadata": {
        "id": "MkLQ6zxEv2ZP"
      },
      "execution_count": null,
      "outputs": []
    },
    {
      "cell_type": "markdown",
      "source": [
        " 3-  Listenin ilk ve son elemanı nedir ?\n"
      ],
      "metadata": {
        "id": "xh5f3y9pv24c"
      }
    },
    {
      "cell_type": "code",
      "source": [
        ""
      ],
      "metadata": {
        "id": "5XM__pDTv6du"
      },
      "execution_count": null,
      "outputs": []
    },
    {
      "cell_type": "markdown",
      "source": [
        "4-  Mazda değerini Toyota ile değiştirin.\n",
        "\n"
      ],
      "metadata": {
        "id": "d8D6TBh4v68S"
      }
    },
    {
      "cell_type": "code",
      "source": [
        ""
      ],
      "metadata": {
        "id": "gS1_OAtNweii"
      },
      "execution_count": null,
      "outputs": []
    },
    {
      "cell_type": "markdown",
      "source": [
        "5-  Listenin -2 indeksindeki değer nedir ?\n"
      ],
      "metadata": {
        "id": "BJzpFB9Swezs"
      }
    },
    {
      "cell_type": "code",
      "source": [
        ""
      ],
      "metadata": {
        "id": "eqX3riBKwhQm"
      },
      "execution_count": null,
      "outputs": []
    },
    {
      "cell_type": "markdown",
      "source": [
        "6-  Listenin ilk 3 elemanını alın.\n"
      ],
      "metadata": {
        "id": "sUBvS649whri"
      }
    },
    {
      "cell_type": "code",
      "source": [
        ""
      ],
      "metadata": {
        "id": "StiXvq4jwjq4"
      },
      "execution_count": null,
      "outputs": []
    },
    {
      "cell_type": "markdown",
      "source": [
        "7-  Listenin son 2 elemanı yerine \"Toyota\" ve \"Renault\" değerlerini ekleyin.\n"
      ],
      "metadata": {
        "id": "vyDqhE2twkC6"
      }
    },
    {
      "cell_type": "code",
      "source": [
        ""
      ],
      "metadata": {
        "id": "W04Ec8-NwmSA"
      },
      "execution_count": null,
      "outputs": []
    },
    {
      "cell_type": "markdown",
      "source": [
        "8-  Listenin üzerine \"Audi\" ve \"Nissan\" değerlerini ekleyin.\n"
      ],
      "metadata": {
        "id": "7c163TOJwmwW"
      }
    },
    {
      "cell_type": "code",
      "source": [
        ""
      ],
      "metadata": {
        "id": "YheArl1xwoiz"
      },
      "execution_count": null,
      "outputs": []
    },
    {
      "cell_type": "markdown",
      "source": [
        "9- Listenin son elemanını silin.\n"
      ],
      "metadata": {
        "id": "Tt3MuEhjwo2a"
      }
    },
    {
      "cell_type": "code",
      "source": [
        ""
      ],
      "metadata": {
        "id": "EyGN8odZwrEg"
      },
      "execution_count": null,
      "outputs": []
    },
    {
      "cell_type": "markdown",
      "source": [
        "10- Liste elemanlarını tersten yazdırınız.\n",
        "\n"
      ],
      "metadata": {
        "id": "v-Qe-oTIwrai"
      }
    },
    {
      "cell_type": "code",
      "source": [
        ""
      ],
      "metadata": {
        "id": "tCI4oKmrwtT4"
      },
      "execution_count": null,
      "outputs": []
    },
    {
      "cell_type": "markdown",
      "source": [
        "11- Aşağıdaki verileri bir liste içinde saklayınız. \n",
        "\n",
        "      # studentA: Berkcan Gümüşışık 1999, (90,90,70)\n",
        "      # studentB: Şevval Baydemir  2000, (80,80,70)\n",
        "      # studentC: Nurana Jumageldiyeva 2000, (80,70,90) \n",
        "\n"
      ],
      "metadata": {
        "id": "QdxeP_j_wtwH"
      }
    },
    {
      "cell_type": "code",
      "source": [
        ""
      ],
      "metadata": {
        "id": "ZBeB4nVSw_k9"
      },
      "execution_count": null,
      "outputs": []
    },
    {
      "cell_type": "markdown",
      "source": [
        "12- Liste elemanlarını ekrana yazdırınız.\n",
        "  \n"
      ],
      "metadata": {
        "id": "oe2d8-rVw_0t"
      }
    },
    {
      "cell_type": "code",
      "source": [
        ""
      ],
      "metadata": {
        "id": "s14jThVIxCx0"
      },
      "execution_count": null,
      "outputs": []
    },
    {
      "cell_type": "markdown",
      "source": [
        "names = ['Berkcan','Şevval','Nurana','Mete']\n",
        "\n",
        "years = [1999, 2000, 2000, 2001]\n",
        "\n",
        "13-  \"Cenk\" ismini listenin sonuna ekleyiniz.\n"
      ],
      "metadata": {
        "id": "i2gamVfHxDO0"
      }
    },
    {
      "cell_type": "code",
      "source": [
        ""
      ],
      "metadata": {
        "id": "EbCcwPJzxWZ2"
      },
      "execution_count": null,
      "outputs": []
    },
    {
      "cell_type": "markdown",
      "source": [
        "14-  \"Sena\" değerini listenin başına ekleyiniz.\n"
      ],
      "metadata": {
        "id": "vvoaXtb-xWwU"
      }
    },
    {
      "cell_type": "code",
      "source": [
        ""
      ],
      "metadata": {
        "id": "dAP1hv_XxYav"
      },
      "execution_count": null,
      "outputs": []
    },
    {
      "cell_type": "markdown",
      "source": [
        "15-  \"Deniz\" ismini listeden siliniz.\n"
      ],
      "metadata": {
        "id": "mnUEj_MWxY-k"
      }
    },
    {
      "cell_type": "code",
      "source": [
        ""
      ],
      "metadata": {
        "id": "W7yNbaVDxcgm"
      },
      "execution_count": null,
      "outputs": []
    },
    {
      "cell_type": "markdown",
      "source": [
        "16-  \"Ali\" listenin bir elemanı mıdır ?\n"
      ],
      "metadata": {
        "id": "158OOslixctO"
      }
    },
    {
      "cell_type": "code",
      "source": [
        ""
      ],
      "metadata": {
        "id": "sTXVyTruxe1C"
      },
      "execution_count": null,
      "outputs": []
    },
    {
      "cell_type": "markdown",
      "source": [
        "17-  Liste elemanlarını ters çevirin.\n"
      ],
      "metadata": {
        "id": "2_ZA9cWoxfDK"
      }
    },
    {
      "cell_type": "code",
      "source": [
        ""
      ],
      "metadata": {
        "id": "JUmQFKH1xhLU"
      },
      "execution_count": null,
      "outputs": []
    },
    {
      "cell_type": "markdown",
      "source": [
        "18-  Liste elemanlarını alfabetik olarak sıralayınız.\n"
      ],
      "metadata": {
        "id": "tV-eA-QIxh0x"
      }
    },
    {
      "cell_type": "code",
      "source": [
        ""
      ],
      "metadata": {
        "id": "EPqBDgCaxje1"
      },
      "execution_count": null,
      "outputs": []
    },
    {
      "cell_type": "markdown",
      "source": [
        "19-  years listesini rakamsal büyüklüğe göre sıralayınız.\n"
      ],
      "metadata": {
        "id": "_DHF1mqbxjyE"
      }
    },
    {
      "cell_type": "code",
      "source": [
        ""
      ],
      "metadata": {
        "id": "xJumPUc3xlSV"
      },
      "execution_count": null,
      "outputs": []
    },
    {
      "cell_type": "markdown",
      "source": [
        "20-  str = \"Chevrolet,Dacia\" karakter dizisini listeye çeviriniz.\n"
      ],
      "metadata": {
        "id": "wIBWDyr-xl3y"
      }
    },
    {
      "cell_type": "code",
      "source": [
        ""
      ],
      "metadata": {
        "id": "8aO1jL3FxlYZ"
      },
      "execution_count": null,
      "outputs": []
    },
    {
      "cell_type": "markdown",
      "source": [
        "21- years dizisinde kaç tane 1998 değeri vardır ?\n"
      ],
      "metadata": {
        "id": "GmvHtZ-xxouM"
      }
    },
    {
      "cell_type": "code",
      "source": [
        ""
      ],
      "metadata": {
        "id": "Y3VE_pgTxrK-"
      },
      "execution_count": null,
      "outputs": []
    },
    {
      "cell_type": "markdown",
      "source": [
        "22- years dizisinin tüm elemanlarını siliniz.\n"
      ],
      "metadata": {
        "id": "TtGL0NQ6xrie"
      }
    },
    {
      "cell_type": "code",
      "source": [
        ""
      ],
      "metadata": {
        "id": "n3eEvBw3xs-z"
      },
      "execution_count": null,
      "outputs": []
    },
    {
      "cell_type": "markdown",
      "source": [
        "23- Kullanıcıdan alacağınız 3 tane marka bilgisini bir listede saklayınız."
      ],
      "metadata": {
        "id": "cQQ_csgMxtVk"
      }
    },
    {
      "cell_type": "code",
      "source": [
        ""
      ],
      "metadata": {
        "id": "nbj0wiVRxuRK"
      },
      "execution_count": null,
      "outputs": []
    },
    {
      "cell_type": "markdown",
      "source": [
        "# TUPLE(DEMET)\n",
        "- Tuple listelere benzerdir.\n",
        "- Tuple ile liste arasındaki en önemli fark tuple elemanlarının değiştirilemez, liste elemanlarınının değiştirilebilir olmasıdır.\n",
        "- Performanslı bir data sağlar.\n",
        "- () içerisinde tanımlanabilir.\n",
        "- İç içe tuple oluşturulabilir.\n",
        "- Liste içerisinde tuple, tuple içersinide liste tanımlamak mümkündür.\n",
        "- Bir kere tanımlandıktan sonra değiştirilemezler yalnızca okunurlar.\n",
        "- Tek elemansa tuple olduğunu belirtmek için bir virgül koyulmalıdır."
      ],
      "metadata": {
        "id": "ERBjH_O7xuqO"
      }
    },
    {
      "cell_type": "code",
      "source": [
        ""
      ],
      "metadata": {
        "id": "l80r9hBzyOuN"
      },
      "execution_count": null,
      "outputs": []
    },
    {
      "cell_type": "code",
      "source": [
        ""
      ],
      "metadata": {
        "id": "LcECRGPbyaCq"
      },
      "execution_count": null,
      "outputs": []
    },
    {
      "cell_type": "code",
      "source": [
        ""
      ],
      "metadata": {
        "id": "V6-yuR4myaUO"
      },
      "execution_count": null,
      "outputs": []
    },
    {
      "cell_type": "code",
      "source": [
        ""
      ],
      "metadata": {
        "id": "6Ge9x7lKyavI"
      },
      "execution_count": null,
      "outputs": []
    },
    {
      "cell_type": "markdown",
      "source": [
        "# TUPLE ATAMA\n"
      ],
      "metadata": {
        "id": "cgP8GqlUykoZ"
      }
    },
    {
      "cell_type": "code",
      "source": [
        ""
      ],
      "metadata": {
        "id": "MbMA1WxYyoXv"
      },
      "execution_count": null,
      "outputs": []
    },
    {
      "cell_type": "code",
      "source": [
        ""
      ],
      "metadata": {
        "id": "LdayH746yop-"
      },
      "execution_count": null,
      "outputs": []
    },
    {
      "cell_type": "code",
      "source": [
        ""
      ],
      "metadata": {
        "id": "bwXWOyDOyo8Y"
      },
      "execution_count": null,
      "outputs": []
    },
    {
      "cell_type": "markdown",
      "source": [
        "## sorted(list_name, reverse=bool)\n",
        "- Bir demet listesini sıralamamıza yardımcı olur\n",
        "- Sıralama yaparken ilk öğeyi dikkate alır"
      ],
      "metadata": {
        "id": "IDCojXSxybEH"
      }
    },
    {
      "cell_type": "code",
      "source": [
        "d = {\"a\":10 , \"b\":1, \"c\":22}\n",
        "t = sorted(d.items())\n",
        "print(t)"
      ],
      "metadata": {
        "id": "VT6cZRgGyhei"
      },
      "execution_count": null,
      "outputs": []
    },
    {
      "cell_type": "markdown",
      "source": [
        "# SET\n",
        "- Listelere benzer.\n",
        "- En önemli özelliği indexsiz ve sırasız elemanlardan oluşmasıdır.\n",
        "* Veri tekrarı söz konusu değildir. Tüm elemanlar eşsizdir.\n",
        "* {} içerisinde tanımlanır.\n",
        "* Çok hızlı bir veri tipidir."
      ],
      "metadata": {
        "id": "p7BLzJbBypuQ"
      }
    },
    {
      "cell_type": "code",
      "source": [
        ""
      ],
      "metadata": {
        "id": "GhA3FP4Yy4SB"
      },
      "execution_count": null,
      "outputs": []
    },
    {
      "cell_type": "code",
      "source": [
        ""
      ],
      "metadata": {
        "id": "N7Gr9o0by9Wt"
      },
      "execution_count": null,
      "outputs": []
    },
    {
      "cell_type": "code",
      "source": [
        ""
      ],
      "metadata": {
        "id": "-Mp9DZQay9j9"
      },
      "execution_count": null,
      "outputs": []
    },
    {
      "cell_type": "markdown",
      "source": [
        "# Set Metotları\n",
        "## add()\n",
        "- Veri eklemeyi sağlar."
      ],
      "metadata": {
        "id": "cJVMdbrgy98c"
      }
    },
    {
      "cell_type": "code",
      "source": [
        ""
      ],
      "metadata": {
        "id": "ZkILCuQrzCBp"
      },
      "execution_count": null,
      "outputs": []
    },
    {
      "cell_type": "markdown",
      "source": [
        "## update()\n",
        "- Çoklu veri eklemeyi sağlar."
      ],
      "metadata": {
        "id": "ceGYNa0DzCf-"
      }
    },
    {
      "cell_type": "code",
      "source": [
        ""
      ],
      "metadata": {
        "id": "SzB7mFlZzHwS"
      },
      "execution_count": null,
      "outputs": []
    },
    {
      "cell_type": "markdown",
      "source": [
        "##remove()\n",
        "- Silme işlemini yapar"
      ],
      "metadata": {
        "id": "H0hxNc9zzIEe"
      }
    },
    {
      "cell_type": "code",
      "source": [
        ""
      ],
      "metadata": {
        "id": "msdTDK6gzLyU"
      },
      "execution_count": null,
      "outputs": []
    },
    {
      "cell_type": "markdown",
      "source": [
        "##pop()\n",
        "- Listeninin son elemanını siler."
      ],
      "metadata": {
        "id": "smSjOGS5zO6D"
      }
    },
    {
      "cell_type": "code",
      "source": [
        ""
      ],
      "metadata": {
        "id": "eJaLtdL4zRxu"
      },
      "execution_count": null,
      "outputs": []
    },
    {
      "cell_type": "markdown",
      "source": [
        "## clear()\n",
        "- Set'in içini boşaltır."
      ],
      "metadata": {
        "id": "_blkVUCuzR_w"
      }
    },
    {
      "cell_type": "code",
      "source": [
        ""
      ],
      "metadata": {
        "id": "TgjwMXFizWXi"
      },
      "execution_count": null,
      "outputs": []
    },
    {
      "cell_type": "markdown",
      "source": [
        "#DICTIONARIES(SÖZLÜKLER)\n",
        "- Python'un en güçlü veri koleksiyonudur.\n",
        "- Python'da hızlı veritabanı işlemleri yapmamızı sağlar.\n",
        "- PHP'de => ilişkili diziler\n",
        "- Java => properties ya da Map ya da HashMap\n",
        "- C# ve .Net => property bag\n",
        "- Sözlükler sırasızdır, bu da dizin numaralarını onlar için işe yaramaz hale getirir (yine de kullanılabilir)\n",
        "- Sözlük içinde bir değer kullanmak istiyorsanız, o değerin anahtar adını kullanarak onu çağırmamız gerekir.\n",
        "- \"dict()\" işlevi kullanılarak boş sözlükler oluşturulabilir\n",
        "- Bir sözlüğe oluşturduktan sonra bile bir anahtar ve bir değer atayabilirsiniz. Bu da listelerin ve sözlüklerin değişken olduğunu gösterir.\n",
        "Sözlüklerde var olmayan bir şey ararsanız geri izleme alırsınız\n",
        "- {} içerisinde tanımlanır."
      ],
      "metadata": {
        "id": "o6p0ayYbzhU9"
      }
    },
    {
      "cell_type": "code",
      "source": [
        ""
      ],
      "metadata": {
        "id": "oOBUTfzQzs-_"
      },
      "execution_count": null,
      "outputs": []
    },
    {
      "cell_type": "code",
      "source": [
        ""
      ],
      "metadata": {
        "id": "vtDiOrI9zxUO"
      },
      "execution_count": null,
      "outputs": []
    },
    {
      "cell_type": "markdown",
      "source": [
        "# key- value pairing (anahtar kelime - değer eşleşmesi\n",
        "{\"anahtar kelime\" : \"deger\"}\n",
        "\n",
        "{\"key\" : \"value\"}"
      ],
      "metadata": {
        "id": "d_nWXjyhzxlf"
      }
    },
    {
      "cell_type": "code",
      "source": [
        ""
      ],
      "metadata": {
        "id": "ULXzty9Mz0Mb"
      },
      "execution_count": null,
      "outputs": []
    },
    {
      "cell_type": "markdown",
      "source": [
        "# Veri Güncelleme"
      ],
      "metadata": {
        "id": "JWXLgKTIz83I"
      }
    },
    {
      "cell_type": "code",
      "source": [
        ""
      ],
      "metadata": {
        "id": "75LAgQEW0aAp"
      },
      "execution_count": null,
      "outputs": []
    },
    {
      "cell_type": "markdown",
      "source": [
        "#Veri Ekleme\n"
      ],
      "metadata": {
        "id": "GXAdrLXJ0am4"
      }
    },
    {
      "cell_type": "code",
      "source": [
        ""
      ],
      "metadata": {
        "id": "mwcJE5CW0dHc"
      },
      "execution_count": null,
      "outputs": []
    },
    {
      "cell_type": "markdown",
      "source": [
        "# Veri Silme\n"
      ],
      "metadata": {
        "id": "8Hmz6EeY0dWX"
      }
    },
    {
      "cell_type": "code",
      "source": [
        ""
      ],
      "metadata": {
        "id": "zFOdW88r0gVo"
      },
      "execution_count": null,
      "outputs": []
    },
    {
      "cell_type": "markdown",
      "source": [
        "# Sözlüklerde Metotlar\n",
        "## .keys() Metodu\n",
        "Sözlüğümüzde bulunan bütün key değerlerini verir.\n",
        "\n",
        "## .values() Metodu\n",
        "- Sözlüğümüzde bulunan bütün value değerlerini verir.\n",
        "\n",
        "##.items() Metodu\n",
        "- Sözlüğümüzde bulunan bütün key value değerlerini tuple halinde verir."
      ],
      "metadata": {
        "id": "UzjiSEET0gwv"
      }
    },
    {
      "cell_type": "code",
      "source": [
        ""
      ],
      "metadata": {
        "id": "XvZ-UeyY0wjs"
      },
      "execution_count": null,
      "outputs": []
    },
    {
      "cell_type": "code",
      "source": [
        ""
      ],
      "metadata": {
        "id": "W9u64wlI0wuq"
      },
      "execution_count": null,
      "outputs": []
    },
    {
      "cell_type": "code",
      "source": [
        ""
      ],
      "metadata": {
        "id": "Ag8K7WFK0xCk"
      },
      "execution_count": null,
      "outputs": []
    },
    {
      "cell_type": "markdown",
      "source": [
        "#UYGULAMALAR"
      ],
      "metadata": {
        "id": "C3p2iWAf09GY"
      }
    },
    {
      "cell_type": "markdown",
      "source": [
        "    ogrenciler = {\n",
        "        '120': {\n",
        "            'ad': 'Ali',\n",
        "            'soyad': 'Yılmaz',\n",
        "            'telefon': '532 000 00 01'\n",
        "        },\n",
        "        '125': {\n",
        "            'ad': 'Can',\n",
        "            'soyad': 'Korkmaz',\n",
        "            'telefon': '532 000 00 02'\n",
        "        },\n",
        "        '128': {\n",
        "            'ad': 'Volkan',\n",
        "            'soyad': 'Yükselen',\n",
        "            'telefon': '532 000 00 03'\n",
        "        },\n",
        "    }\n",
        "    1- Bilgileri verilen öğrencileri kullanıcıdan aldığınız bilgilerle\n",
        "       dictionary içinde saklayınız.\n",
        "    2- Öğrenci numarasını kullanıcıdan alıp ilgili öğrenci bilgisini gösterin."
      ],
      "metadata": {
        "id": "f21jIJRS0_Q9"
      }
    },
    {
      "cell_type": "code",
      "source": [
        ""
      ],
      "metadata": {
        "id": "kAPx25yZ1AhK"
      },
      "execution_count": null,
      "outputs": []
    },
    {
      "cell_type": "markdown",
      "source": [
        "Sözlükleri Kullanarak Bir Telefon Rehberi Yazın. Bu rehberde kullanıcıya kimin telefonunu görüntülemek istediğini \n",
        "sorun ve kullanıcının girdiği isme göre o kişinin telefon numarasını yazdırın. Proje sonunda elde edeceğiniz çıktı \n",
        "şuna benzer olmalı:\n",
        "Lütfen numarasını öğrenmek istediğiniz kişinin adını girin: Ahmet\n",
        "Ahmet isimli kişinin numarası şu şekildedir: 0532 862 98 47"
      ],
      "metadata": {
        "id": "nooIRfld1A2E"
      }
    },
    {
      "cell_type": "code",
      "source": [
        ""
      ],
      "metadata": {
        "id": "h50k-QgI1GTu"
      },
      "execution_count": null,
      "outputs": []
    },
    {
      "cell_type": "markdown",
      "source": [
        "Sözlükleri kullanarak bir şirket çalışanları indeksi oluşturun. Bu isim indeksinde kişilerin isimleri key, kişilerin şu \n",
        "bilgileri de value olmalı: memleket, yaş, görev. Burada kullanacağımız value liste olmalı. \n",
        "\n",
        "Daha sonra bir isim sorgulama ekranı gibi kullanıcıya kimin bilgilerini görüntülemek istediğini \n",
        "sorun ve sorgulanan kişinin ekranda gösterilmesini sağlayın. Proje sonunda elde edeceğiniz çıktı şu şekilde olmalı:\n",
        "\n",
        "Lütfen bilgilerini görüntülemek istediğiniz çalışanın ismini girin: Mehmet Yağız\n",
        "\n",
        "Mehmet Yağız= Memleket: Adana Yaş: 40 Görev: Direktör"
      ],
      "metadata": {
        "id": "gLhg_Gn31Gya"
      }
    },
    {
      "cell_type": "code",
      "source": [
        ""
      ],
      "metadata": {
        "id": "OlgPsrNp1T3M"
      },
      "execution_count": null,
      "outputs": []
    },
    {
      "cell_type": "markdown",
      "source": [
        "5 öğrenciden oluşan bir öğrenci not sözlüğü oluşturun. Bu sözlükte \n",
        "öğrencilerin notları value olarak bir listede toplansın.\n",
        "Kullanıcıya hangi öğrencinin notlarını görmek istediğini sorun. \n",
        "Öğrencinin notu görüntülendiğinde program sonunda şöyle bir çıktı elde etmelisiniz:\n",
        "```\n",
        "Lütfen notlarını görmek istediğiniz öğrencinin adını girin: Mehmet\n",
        "Mehmet isimli öğrencinin 1.Sınav Notu:72\n",
        "                              2.Sınav Notu:66\n",
        "                              3.Sınav Notu:48\n",
        "Not Ortalaması: 62.0\n",
        "```"
      ],
      "metadata": {
        "id": "Uu0wA8Jb1UZ5"
      }
    },
    {
      "cell_type": "code",
      "source": [
        ""
      ],
      "metadata": {
        "id": "NnlDLgTt1Z6L"
      },
      "execution_count": null,
      "outputs": []
    }
  ]
}