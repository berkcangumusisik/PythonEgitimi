{
  "nbformat": 4,
  "nbformat_minor": 0,
  "metadata": {
    "colab": {
      "name": "HAFTA_3_Son.ipynb",
      "provenance": []
    },
    "kernelspec": {
      "name": "python3",
      "display_name": "Python 3"
    },
    "language_info": {
      "name": "python"
    }
  },
  "cells": [
    {
      "cell_type": "markdown",
      "source": [
        "# 2. Haftadan Kalan Uygulamalar"
      ],
      "metadata": {
        "id": "_pSOCdpc7wwB"
      }
    },
    {
      "cell_type": "markdown",
      "source": [
        "# Uygulama 5\n",
        "Kullanıcının doğum yılını isteyip şu anda kaç yaşında olduğunu hesaplayan bir program yazın"
      ],
      "metadata": {
        "id": "BJ6pHbUpwHcP"
      }
    },
    {
      "cell_type": "code",
      "source": [
        "dogumYili = int(input(\"Doğum yılınızı giriniz : \"))\n",
        "yil = 2022\n",
        "yas = 2022 - dogumYili\n",
        "print(\"2022 yılındaki yaşınız : \" + str(yas))"
      ],
      "metadata": {
        "id": "hBLXLBCO6_wO",
        "colab": {
          "base_uri": "https://localhost:8080/"
        },
        "outputId": "e3039207-7c78-474f-90a5-05b38dcbcc3b"
      },
      "execution_count": 1,
      "outputs": [
        {
          "output_type": "stream",
          "name": "stdout",
          "text": [
            "Doğum yılınızı giriniz1999\n",
            "2022 yılındaki yaşınız : 23\n"
          ]
        }
      ]
    },
    {
      "cell_type": "markdown",
      "source": [
        "#Uygulama 6\n",
        "- Kullanıcının hangi ayda ne kadar doğalgaz faturası ödeyeceğini hesaplayan bir program yazın.\n",
        "- İlk olarak hangi ayı hesaplamak istediğini sorun daha sonra o ayda kaç metreküp doğalgaz kullandığını sorun.\n",
        "- Daha sonra ekrana \"Şu ayda şu kadar fatura ödemeniz gerekiyor.\"\n",
        "şeklinde bir cümle bastırın. (Doğalgazın metreküp fiyatı: 1.54)."
      ],
      "metadata": {
        "id": "LwLyL-2UwRpg"
      }
    },
    {
      "cell_type": "code",
      "source": [
        "ay = input(\"Bulunduğunuz ayı giriniz : \")\n",
        "gaz = float(input(\"Kaç metre küp doğalgaz kullandınız : \"))\n",
        "fatura = 1.54 * gaz\n",
        "print(str(ay) +\" ayında ödemeniz gereken fatura tutarı : \" +str(fatura))"
      ],
      "metadata": {
        "id": "e2pzwSO47HGT",
        "colab": {
          "base_uri": "https://localhost:8080/"
        },
        "outputId": "fa7604ab-7be9-4515-9841-e6fed697776b"
      },
      "execution_count": 3,
      "outputs": [
        {
          "output_type": "stream",
          "name": "stdout",
          "text": [
            "Bulunduğunuz ayı giriniz : Ocak\n",
            "Kaç metre küp doğalgaz kullandınız : 100\n",
            "Ocak ayında ödemeniz gereken fatura tutarı : 154.0\n"
          ]
        }
      ]
    },
    {
      "cell_type": "markdown",
      "source": [
        "#Uygulama 7\n",
        "Kullanıcıya ismini soran ve \"Merhaba kullanici\" diyen bir program yazınız.\n",
        "\n"
      ],
      "metadata": {
        "id": "uSv9MV3uwXY0"
      }
    },
    {
      "cell_type": "code",
      "source": [
        "name = input(\"İsminizi giriniz : \")\n",
        "print(\"Merhaba \" + name)"
      ],
      "metadata": {
        "id": "BjKfPdLS7Jr_",
        "colab": {
          "base_uri": "https://localhost:8080/"
        },
        "outputId": "9e631189-b9f7-4d7c-f33b-f98956e968c3"
      },
      "execution_count": 4,
      "outputs": [
        {
          "output_type": "stream",
          "name": "stdout",
          "text": [
            "İsminizi giriniz : Berkcan\n",
            "Merhaba Berkcan\n"
          ]
        }
      ]
    },
    {
      "cell_type": "markdown",
      "source": [
        "#Uygulama 8\n",
        "Karenin kenar uzunluğunu kullanıcıya sorup, karenin çevresini ve alanını hesaplayan bir program yazınız.\n",
        "\n",
        "\n"
      ],
      "metadata": {
        "id": "Nl7JARpgw897"
      }
    },
    {
      "cell_type": "code",
      "source": [
        "kenar = int(input(\"Karenin bir kenar uzunluğunu giriniz : \"))\n",
        "alan = kenar * kenar\n",
        "cevre = 4 * kenar\n",
        "print(\"Karenin alanı : \" + str(alan))\n",
        "print(\"Karenin çevresi : \" + str(cevre))"
      ],
      "metadata": {
        "id": "6G6VdJnx7ZZE",
        "colab": {
          "base_uri": "https://localhost:8080/"
        },
        "outputId": "5fc330e8-6513-4e81-8478-9522191912c1"
      },
      "execution_count": 5,
      "outputs": [
        {
          "output_type": "stream",
          "name": "stdout",
          "text": [
            "Karenin bir kenar uzunluğunu giriniz : 5\n",
            "Karenin alanı : 25\n",
            "Karenin çevresi : 20\n"
          ]
        }
      ]
    },
    {
      "cell_type": "markdown",
      "source": [
        "#Uygulama 9\n",
        "Dikdörtgenin iki kenar uzunluğunu kullanıcıya sorup, dikdörtgenin çevresini ve alanını hesaplayan bir program yazınız."
      ],
      "metadata": {
        "id": "H87dXxV6xItC"
      }
    },
    {
      "cell_type": "code",
      "source": [
        "kisaKenar = int(input(\"Kısa kenar uzunluğunu giriniz : \"))\n",
        "uzunKenar = int(input(\"Uzun kenar uzunluğunu giriniz : \"))\n",
        "alan = kisaKenar * uzunKenar\n",
        "cevre = 2*(kisaKenar + uzunKenar)\n",
        "print(\"Dikdörtgenin alanı : \" , alan)\n",
        "print(\"Dikdörtgenin çevresi : \", cevre)"
      ],
      "metadata": {
        "id": "wwt72Fzd7cd8",
        "colab": {
          "base_uri": "https://localhost:8080/"
        },
        "outputId": "20897ed4-7882-4922-8091-ae288775e4da"
      },
      "execution_count": 6,
      "outputs": [
        {
          "output_type": "stream",
          "name": "stdout",
          "text": [
            "Kısa kenar uzunluğunu giriniz : 5\n",
            "Uzun kenar uzunluğunu giriniz : 4\n",
            "Dikdörtgenin alanı :  20\n",
            "Dikdörtgenin çevresi :  18\n"
          ]
        }
      ]
    },
    {
      "cell_type": "markdown",
      "source": [
        "#Uygulama 10\n",
        "Dairenin yarıçapını ve pi değerini kullanıcıdan alarak, dairenin çevresini ve alanını hesaplayınız."
      ],
      "metadata": {
        "id": "aMY6yu_DxIp8"
      }
    },
    {
      "cell_type": "code",
      "source": [
        "pi = float(input(\"Pi değerini giriniz : \"))\n",
        "yaricap = int(input(\"Dairenin yarıçapını giriniz : \"))\n",
        "alan = pi * (yaricap ** 2)\n",
        "cevre = 2 * pi * yaricap\n",
        "print(\"Dairenin alanı : \",alan)\n",
        "print(\"Dairenin cevresi : \",cevre)"
      ],
      "metadata": {
        "id": "RQNwG7zK7faQ",
        "colab": {
          "base_uri": "https://localhost:8080/"
        },
        "outputId": "30ec80ea-6566-4b7a-e4dc-1239742e6c23"
      },
      "execution_count": 7,
      "outputs": [
        {
          "output_type": "stream",
          "name": "stdout",
          "text": [
            "Pi değerini giriniz : 3\n",
            "Dairenin yarıçapını giriniz : 2\n",
            "Dairenin alanı :  12.0\n",
            "Dairenin cevresi :  12.0\n"
          ]
        }
      ]
    },
    {
      "cell_type": "markdown",
      "source": [
        "#Uygulama 11\n",
        "Klavyeden girilen iki sayıyı toplayan ve sonucu ekranda gösteren kodu yazınız."
      ],
      "metadata": {
        "id": "AY-jJ5BRxhpF"
      }
    },
    {
      "cell_type": "code",
      "source": [
        "sayi1 = int(input(\"Birinci sayıyı giriniz : \"))\n",
        "sayi2 = int(input(\"İkinci sayıyı giriniz : \"))\n",
        "toplam = sayi1 + sayi2\n",
        "print(\"Toplam : \",toplam)"
      ],
      "metadata": {
        "id": "pbfXS43o7jzK",
        "colab": {
          "base_uri": "https://localhost:8080/"
        },
        "outputId": "c39de07d-91de-4f72-a5ab-0c6302d9e58a"
      },
      "execution_count": 8,
      "outputs": [
        {
          "output_type": "stream",
          "name": "stdout",
          "text": [
            "Birinci sayıyı giriniz : 5\n",
            "İkinci sayıyı giriniz : 5\n",
            "Toplam :  10\n"
          ]
        }
      ]
    },
    {
      "cell_type": "markdown",
      "source": [
        "#Uygulama 12\n",
        "Klavyeden girilen iki sayıyının ortalamasını bulan ve sonucu ekranda yazdırınız."
      ],
      "metadata": {
        "id": "CWeJ2zFVyhc2"
      }
    },
    {
      "cell_type": "code",
      "source": [
        "sayi1 = int(input(\"Birinci sayıyı giriniz : \"))\n",
        "sayi2 = int(input(\"İkinci sayıyı giriniz : \"))\n",
        "ortalama = (sayi1 + sayi2) / 2\n",
        "print(\"Ortalama : \", ortalama)"
      ],
      "metadata": {
        "id": "w8TOmnZP7t6d",
        "colab": {
          "base_uri": "https://localhost:8080/"
        },
        "outputId": "3f325140-faf4-476a-98b9-68ff075af326"
      },
      "execution_count": 9,
      "outputs": [
        {
          "output_type": "stream",
          "name": "stdout",
          "text": [
            "Birinci sayıyı giriniz : 5\n",
            "İkinci sayıyı giriniz : 5\n",
            "Ortalama :  5.0\n"
          ]
        }
      ]
    },
    {
      "cell_type": "markdown",
      "source": [
        "# Uygulama 13\n",
        "Klavyeden girilen vize ve final notuna göre vizenin %40 ve finalin %60 ını alan ve sonucu ekranda gösteren kodu yazınız."
      ],
      "metadata": {
        "id": "vAnyr2cmyyqG"
      }
    },
    {
      "cell_type": "code",
      "source": [
        "vize = int(input(\"Vize notunuzu giriniz : \"))\n",
        "final = int(input(\"Final notunuzu giriniz : \"))\n",
        "ort = vize * 0.4 + final*0.6\n",
        "print(\"Vize ve finalin ortalaması : \", ort)"
      ],
      "metadata": {
        "id": "oQZ9HM4u7v7V",
        "colab": {
          "base_uri": "https://localhost:8080/"
        },
        "outputId": "635740f9-4e8b-483e-aa50-cfc66ee1ae90"
      },
      "execution_count": 10,
      "outputs": [
        {
          "output_type": "stream",
          "name": "stdout",
          "text": [
            "Vize notunuzu giriniz : 70\n",
            "Final notunuzu giriniz : 90\n",
            "Vize ve finalin ortalaması :  82.0\n"
          ]
        }
      ]
    },
    {
      "cell_type": "markdown",
      "source": [
        "# BOOLEAN\n",
        "Sadece true ya da false değerini döndürür.\n"
      ],
      "metadata": {
        "id": "f1qFHSlU8c5q"
      }
    },
    {
      "cell_type": "code",
      "source": [
        "print(3 == 5)"
      ],
      "metadata": {
        "id": "ga9CALe78qyw",
        "colab": {
          "base_uri": "https://localhost:8080/"
        },
        "outputId": "fddb1633-f78f-43e4-91c3-d3456f3368dc"
      },
      "execution_count": 11,
      "outputs": [
        {
          "output_type": "stream",
          "name": "stdout",
          "text": [
            "False\n"
          ]
        }
      ]
    },
    {
      "cell_type": "code",
      "source": [
        "print( 3 == 3)"
      ],
      "metadata": {
        "id": "InMJqbxY8qqT",
        "colab": {
          "base_uri": "https://localhost:8080/"
        },
        "outputId": "6ac21f2c-c8f8-4abf-e97b-07c34db51fa2"
      },
      "execution_count": 12,
      "outputs": [
        {
          "output_type": "stream",
          "name": "stdout",
          "text": [
            "True\n"
          ]
        }
      ]
    },
    {
      "cell_type": "markdown",
      "source": [
        "# KARŞILAŞTIRMA OPERATÖRLERİ\n",
        "* == iki değerin birbirine eşit olup olmadığını kontrol eder. Eşitse True eşit değilse False değerini döndürürür.\n",
        "* != eşit değil mi? Cevap eşit değilse True, eşitse False değerini döndürür.\n",
        "* **>** büyüktür.\n",
        "* < küçüktür.\n",
        "* **>**= büyük eşittir.\n",
        "* <= küçük eştittir."
      ],
      "metadata": {
        "id": "b2fG-BGk8rrr"
      }
    },
    {
      "cell_type": "code",
      "source": [
        "a, b, c, d = 5, 5, 10, 15"
      ],
      "metadata": {
        "id": "IgxJbykB9E39"
      },
      "execution_count": 15,
      "outputs": []
    },
    {
      "cell_type": "code",
      "source": [
        "print(\"berkcan\" == \"berkcan\")"
      ],
      "metadata": {
        "id": "pCQb5wrf9VKw",
        "colab": {
          "base_uri": "https://localhost:8080/"
        },
        "outputId": "489953e1-1ac5-420e-973b-666ce9b865ed"
      },
      "execution_count": 13,
      "outputs": [
        {
          "output_type": "stream",
          "name": "stdout",
          "text": [
            "True\n"
          ]
        }
      ]
    },
    {
      "cell_type": "code",
      "source": [
        "print(a == b)"
      ],
      "metadata": {
        "id": "Ax6l-XlB9U-P",
        "colab": {
          "base_uri": "https://localhost:8080/"
        },
        "outputId": "bfc6f7f1-34cd-4acb-ef4d-efae043e7696"
      },
      "execution_count": 16,
      "outputs": [
        {
          "output_type": "stream",
          "name": "stdout",
          "text": [
            "True\n"
          ]
        }
      ]
    },
    {
      "cell_type": "code",
      "source": [
        "print(a != c)"
      ],
      "metadata": {
        "id": "9JiRuLf99Uzl",
        "colab": {
          "base_uri": "https://localhost:8080/"
        },
        "outputId": "dd76ef15-a9c4-4541-c46b-132a2dec990d"
      },
      "execution_count": 17,
      "outputs": [
        {
          "output_type": "stream",
          "name": "stdout",
          "text": [
            "True\n"
          ]
        }
      ]
    },
    {
      "cell_type": "code",
      "source": [
        "print(a > d)"
      ],
      "metadata": {
        "id": "Am89D54v9Upf",
        "colab": {
          "base_uri": "https://localhost:8080/"
        },
        "outputId": "67730e5b-a733-4173-911e-4a4f886c2d19"
      },
      "execution_count": 18,
      "outputs": [
        {
          "output_type": "stream",
          "name": "stdout",
          "text": [
            "False\n"
          ]
        }
      ]
    },
    {
      "cell_type": "code",
      "source": [
        "print(a < d)"
      ],
      "metadata": {
        "id": "JEjGxL8I9UfO",
        "colab": {
          "base_uri": "https://localhost:8080/"
        },
        "outputId": "5b45244b-cd8e-4bfc-b922-446dc963ce16"
      },
      "execution_count": 19,
      "outputs": [
        {
          "output_type": "stream",
          "name": "stdout",
          "text": [
            "True\n"
          ]
        }
      ]
    },
    {
      "cell_type": "code",
      "source": [
        "print(a >= b)"
      ],
      "metadata": {
        "id": "qetKdLuY9UPj",
        "colab": {
          "base_uri": "https://localhost:8080/"
        },
        "outputId": "ac7266b5-9ae7-4735-f53d-eb354d930bb7"
      },
      "execution_count": 20,
      "outputs": [
        {
          "output_type": "stream",
          "name": "stdout",
          "text": [
            "True\n"
          ]
        }
      ]
    },
    {
      "cell_type": "code",
      "source": [
        "print(a <= b)"
      ],
      "metadata": {
        "colab": {
          "base_uri": "https://localhost:8080/"
        },
        "id": "pWqdw6kLxwLB",
        "outputId": "9a3dbb53-b01a-48e2-af6c-9d586cc76505"
      },
      "execution_count": 21,
      "outputs": [
        {
          "output_type": "stream",
          "name": "stdout",
          "text": [
            "True\n"
          ]
        }
      ]
    },
    {
      "cell_type": "markdown",
      "source": [
        "# MANTIKSAL OPERATÖRLER\n",
        "## AND OPERATÖRÜ\n",
        "* True And True = True\n",
        "* True And False = False\n",
        "* False And True = False\n",
        "* False And False= False\n",
        "\n",
        "Her iki durumda eğer doğruysa True değerini döndürür. Diğer durumlarda hep False değerini döndürür."
      ],
      "metadata": {
        "id": "9kQ3pw5P9fcO"
      }
    },
    {
      "cell_type": "code",
      "source": [
        "x = int(input(\"Bir sayı giriniz:\"))\n",
        "print(x > 5 and x < 100)"
      ],
      "metadata": {
        "id": "mls-hZFP9pPy",
        "colab": {
          "base_uri": "https://localhost:8080/"
        },
        "outputId": "f63e9de8-0798-4b8c-f446-785a4fdb0c89"
      },
      "execution_count": 22,
      "outputs": [
        {
          "output_type": "stream",
          "name": "stdout",
          "text": [
            "Bir sayı giriniz:101\n",
            "False\n"
          ]
        }
      ]
    },
    {
      "cell_type": "code",
      "source": [
        "isim = input(\"Bir isim giriniz : \")\n",
        "print( isim == \"Berkcan\" and isim == \"berkcan\")"
      ],
      "metadata": {
        "id": "vj9VHeuB94A9",
        "colab": {
          "base_uri": "https://localhost:8080/"
        },
        "outputId": "b7851b17-47dc-42e4-ebe8-34d279232e7b"
      },
      "execution_count": 23,
      "outputs": [
        {
          "output_type": "stream",
          "name": "stdout",
          "text": [
            "Bir isim giriniz : Berkcan\n",
            "False\n"
          ]
        }
      ]
    },
    {
      "cell_type": "code",
      "source": [
        "isim = input(\"Bir isim giriniz : \")\n",
        "print( isim == \"berkcan\" and isim == \"berkcan\")"
      ],
      "metadata": {
        "id": "QJU8QwQZ931s",
        "colab": {
          "base_uri": "https://localhost:8080/"
        },
        "outputId": "9f064ca2-0565-4636-b2e7-5fd6aa39dbbd"
      },
      "execution_count": 25,
      "outputs": [
        {
          "output_type": "stream",
          "name": "stdout",
          "text": [
            "Bir isim giriniz : berkcan\n",
            "True\n"
          ]
        }
      ]
    },
    {
      "cell_type": "code",
      "source": [
        "x = int(input(\"Bir sayı giriniz:\"))\n",
        "print(x > 10 and x < 100)"
      ],
      "metadata": {
        "id": "MjDofJXf93o0",
        "colab": {
          "base_uri": "https://localhost:8080/"
        },
        "outputId": "1ce88157-eea7-462d-9155-145c16fa8231"
      },
      "execution_count": 26,
      "outputs": [
        {
          "output_type": "stream",
          "name": "stdout",
          "text": [
            "Bir sayı giriniz:95\n",
            "True\n"
          ]
        }
      ]
    },
    {
      "cell_type": "markdown",
      "source": [
        "#OR OPERATÖRÜ\n",
        "True or True = True\n",
        "\n",
        "True or False = True\n",
        "\n",
        "False or True = True\n",
        "\n",
        "False or False= False\n",
        "\n",
        "Yalnızca 2 durumun yanlış olduğu zaman False diğer her durumda True değer verir."
      ],
      "metadata": {
        "id": "akS_7syT9szd"
      }
    },
    {
      "cell_type": "code",
      "source": [
        "isim = input(\"Bir isim giriniz : \")\n",
        "print( isim == \"Berkcan\" or isim == \"berkcan\")"
      ],
      "metadata": {
        "id": "_JhXGIqr95MN",
        "colab": {
          "base_uri": "https://localhost:8080/"
        },
        "outputId": "4a3b3424-92b4-4a80-fbd5-a7de9105f977"
      },
      "execution_count": 29,
      "outputs": [
        {
          "output_type": "stream",
          "name": "stdout",
          "text": [
            "Bir isim giriniz : Berkcan\n",
            "True\n"
          ]
        }
      ]
    },
    {
      "cell_type": "code",
      "source": [
        "x = int(input(\"Bir sayı giriniz:\"))\n",
        "print(x > 10 or x > 100)"
      ],
      "metadata": {
        "id": "anaaAXKK95Bf",
        "colab": {
          "base_uri": "https://localhost:8080/"
        },
        "outputId": "758fbc34-17cb-4e15-d6bd-50012d6ed15f"
      },
      "execution_count": 30,
      "outputs": [
        {
          "output_type": "stream",
          "name": "stdout",
          "text": [
            "Bir sayı giriniz:15\n",
            "True\n"
          ]
        }
      ]
    },
    {
      "cell_type": "code",
      "source": [
        "print(x < 10 or x < 100)"
      ],
      "metadata": {
        "id": "qUF9-bWk946M",
        "colab": {
          "base_uri": "https://localhost:8080/"
        },
        "outputId": "7ae5bbc2-0150-45d8-cfb8-cf65395785b0"
      },
      "execution_count": 32,
      "outputs": [
        {
          "output_type": "stream",
          "name": "stdout",
          "text": [
            "True\n"
          ]
        }
      ]
    },
    {
      "cell_type": "markdown",
      "source": [
        "# NOT OPERATÖRÜ \n",
        "True ise false, false ise true döndürür."
      ],
      "metadata": {
        "id": "VTgpBgdG97B6"
      }
    },
    {
      "cell_type": "code",
      "source": [
        "print(not(x > 10 or x > 100))"
      ],
      "metadata": {
        "id": "-SbwJxon-DBQ",
        "colab": {
          "base_uri": "https://localhost:8080/"
        },
        "outputId": "fc5d8136-2a8e-4b2d-f14e-f4a096177a19"
      },
      "execution_count": 33,
      "outputs": [
        {
          "output_type": "stream",
          "name": "stdout",
          "text": [
            "False\n"
          ]
        }
      ]
    },
    {
      "cell_type": "markdown",
      "source": [
        "# KARAR YAPILARI\n",
        "\n",
        "### Eğer if bloğu doğruysa diğer durumlara bakılmaz ve if bloğu altındaki kodlar çalışır.\n",
        "### Else yapısının kullanılması zorunlu değildir olsa da olur olmasada olur.\n",
        "### Elif yapısının kullanılması zorunlu değildir olsa da olur olmasada olur.\n",
        "### Else yapısı if ve varsa elif yapısının false olduğu durumda ikinci nihai durum olarak çalışır .\n",
        "### elif yapısına birden çok farklı koşullardan doğacak durumların kontrolünü sağlamak için kullanırız ."
      ],
      "metadata": {
        "id": "oUtjzMbv-Jx1"
      }
    },
    {
      "cell_type": "code",
      "source": [
        "y = 5\n",
        "if(y > 5):\n",
        "  print(\"Sayı 5'ten büyük\")\n",
        "elif(y == 5):\n",
        "  print(\"Sayı 5'e eşit\")\n",
        "else:\n",
        "  print(\"Sayı 5'ten büyük değildir\")"
      ],
      "metadata": {
        "id": "0IG06gUi-Wjg",
        "colab": {
          "base_uri": "https://localhost:8080/"
        },
        "outputId": "6f1aa42a-1cd5-40f4-e8ab-fdf71590fbbe"
      },
      "execution_count": 36,
      "outputs": [
        {
          "output_type": "stream",
          "name": "stdout",
          "text": [
            "Sayı 5'e eşit\n"
          ]
        }
      ]
    },
    {
      "cell_type": "code",
      "source": [
        "para = \"yazı\"\n",
        "if(para == \"yazı\"):\n",
        "  print(\"Paranın yazı yüzü geldi\")\n",
        "else:\n",
        "  print(\"Paranın tura yüzü geldi\")"
      ],
      "metadata": {
        "id": "DMog9c0d-Wgl",
        "colab": {
          "base_uri": "https://localhost:8080/"
        },
        "outputId": "f66fd4cf-0e44-4292-db70-79c75e9e252c"
      },
      "execution_count": 37,
      "outputs": [
        {
          "output_type": "stream",
          "name": "stdout",
          "text": [
            "Paranın yazı yüzü geldi\n"
          ]
        }
      ]
    },
    {
      "cell_type": "code",
      "source": [
        "gun = input(\"Bugün hangi gün : \")\n",
        "if(gun == \"Pazartesi\"):\n",
        "  print(\"Bugün günlerden pazartesi. \")\n",
        "elif(gun == \"Salı\"):\n",
        "  print(\"Bugün günlerden salı. \")  \n",
        "elif(gun == \"Çarşamba\"):\n",
        "  print(\"Bugün günlerden çarşamba. \")  \n",
        "elif(gun == \"Perşembe\"):\n",
        "  print(\"Bugün günlerden perşembe. \")  \n",
        "elif(gun == \"Cuma\"):\n",
        "  print(\"Bugün günlerden cuma. \")  \n",
        "elif(gun == \"Cumartesi\"):\n",
        "  print(\"Bugün günlerden cumartesi. \")  \n",
        "elif(gun == \"Pazar\"):\n",
        "  print(\"Bugün günlerden pazar. \")  \n",
        "else:\n",
        "  print(\"Böyle bir gün bulunamadı\")"
      ],
      "metadata": {
        "id": "dVLlwudW-Wdk",
        "colab": {
          "base_uri": "https://localhost:8080/"
        },
        "outputId": "4bd3bcbf-7e97-4b8e-e2b3-55af26c29657"
      },
      "execution_count": 39,
      "outputs": [
        {
          "output_type": "stream",
          "name": "stdout",
          "text": [
            "Bugün hangi gün : Cumartesi\n",
            "Bugün günlerden cumartesi. \n"
          ]
        }
      ]
    },
    {
      "cell_type": "markdown",
      "source": [
        "# İÇ İÇE KARAR YAPILARI"
      ],
      "metadata": {
        "id": "9FinRpTg-cF0"
      }
    },
    {
      "cell_type": "code",
      "source": [
        "sayi = int(input(\"Bir sayı giriniz: \"))\n",
        "if(sayi < 10):\n",
        "  if(sayi < 5):\n",
        "    print(\"Sayı 5'ten küçük\")\n",
        "  else:\n",
        "    print(\"Sayı 5'ten büyük\")\n",
        "else: \n",
        "  print(\"Sayı 10'dan büyük\")\n"
      ],
      "metadata": {
        "id": "dOeTJeyc-gna",
        "colab": {
          "base_uri": "https://localhost:8080/"
        },
        "outputId": "c7b735c3-68e2-4c7d-cc22-7163e42caaff"
      },
      "execution_count": 45,
      "outputs": [
        {
          "output_type": "stream",
          "name": "stdout",
          "text": [
            "Bir sayı giriniz: 35\n",
            "Sayı 10'dan büyük\n"
          ]
        }
      ]
    },
    {
      "cell_type": "markdown",
      "source": [
        "# KARAR YAPILARI UYGULAMALARI"
      ],
      "metadata": {
        "id": "RukzDggf-hmp"
      }
    },
    {
      "cell_type": "markdown",
      "source": [
        "## UYGULAMA 1\n",
        "Bir sayının 7'ye bölünebilir olup olmadığını kontrol etmek  için bir program yazın."
      ],
      "metadata": {
        "id": "dfC0QAlG-ln-"
      }
    },
    {
      "cell_type": "code",
      "source": [
        "sayi = int(input(\"Bir sayı giriniz : \"))\n",
        "if(sayi % 7 == 0):\n",
        "  print(\"Sayı 7'ye tam bölünür.\")\n",
        "else:\n",
        "  print(\"Sayı 7'ye tam bölünmez.\")"
      ],
      "metadata": {
        "id": "oTl3LSaz-utx",
        "colab": {
          "base_uri": "https://localhost:8080/"
        },
        "outputId": "f3c2b214-ac3d-4976-f8e3-f350df61a7f6"
      },
      "execution_count": 47,
      "outputs": [
        {
          "output_type": "stream",
          "name": "stdout",
          "text": [
            "Bir sayı giriniz : 12\n",
            "Sayı 7'ye tam bölünmez.\n"
          ]
        }
      ]
    },
    {
      "cell_type": "markdown",
      "source": [
        "#UYGULAMA 2 \n",
        "Kullanıcıdan vize ve final notu isteyin. Girilen vize notunun %40’ı ve \n",
        "girilen final notunun ise %60’ı alınarak yıl sonu not ortalaması hesaplanacaktır. \n",
        "\n",
        "Bu not ortalaması eğer 85 ve üzeri ise AA, \n",
        "\n",
        "75 ve 85 arasında ise BA,\n",
        "\n",
        "70 ve 75 arasında ise BB,\n",
        "\n",
        "65 ve 70 arasında ise CB,\n",
        "\n",
        "60 ve 65 arasında ise CC,\n",
        "\n",
        "55 ve 60 arasında ise DC,\n",
        "\n",
        "50 ve 55 arasında ise DD olarak hesaplanacaktır. \n",
        "\n",
        "Bu öğrencinin yıl sonu toplam notu 50’nin altında ise FF ile dersten kalacaktır. \n",
        "\n",
        "Ayrıca öğrencinin final notu 50’nin altında ise direkt FF ile kalacaktır."
      ],
      "metadata": {
        "id": "3UP8Oq8u-u9l"
      }
    },
    {
      "cell_type": "code",
      "source": [
        "vize= int(input(\"vize notunuzu giriniz: \"))\n",
        "final= int(input(\"final notunuzu giriniz: \"))\n",
        "ort= vize*0.4 + final*0.6\n",
        "if(final > 50):\n",
        "  if(ort >= 85):\n",
        "    print(\"AA aldınız.\")\n",
        "  elif(ort >= 75):\n",
        "    print(\"BA aldınız.\")\n",
        "  elif(ort >= 70):\n",
        "    print(\"BB aldınız.\")\n",
        "  elif(ort >= 65):\n",
        "    print(\"CC aldınız.\")\n",
        "  elif(ort >= 55):\n",
        "    print(\"DC aldınız.\")\n",
        "  elif(ort >= 50):\n",
        "    print(\"DD aldınız.\")\n",
        "  else:\n",
        "    print(\"FF aldınız.\")\n",
        "else:\n",
        "  print(\"FF aldınız\")\n"
      ],
      "metadata": {
        "id": "FMQgTsO8--xy",
        "colab": {
          "base_uri": "https://localhost:8080/"
        },
        "outputId": "9f65c002-a88b-46b0-f966-0f7fae302d5c"
      },
      "execution_count": 49,
      "outputs": [
        {
          "output_type": "stream",
          "name": "stdout",
          "text": [
            "vize notunuzu giriniz: 100\n",
            "final notunuzu giriniz: 15\n",
            "FF aldınız\n"
          ]
        }
      ]
    },
    {
      "cell_type": "markdown",
      "source": [
        "# UYGULAMA 3\n",
        "Kullanıcıdan iki tam sayı değeri alın ve aralarında büyük olanı ekrana yazdırın.\n"
      ],
      "metadata": {
        "id": "JpdefLxQ_Hg8"
      }
    },
    {
      "cell_type": "code",
      "source": [
        "number1 = int(input(\"Birinci sayıyı giriniz : \"))\n",
        "number2 = int(input(\"İkinci sayıyı giriniz : \"))\n",
        "if(number1 > number2):\n",
        "  print(number1,\" sayısı \",number2,\" sayısından büyüktür.\")\n",
        "elif(number1 == number2):\n",
        "  print(number1,\" sayısı \",number2,\" sayısına eşittir.\")\n",
        "else:\n",
        "  print(number2,\" sayısı \",number1,\" sayısından büyüktür.\")\n"
      ],
      "metadata": {
        "id": "5YMcIYKW_KLp",
        "colab": {
          "base_uri": "https://localhost:8080/"
        },
        "outputId": "2653fab0-86f6-4d42-d55c-4c49292f65bc"
      },
      "execution_count": 53,
      "outputs": [
        {
          "output_type": "stream",
          "name": "stdout",
          "text": [
            "Birinci sayıyı giriniz : 7\n",
            "İkinci sayıyı giriniz : 12\n",
            "12  sayısı  7  sayısından büyüktür.\n"
          ]
        }
      ]
    },
    {
      "cell_type": "markdown",
      "source": [
        "#UYGULAMA 4\n",
        "Bir yılın artık yıl olup olmadığını kontrol etmek için bir program yazın. \n",
        "Artık yıl kuralı:\n",
        "\n",
        "a) Eğer yılın son iki basamağı (00) ile bitmiyorsa yalnızca 4'e tam bölünmesi\n",
        "gerekir.\n",
        "\n",
        "b) Eğer yılın son iki basamağı (00) ile bitiyorsa hem4'e hem de 400' e tam\n",
        "bölünmesi gerekir.Örneğin 1905 sayısının son iki basamağı 00 olmadığı için\n",
        "yalnızca 4 sayısına tam bölünmesi kontrol edilmelidir. Ancak 1900 sayısının\n",
        "son iki basamağı 00 ile bittiği için hem 4'e hem de 400'e tam bölünmesi\n",
        "kontrol edilmelidir."
      ],
      "metadata": {
        "id": "QqPzZ3Am_KsY"
      }
    },
    {
      "cell_type": "code",
      "source": [
        ""
      ],
      "metadata": {
        "id": "30ja1MOf_abE"
      },
      "execution_count": null,
      "outputs": []
    },
    {
      "cell_type": "markdown",
      "source": [
        "# UYGULAMA 5\n",
        "Kullanıcıdan bir üçgenin kenarları için 3 adet kenar uzunluğu isteyin. Girilen kenar\n",
        "uzunluklarına göre bu üçgenin eşkenar, ikizkenar veya çeşitkenar üçgen olma\n",
        "durumunu kontrol edin."
      ],
      "metadata": {
        "id": "DsLdLLdu_bBY"
      }
    },
    {
      "cell_type": "code",
      "source": [
        ""
      ],
      "metadata": {
        "id": "YlEgTg4h_jZq"
      },
      "execution_count": null,
      "outputs": []
    },
    {
      "cell_type": "markdown",
      "source": [
        "#UYGULAMA 6\n",
        "Bir AVM'ye ateş ölçer programı yazmalısınız.\n",
        "Kullanıcıya ateşini sorun daha sonra ateşinin derecesine göre AVM'ye \n",
        "girip-giremeyeceğini kullanıcıya belirtin. \n",
        "Program sonunda şöyle bir çıktı elde etmelisiniz:\n",
        "\"Ateşiniz 39 derece. AVM'ye Giremezsiniz!\""
      ],
      "metadata": {
        "id": "DPFDmd6W_j8p"
      }
    },
    {
      "cell_type": "code",
      "source": [
        ""
      ],
      "metadata": {
        "id": "zmvhr_f5_mto"
      },
      "execution_count": null,
      "outputs": []
    },
    {
      "cell_type": "markdown",
      "source": [
        "#UYGULAMA 7\n",
        "Kullanıcıdan bir sayı alınız. Sayı 0'dan büyükse pozitif , 0'dan küçükse negatif \n",
        "sıfıra eşitse sıfır yazdırınız."
      ],
      "metadata": {
        "id": "jWr6Pm9r_m-_"
      }
    },
    {
      "cell_type": "code",
      "source": [
        ""
      ],
      "metadata": {
        "id": "QzL7Iqla_sq2"
      },
      "execution_count": null,
      "outputs": []
    },
    {
      "cell_type": "markdown",
      "source": [
        "# UYGULAMA 8\n",
        "Tebrikler, Python Pizza'da bir işiniz var. İlk işiniz otomatik bir pizza sipariş programı oluşturmak.\n",
        "\n",
        "Bir kullanıcının siparişine göre, son faturasını hesaplayın.\n",
        "\n",
        "Small Pizza: $15\n",
        "\n",
        "Medium Pizza: $20\n",
        "\n",
        "Large Pizza: $25\n",
        "\n",
        "Pepperoni for Small Pizza: +$2\n",
        "\n",
        "Pepperoni for Medium or Large Pizza: +$3\n",
        "\n",
        "Extra cheese for any size pizza: + $1\n",
        "```\n",
        "Örnek Giriş\n",
        "size = \"L\"\n",
        "add_pepperoni = \"Y\"\n",
        "extra_cheese = \"N\"\n",
        "Örnek Çıktı\n",
        "Your final bill is: $28.\n",
        "```"
      ],
      "metadata": {
        "id": "oUAXjB74_tFb"
      }
    },
    {
      "cell_type": "code",
      "source": [
        ""
      ],
      "metadata": {
        "id": "n0c88zOoAFAg"
      },
      "execution_count": null,
      "outputs": []
    },
    {
      "cell_type": "markdown",
      "source": [
        "# UYGULAMA 9\n",
        "Bir kullanıcının kilosuna ve boyuna göre Vücut Kitle İndeksini (BMI) yorumlayan bir program yazın.\n",
        "BMI değerine göre BMI yorumunu onlara söylemelidir.\n",
        "\n",
        "18,5'in altında zayıflar\n",
        "\n",
        "18,5'in üzerinde ancak 25'in altında normal bir ağırlığa sahipler\n",
        "\n",
        "25'in üzerinde ama 30'un altında biraz fazla kilolular\n",
        "\n",
        "30'un üzerinde ama 35'in altında obezler\n",
        "\n",
        "35'in üzerinde olanlar klinik olarak obezdir.\n",
        "\n",
        "BMI, bir kişinin ağırlığının (kg olarak) boyunun karesine (m olarak) bölünmesiyle hesaplanır:\n",
        "\n",
        "Uyarı sizi gerektiğini yuvarlamak en yakın tam sayıya sonucu. Yorum mesajının, yukarıdaki yorumlardan kalın harflerle yazılmış kelimeleri içermesi gerekir. örneğin zayıf, normal kilolu, fazla kilolu, obez, klinik olarak obez .\n",
        "```\n",
        "Örnek Giriş\n",
        "weight = 85\n",
        "height = 1.75\n",
        "Örnek Çıktı\n",
        "85 ÷ (1.75 x 1.75) = 27.755102040816325\n",
        "Vücut kitle indeksiniz 28, fazla kilolusunuz.\n",
        "```"
      ],
      "metadata": {
        "id": "j2wIxm8EAFVE"
      }
    },
    {
      "cell_type": "code",
      "source": [
        ""
      ],
      "metadata": {
        "id": "OsdVr3N5ApXn"
      },
      "execution_count": null,
      "outputs": []
    },
    {
      "cell_type": "markdown",
      "source": [
        "# UYGULAMA 10\n",
        "Kullanıcıdan isim, yaş ve eğitim bilgilerini isteyip ehliyet alabilme  durumunu kontrol ediniz. \n",
        "Ehliyet alma koşulu en az 18 ve eğitim durumu  lise ya da üniversite olmalıdır. "
      ],
      "metadata": {
        "id": "-DkwddecAu2F"
      }
    },
    {
      "cell_type": "code",
      "source": [
        ""
      ],
      "metadata": {
        "id": "yDE5EfGlAzpJ"
      },
      "execution_count": null,
      "outputs": []
    },
    {
      "cell_type": "markdown",
      "source": [
        "#UYGULAMA 11\n",
        "Brüt ücreti hesaplamak için input() kullanarak kullanıcıdan çalışma saati alın. \n",
        "40 saate kadar, her saat başına ücret 10 TL dir. 40 saatin üstündeki saatlerin ücreti 15 TL olmaktadır. \n",
        "Girilen saate göre ücreti hesaplayan bir kod yazınız.\n",
        "Test etmek için 30 saat değerini giriniz, \n",
        "sonuç 300 TL çıkmalı, ikincil test olarak 50 değerini giriniz, sonuç 750 TL çıkmalı."
      ],
      "metadata": {
        "id": "WtTBAiEaA4uN"
      }
    },
    {
      "cell_type": "code",
      "source": [
        ""
      ],
      "metadata": {
        "id": "2whvqXvYBBoW"
      },
      "execution_count": null,
      "outputs": []
    },
    {
      "cell_type": "markdown",
      "source": [
        "#UYGULAMA 12\n",
        "0.0 ile 1.0 arasında bir puan istemek için bir program yazın. \n",
        "Puan aralık dışındaysa bir hata yazdırın. Puan 0,0 ile 1,0 arasında ise, \n",
        "aşağıdaki tabloyu kullanarak bir harf notu yazdırın:\n",
        "Puan Not\n",
        "```\n",
        "> = 0,9 A\n",
        "> = 0,8 B\n",
        "> = 0,7 C\n",
        "> = 0,6 D\n",
        "<   0,6 F\n",
        "```\n",
        "Kullanıcı aralık dışında bir değer girerse, uygun hata mesajı ve çıkış( quit() ) yapın."
      ],
      "metadata": {
        "id": "k-Tgl3NxBCcM"
      }
    },
    {
      "cell_type": "code",
      "source": [
        ""
      ],
      "metadata": {
        "id": "uDIoFlRRBQcs"
      },
      "execution_count": null,
      "outputs": []
    },
    {
      "cell_type": "markdown",
      "source": [
        "#UYGULAMA 13\n",
        "Yazılım üniversitesi öğrencilerinin mezun olup olamayacağını göstermek için\n",
        "bir sistem oluşturmaya çalışıyor.\n",
        "\n",
        "Öncelikle durumunu öğrenmek isteyen öğrencinin, ismini yaşını ve not ortalamasını (0 - 100 arası) girmesi gerekiyor (input() fonksiyonu ile kullanıcıdan alıcak).\n",
        "\n",
        "Eğer kullanıcının yaşı 17 ve 21 arasındaysa ve not ortalaması 80 ve üzeri \n",
        "ise okulunu tamamlayabilecek.\n",
        "\n",
        "Eğer bu koşulları sağlamıyor ise okulunu tamamlayamayacaktır ve \n",
        "duruma göre ekrana bir çıktı gösterecektir (print() fonksiyonu ile)\n",
        "Yazılım Üniversitesinin böyle bir sisteme ihtiyacı var, \n",
        "Hadi sen de yardım et."
      ],
      "metadata": {
        "id": "8TyYoCHuBbDt"
      }
    },
    {
      "cell_type": "code",
      "source": [
        ""
      ],
      "metadata": {
        "id": "DCAd5UkJBlfV"
      },
      "execution_count": null,
      "outputs": []
    },
    {
      "cell_type": "markdown",
      "source": [
        "# UYGULAMA 14\n",
        "Email ve parola bilgileri ile giriş kontrolü yapınız."
      ],
      "metadata": {
        "id": "bfGuMvuBB30I"
      }
    },
    {
      "cell_type": "code",
      "source": [
        ""
      ],
      "metadata": {
        "id": "B0PcSkGVB5pZ"
      },
      "execution_count": null,
      "outputs": []
    },
    {
      "cell_type": "markdown",
      "source": [
        "# UYGULAMA 15\n",
        "Kullanıcı tarafından girilen hava sıcaklığı 5 °C ve altındaysa “Soğuk”; 6-14 °C arasındaysa “Ilık”; 15 °C ve daha fazlaysa “Sıcak” çıktılarını veren kodu yazınız."
      ],
      "metadata": {
        "id": "O8udourKCKxi"
      }
    },
    {
      "cell_type": "code",
      "source": [
        ""
      ],
      "metadata": {
        "id": "GcsA7zhlCNOA"
      },
      "execution_count": null,
      "outputs": []
    },
    {
      "cell_type": "markdown",
      "source": [
        "# ÖRNEK PROJE"
      ],
      "metadata": {
        "id": "glgduHoJAp7i"
      }
    },
    {
      "cell_type": "code",
      "source": [
        "print('''\n",
        "*******************************************************************************\n",
        "          |                   |                  |                     |\n",
        " _________|________________.=\"\"_;=.______________|_____________________|_______\n",
        "|                   |  ,-\"_,=\"\"     `\"=.|                  |\n",
        "|___________________|__\"=._o`\"-._        `\"=.______________|___________________\n",
        "          |                `\"=._o`\"=._      _`\"=._                     |\n",
        " _________|_____________________:=._o \"=._.\"_.-=\"'\"=.__________________|_______\n",
        "|                   |    __.--\" , ; `\"=._o.\" ,-\"\"\"-._ \".   |\n",
        "|___________________|_._\"  ,. .` ` `` ,  `\"-._\"-._   \". '__|___________________\n",
        "          |           |o`\"=._` , \"` `; .\". ,  \"-._\"-._; ;              |\n",
        " _________|___________| ;`-.o`\"=._; .\" ` '`.\"\\` . \"-._ /_______________|_______\n",
        "|                   | |o;    `\"-.o`\"=._``  '` \" ,__.--o;   |\n",
        "|___________________|_| ;     (#) `-.o `\"=.`_.--\"_o.-; ;___|___________________\n",
        "____/______/______/___|o;._    \"      `\".o|o_.--\"    ;o;____/______/______/____\n",
        "/______/______/______/_\"=._o--._        ; | ;        ; ;/______/______/______/_\n",
        "____/______/______/______/__\"=._o--._   ;o|o;     _._;o;____/______/______/____\n",
        "/______/______/______/______/____\"=._o._; | ;_.--\"o.--\"_/______/______/______/_\n",
        "____/______/______/______/______/_____\"=.o|o_.--\"\"___/______/______/______/____\n",
        "/______/______/______/______/______/______/______/______/______/______/_____ /\n",
        "*******************************************************************************\n",
        "''')\n",
        "\n",
        "print(\"*** Hazine Adasına Hoş Geldiniz ***\")\n",
        "print(\"'Görevin hazineyi bulmak.\")\n",
        "ilkSecim = input(\"Bir yol ayrımındasınız. Nereye gitmek istersiniz? 'Sol' ya da 'Sağ' yazın\\n\")\n",
        "if ilkSecim ==\"Sol\":\n",
        "    print(\"Güvenle bir göle geldiniz. İlk aşamayı başarıyla tamamladınız\")\n",
        "    ikinciSecim = input(\"Gölün ortasında bir ada var. Tekne beklemek için \\\"bekle\\\" yazın, yüzerek geçmek için \\\"yüzme\\\" yazın\\n\")\n",
        "    if ikinciSecim == \"bekle\":\n",
        "        print(\"Adaya zarar görmeden vardınız.\")\n",
        "        ucuncuSecim = input(\"3 kapılı bir ev var. Kapılardan Biri kırmızı, biri sarı ve biri mavi. Bir kapıyı seçiniz\\n\")\n",
        "        if ucuncuSecim == \"kırmızı\":\n",
        "            print(\"Ateşle dolu bir oda. Oyun Bitti\")\n",
        "        elif ucuncuSecim == \"mavi\":\n",
        "            print(\"hayvanların odasına girdiniz. Oyun Bitti\")\n",
        "        elif ucuncuSecim == \"sarı\":\n",
        "            print(\"Hazineyi buldunuz. Kazandınız!\")\n",
        "            print(\"Hazine Adasını oynadığınız için teşekkür ederiz!\")\n",
        "    elif  ikinciSecim == \"yüzme\":\n",
        "        print(\"Kızgın bir alabalık tarafından saldırıya uğradınız. Oyun Bitti.\")\n",
        "    \n",
        "elif ilkSecim == \"Sağ\":\n",
        "    print(\"Deliğe düştünüz. Oyun Bitti\")\n",
        "else: \n",
        "    print(\"Sözdizimi Hatası\") "
      ],
      "metadata": {
        "id": "Z3xBBAtmAsoI",
        "colab": {
          "base_uri": "https://localhost:8080/"
        },
        "outputId": "944af702-edcd-4a2e-d329-e3238f1e4be4"
      },
      "execution_count": 54,
      "outputs": [
        {
          "output_type": "stream",
          "name": "stdout",
          "text": [
            "\n",
            "*******************************************************************************\n",
            "          |                   |                  |                     |\n",
            " _________|________________.=\"\"_;=.______________|_____________________|_______\n",
            "|                   |  ,-\"_,=\"\"     `\"=.|                  |\n",
            "|___________________|__\"=._o`\"-._        `\"=.______________|___________________\n",
            "          |                `\"=._o`\"=._      _`\"=._                     |\n",
            " _________|_____________________:=._o \"=._.\"_.-=\"'\"=.__________________|_______\n",
            "|                   |    __.--\" , ; `\"=._o.\" ,-\"\"\"-._ \".   |\n",
            "|___________________|_._\"  ,. .` ` `` ,  `\"-._\"-._   \". '__|___________________\n",
            "          |           |o`\"=._` , \"` `; .\". ,  \"-._\"-._; ;              |\n",
            " _________|___________| ;`-.o`\"=._; .\" ` '`.\"\\` . \"-._ /_______________|_______\n",
            "|                   | |o;    `\"-.o`\"=._``  '` \" ,__.--o;   |\n",
            "|___________________|_| ;     (#) `-.o `\"=.`_.--\"_o.-; ;___|___________________\n",
            "____/______/______/___|o;._    \"      `\".o|o_.--\"    ;o;____/______/______/____\n",
            "/______/______/______/_\"=._o--._        ; | ;        ; ;/______/______/______/_\n",
            "____/______/______/______/__\"=._o--._   ;o|o;     _._;o;____/______/______/____\n",
            "/______/______/______/______/____\"=._o._; | ;_.--\"o.--\"_/______/______/______/_\n",
            "____/______/______/______/______/_____\"=.o|o_.--\"\"___/______/______/______/____\n",
            "/______/______/______/______/______/______/______/______/______/______/_____ /\n",
            "*******************************************************************************\n",
            "\n",
            "*** Hazine Adasına Hoş Geldiniz ***\n",
            "'Görevin hazineyi bulmak.\n",
            "Bir yol ayrımındasınız. Nereye gitmek istersiniz? 'Sol' ya da 'Sağ' yazın\n",
            "Sol\n",
            "Güvenle bir göle geldiniz. İlk aşamayı başarıyla tamamladınız\n",
            "Gölün ortasında bir ada var. Tekne beklemek için \"bekle\" yazın, yüzerek geçmek için \"yüzme\" yazın\n",
            "bekle\n",
            "Adaya zarar görmeden vardınız.\n",
            "3 kapılı bir ev var. Kapılardan Biri kırmızı, biri sarı ve biri mavi. Bir kapıyı seçiniz\n",
            "sarı\n",
            "Hazineyi buldunuz. Kazandınız!\n",
            "Hazine Adasını oynadığınız için teşekkür ederiz!\n"
          ]
        }
      ]
    }
  ]
}