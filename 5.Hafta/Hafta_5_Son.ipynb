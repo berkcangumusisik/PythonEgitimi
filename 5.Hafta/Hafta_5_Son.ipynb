{
  "nbformat": 4,
  "nbformat_minor": 0,
  "metadata": {
    "colab": {
      "name": "Hafta 5 Son.ipynb",
      "provenance": []
    },
    "kernelspec": {
      "name": "python3",
      "display_name": "Python 3"
    },
    "language_info": {
      "name": "python"
    }
  },
  "cells": [
    {
      "cell_type": "markdown",
      "source": [
        "# in Operatörü\n",
        "- Belirtilen bir değerin, dizi, metin, liste veya demet gibi bir dizinin öğesi olup olmadığını kontrol eder.\n",
        "* True ya da false değeri döndürür.\n"
      ],
      "metadata": {
        "id": "mxwQsIak_Dxc"
      }
    },
    {
      "cell_type": "code",
      "execution_count": 1,
      "metadata": {
        "id": "0A69_qUE-lrM"
      },
      "outputs": [],
      "source": [
        "string = \"Python\""
      ]
    },
    {
      "cell_type": "code",
      "source": [
        "print(\"P\" in string)"
      ],
      "metadata": {
        "id": "Uw0SzW6-_PAG",
        "colab": {
          "base_uri": "https://localhost:8080/"
        },
        "outputId": "bea95a33-84d0-49a3-9ddf-ce571ac6501d"
      },
      "execution_count": 2,
      "outputs": [
        {
          "output_type": "stream",
          "name": "stdout",
          "text": [
            "True\n"
          ]
        }
      ]
    },
    {
      "cell_type": "code",
      "source": [
        "print(\"p\" in string)"
      ],
      "metadata": {
        "id": "K87L0bOq_Ouo",
        "colab": {
          "base_uri": "https://localhost:8080/"
        },
        "outputId": "8e5c9756-5ac8-46b8-a37d-76044ea944e8"
      },
      "execution_count": 3,
      "outputs": [
        {
          "output_type": "stream",
          "name": "stdout",
          "text": [
            "False\n"
          ]
        }
      ]
    },
    {
      "cell_type": "code",
      "source": [
        "liste = [1,2,3,4,5,6]"
      ],
      "metadata": {
        "id": "wi5xg_Nt_Srq"
      },
      "execution_count": 4,
      "outputs": []
    },
    {
      "cell_type": "code",
      "source": [
        "print(1 in liste)"
      ],
      "metadata": {
        "id": "5Ol0WurZ_XAo",
        "colab": {
          "base_uri": "https://localhost:8080/"
        },
        "outputId": "cd29e910-ee6b-4878-cca4-becb5102a710"
      },
      "execution_count": 5,
      "outputs": [
        {
          "output_type": "stream",
          "name": "stdout",
          "text": [
            "True\n"
          ]
        }
      ]
    },
    {
      "cell_type": "code",
      "source": [
        "demet = (4,5,6,7)"
      ],
      "metadata": {
        "id": "o3xEe-yh_XUj"
      },
      "execution_count": 6,
      "outputs": []
    },
    {
      "cell_type": "code",
      "source": [
        "print(4 in demet)"
      ],
      "metadata": {
        "id": "1LQMpro0_asO",
        "colab": {
          "base_uri": "https://localhost:8080/"
        },
        "outputId": "c25b0eae-cf6a-44c5-dc57-a7e34e279da8"
      },
      "execution_count": 7,
      "outputs": [
        {
          "output_type": "stream",
          "name": "stdout",
          "text": [
            "True\n"
          ]
        }
      ]
    },
    {
      "cell_type": "code",
      "source": [
        "print(8 in demet)"
      ],
      "metadata": {
        "id": "3K5HjAhY_a-5",
        "colab": {
          "base_uri": "https://localhost:8080/"
        },
        "outputId": "fc193a5f-af94-431c-92b2-aaf35f14479d"
      },
      "execution_count": 8,
      "outputs": [
        {
          "output_type": "stream",
          "name": "stdout",
          "text": [
            "False\n"
          ]
        }
      ]
    },
    {
      "cell_type": "code",
      "source": [
        "sozluk = {\"TL\" : \"Türkiye\",\"Euro\" : \"Avrupa\", \"Dolar\":\"ABD\"}"
      ],
      "metadata": {
        "id": "5o5JqRHB_c9i"
      },
      "execution_count": 9,
      "outputs": []
    },
    {
      "cell_type": "code",
      "source": [
        "print(\"TL\" in sozluk)"
      ],
      "metadata": {
        "id": "HesOYjpC_fxO",
        "colab": {
          "base_uri": "https://localhost:8080/"
        },
        "outputId": "4a39827d-32c4-4f5e-d539-91990ee093f5"
      },
      "execution_count": 10,
      "outputs": [
        {
          "output_type": "stream",
          "name": "stdout",
          "text": [
            "True\n"
          ]
        }
      ]
    },
    {
      "cell_type": "code",
      "source": [
        "print(\"Türkiye\" in sozluk)"
      ],
      "metadata": {
        "id": "pcFCEtl7_fns",
        "colab": {
          "base_uri": "https://localhost:8080/"
        },
        "outputId": "7eb8aa38-edae-42ce-c1e9-f04266a8b9c2"
      },
      "execution_count": 11,
      "outputs": [
        {
          "output_type": "stream",
          "name": "stdout",
          "text": [
            "False\n"
          ]
        }
      ]
    },
    {
      "cell_type": "markdown",
      "source": [
        "# DÖNGÜLER\n",
        "- Döngüler, temel olarak, verilen koşullar karşılanana kadar devam eden tekrar eden bir süreçtir.\n",
        "- Döngünün koşulu her zaman doğruysa döngü sonsuza kadar devam eder. Hangisine \"Sonsuz döngü\" denir. Bu tür döngülere genellikle while döngüsünde rastlarız.\n",
        "- Eğer bir döngünün koşulu baştan yanlışsa, bu nedenle döngünün çalışmasına izin vermez. Sonra buna \"sıfır açma döngüsü\" denir.\n",
        "\n",
        "# FOR DÖNGÜSÜ\n",
        "- Belirsiz (bir değerler koleksiyonunda yinelenen) döngüler oluşturmanın basit bir yoludur.\n",
        "- Döngüyü yürütmek için yinelenebilir bir değer (dize, liste vb.) kullanmanız gerekir\n",
        "- Her değer için bir kez yürütülen döngünün gövdesi\n",
        "- Yineleme değişkeni, yinelenebilir koleksiyondaki tüm değerlerden geçer."
      ],
      "metadata": {
        "id": "-BsGKGgq_gEs"
      }
    },
    {
      "cell_type": "code",
      "source": [
        "liste1 = [1,2,3,4,5]"
      ],
      "metadata": {
        "id": "G9T1kSwV_wcN"
      },
      "execution_count": 12,
      "outputs": []
    },
    {
      "cell_type": "code",
      "source": [
        "for i in liste1:\n",
        "  print(i)"
      ],
      "metadata": {
        "id": "Zdrb5vyF_xpk",
        "colab": {
          "base_uri": "https://localhost:8080/"
        },
        "outputId": "d61bfacd-c4c7-4cc2-e117-755102e7f584"
      },
      "execution_count": 13,
      "outputs": [
        {
          "output_type": "stream",
          "name": "stdout",
          "text": [
            "1\n",
            "2\n",
            "3\n",
            "4\n",
            "5\n"
          ]
        }
      ]
    },
    {
      "cell_type": "code",
      "source": [
        "for i in liste:\n",
        "  print(i * 5)"
      ],
      "metadata": {
        "colab": {
          "base_uri": "https://localhost:8080/"
        },
        "id": "oPr6DlIcJ_Gp",
        "outputId": "e838b14c-1813-4177-e465-b761179f1562"
      },
      "execution_count": 14,
      "outputs": [
        {
          "output_type": "stream",
          "name": "stdout",
          "text": [
            "5\n",
            "10\n",
            "15\n",
            "20\n",
            "25\n",
            "30\n"
          ]
        }
      ]
    },
    {
      "cell_type": "code",
      "source": [
        "string1 = \"Python\""
      ],
      "metadata": {
        "id": "4YBvbLo7_yL1"
      },
      "execution_count": 15,
      "outputs": []
    },
    {
      "cell_type": "code",
      "source": [
        "for i in string1:\n",
        "  print(i)"
      ],
      "metadata": {
        "id": "8opcZQhF_07X",
        "colab": {
          "base_uri": "https://localhost:8080/"
        },
        "outputId": "0b994127-d2ad-4db5-be8a-98e63f889c7a"
      },
      "execution_count": 16,
      "outputs": [
        {
          "output_type": "stream",
          "name": "stdout",
          "text": [
            "P\n",
            "y\n",
            "t\n",
            "h\n",
            "o\n",
            "n\n"
          ]
        }
      ]
    },
    {
      "cell_type": "code",
      "source": [
        "demet = (1,2,3,4)"
      ],
      "metadata": {
        "id": "5oXdGr7q_3Ts"
      },
      "execution_count": 18,
      "outputs": []
    },
    {
      "cell_type": "code",
      "source": [
        "for i in demet:\n",
        "  print(i)"
      ],
      "metadata": {
        "id": "zQdaiw48_4gO",
        "colab": {
          "base_uri": "https://localhost:8080/"
        },
        "outputId": "31295da5-9938-4db6-e1ff-4ab45a9e9380"
      },
      "execution_count": 19,
      "outputs": [
        {
          "output_type": "stream",
          "name": "stdout",
          "text": [
            "1\n",
            "2\n",
            "3\n",
            "4\n"
          ]
        }
      ]
    },
    {
      "cell_type": "code",
      "source": [
        "sozluk = {\"TL\" : \"Türkiye\",\"Euro\" : \"Avrupa\", \"Dolar\":\"ABD\"}"
      ],
      "metadata": {
        "id": "t6pA7DEV_7BO"
      },
      "execution_count": 20,
      "outputs": []
    },
    {
      "cell_type": "code",
      "source": [
        "for x in sozluk:\n",
        "  print(x)"
      ],
      "metadata": {
        "id": "7LDsxVto__Pi",
        "colab": {
          "base_uri": "https://localhost:8080/"
        },
        "outputId": "13c54902-e1be-449c-adec-5b1b2c010ae5"
      },
      "execution_count": 21,
      "outputs": [
        {
          "output_type": "stream",
          "name": "stdout",
          "text": [
            "TL\n",
            "Euro\n",
            "Dolar\n"
          ]
        }
      ]
    },
    {
      "cell_type": "code",
      "source": [
        "list2 = [62,63,78,45,47,107,15]"
      ],
      "metadata": {
        "id": "zHnF5abFACi6"
      },
      "execution_count": 22,
      "outputs": []
    },
    {
      "cell_type": "code",
      "source": [
        "toplam = 0\n",
        "for y in list2:\n",
        "  toplam += y\n",
        "  \n",
        "print(toplam)"
      ],
      "metadata": {
        "id": "5_Gq-MvjAE-G",
        "colab": {
          "base_uri": "https://localhost:8080/"
        },
        "outputId": "3b20dc2c-92d1-405a-94f4-667210b2abec"
      },
      "execution_count": 23,
      "outputs": [
        {
          "output_type": "stream",
          "name": "stdout",
          "text": [
            "417\n"
          ]
        }
      ]
    },
    {
      "cell_type": "code",
      "source": [
        "listeDemet = [(1,2),(4,5),(10,11)]"
      ],
      "metadata": {
        "id": "F_j4ZEMiAFx6"
      },
      "execution_count": 24,
      "outputs": []
    },
    {
      "cell_type": "code",
      "source": [
        "for y in listeDemet:\n",
        "  print(y)"
      ],
      "metadata": {
        "id": "AB6bdKeXAGqc",
        "colab": {
          "base_uri": "https://localhost:8080/"
        },
        "outputId": "17385af6-ac27-499c-9a2e-51fbb84870c9"
      },
      "execution_count": null,
      "outputs": [
        {
          "output_type": "stream",
          "name": "stdout",
          "text": [
            "(1, 2)\n",
            "(4, 5)\n",
            "(10, 11)\n"
          ]
        }
      ]
    },
    {
      "cell_type": "markdown",
      "source": [
        "# is Operatörü\n",
        "- \"==\" operatörüne benzer ancak daha güçlü bir mantıksal operatördür.  \n",
        "\n",
        "#is not Operatörü\n",
        "- \"!=\" operatörü yerine kullanılabilmesi dışında \"is\"e benzer\n",
        "- \"==\" kullanırken \"is\" kullanmamalısınız çünkü daha güçlü bir önceliğe sahip olduğundan bazı sorunlarınız olabilir. Ayrıca benzer bir şey \"değil\" için de geçerlidir\n",
        "- \"is\"/\"is not\" genellikle True, False veya None koşullu ifadeler için kullanılır\n",
        "\n",
        "# While Döngüsü\n",
        "- Belli bir şartı sağlayana kadar döngü kurmak için kullanılır."
      ],
      "metadata": {
        "id": "LMc5_kg0AFOH"
      }
    },
    {
      "cell_type": "code",
      "source": [
        "sum = 0\n",
        "i = 1\n",
        "while i <= 10:\n",
        "    sum += i\n",
        "    i += 1\n",
        "print(\"Toplam :\", sum)"
      ],
      "metadata": {
        "id": "UeMDgCd3AWDg",
        "colab": {
          "base_uri": "https://localhost:8080/"
        },
        "outputId": "5e1ac2c3-e973-4038-d057-fca4114f0080"
      },
      "execution_count": 25,
      "outputs": [
        {
          "output_type": "stream",
          "name": "stdout",
          "text": [
            "Toplam : 55\n"
          ]
        }
      ]
    },
    {
      "cell_type": "markdown",
      "source": [
        "# Range Fonksiyonu\n",
        "- Rasgele sayı üretmeyi sağlayan bir kütüphanedir."
      ],
      "metadata": {
        "id": "sJ3LlxD7Adey"
      }
    },
    {
      "cell_type": "code",
      "source": [
        "for x in range(5):\n",
        "    print(x)"
      ],
      "metadata": {
        "id": "V6CG4F_SAik5",
        "colab": {
          "base_uri": "https://localhost:8080/"
        },
        "outputId": "93bb0565-3c74-41f9-dde6-ffbd8e0a1067"
      },
      "execution_count": 26,
      "outputs": [
        {
          "output_type": "stream",
          "name": "stdout",
          "text": [
            "0\n",
            "1\n",
            "2\n",
            "3\n",
            "4\n"
          ]
        }
      ]
    },
    {
      "cell_type": "code",
      "source": [
        "for x in range(1,5):\n",
        "    print(x)"
      ],
      "metadata": {
        "id": "ex7QZZATAjZZ",
        "colab": {
          "base_uri": "https://localhost:8080/"
        },
        "outputId": "bf3620dc-91c4-4144-b3d7-85d72854fadd"
      },
      "execution_count": 27,
      "outputs": [
        {
          "output_type": "stream",
          "name": "stdout",
          "text": [
            "1\n",
            "2\n",
            "3\n",
            "4\n"
          ]
        }
      ]
    },
    {
      "cell_type": "code",
      "source": [
        "for x in range(1,10,2):\n",
        "    print(x)"
      ],
      "metadata": {
        "id": "rWX6GD6ZAlxi",
        "colab": {
          "base_uri": "https://localhost:8080/"
        },
        "outputId": "21a0570a-3164-4ff2-e316-bcdcdfaa11a7"
      },
      "execution_count": 28,
      "outputs": [
        {
          "output_type": "stream",
          "name": "stdout",
          "text": [
            "1\n",
            "3\n",
            "5\n",
            "7\n",
            "9\n"
          ]
        }
      ]
    },
    {
      "cell_type": "code",
      "source": [
        "liste = []\n",
        "for i in range(0,101):\n",
        "    liste.append(i)\n",
        "print(liste)"
      ],
      "metadata": {
        "id": "Dbz7xeGEAp3q",
        "colab": {
          "base_uri": "https://localhost:8080/"
        },
        "outputId": "31d1a9f6-bf76-4916-c07f-92e27c76c1cc"
      },
      "execution_count": 29,
      "outputs": [
        {
          "output_type": "stream",
          "name": "stdout",
          "text": [
            "[0, 1, 2, 3, 4, 5, 6, 7, 8, 9, 10, 11, 12, 13, 14, 15, 16, 17, 18, 19, 20, 21, 22, 23, 24, 25, 26, 27, 28, 29, 30, 31, 32, 33, 34, 35, 36, 37, 38, 39, 40, 41, 42, 43, 44, 45, 46, 47, 48, 49, 50, 51, 52, 53, 54, 55, 56, 57, 58, 59, 60, 61, 62, 63, 64, 65, 66, 67, 68, 69, 70, 71, 72, 73, 74, 75, 76, 77, 78, 79, 80, 81, 82, 83, 84, 85, 86, 87, 88, 89, 90, 91, 92, 93, 94, 95, 96, 97, 98, 99, 100]\n"
          ]
        }
      ]
    },
    {
      "cell_type": "code",
      "source": [
        "toplam = 0\n",
        "for i in range(9,90,7):\n",
        "  toplam += i\n",
        "print(toplam)"
      ],
      "metadata": {
        "id": "wJMPqOjqAsZ-",
        "colab": {
          "base_uri": "https://localhost:8080/"
        },
        "outputId": "61d2b040-222d-4915-89c3-4683f479f1d0"
      },
      "execution_count": 30,
      "outputs": [
        {
          "output_type": "stream",
          "name": "stdout",
          "text": [
            "570\n"
          ]
        }
      ]
    },
    {
      "cell_type": "markdown",
      "source": [
        "# break\n",
        "- break ifadesi bir döngü içinde çalıştırıldığında, döngüyü durdurur ve ondan dışarı atlar.\n",
        "\n",
        "\n",
        "\n",
        "# continue\n",
        "- continue ifadesi mevcut değeri atlar (geri döndürmez) ve döngüdeki sonraki yinelemeye gider ancak bu döngünün yürütülmesini durdurmaz"
      ],
      "metadata": {
        "id": "SQ-W8En-Ar_v"
      }
    },
    {
      "cell_type": "code",
      "source": [
        "for i in [1,2,3,4,5]:\n",
        "  if i % 4 == 0:\n",
        "    break\n",
        "  else:\n",
        "    print(i)\n",
        "    "
      ],
      "metadata": {
        "id": "bm_y0VP0A2Q3",
        "colab": {
          "base_uri": "https://localhost:8080/"
        },
        "outputId": "d2dd7364-4fce-4199-e0d7-ff3b99264024"
      },
      "execution_count": 31,
      "outputs": [
        {
          "output_type": "stream",
          "name": "stdout",
          "text": [
            "1\n",
            "2\n",
            "3\n"
          ]
        }
      ]
    },
    {
      "cell_type": "code",
      "source": [
        "for i in [1,2,3,4,5]:\n",
        "  if i % 4 == 0:\n",
        "    continue\n",
        "  else:\n",
        "    print(i)"
      ],
      "metadata": {
        "id": "PJ_6erNoA45V",
        "colab": {
          "base_uri": "https://localhost:8080/"
        },
        "outputId": "352f9957-9634-4fe3-ffd8-5e8e92847918"
      },
      "execution_count": 32,
      "outputs": [
        {
          "output_type": "stream",
          "name": "stdout",
          "text": [
            "1\n",
            "2\n",
            "3\n",
            "5\n"
          ]
        }
      ]
    },
    {
      "cell_type": "markdown",
      "source": [
        "# FOR DÖNGÜSÜ UYGULAMALARI\n",
        "sayilar = [1, 3, 5, 7, 9, 12, 19, 21]\n",
        "\n",
        "1- Sayilar listesindeki hangi sayılar 3'ün katıdır ?\n"
      ],
      "metadata": {
        "id": "xT0ycswdA_v1"
      }
    },
    {
      "cell_type": "code",
      "source": [
        "sayilar = [1, 3, 5, 7, 9, 12, 19, 21]\n",
        "for i in sayilar:\n",
        "  if i % 3 == 0:\n",
        "    print(i)"
      ],
      "metadata": {
        "id": "4HTONha6BHL9",
        "colab": {
          "base_uri": "https://localhost:8080/"
        },
        "outputId": "635772b0-dddd-43ce-c0f3-9da5d191ad3a"
      },
      "execution_count": 33,
      "outputs": [
        {
          "output_type": "stream",
          "name": "stdout",
          "text": [
            "3\n",
            "9\n",
            "12\n",
            "21\n"
          ]
        }
      ]
    },
    {
      "cell_type": "markdown",
      "source": [
        "2- Sayilar listesinde sayıların toplamı kaçtır ?\n",
        "\n"
      ],
      "metadata": {
        "id": "hZ7NsV7LBHjj"
      }
    },
    {
      "cell_type": "code",
      "source": [
        "toplam = 0\n",
        "for i in sayilar:\n",
        "   toplam += i\n",
        "print(toplam)"
      ],
      "metadata": {
        "id": "yWl76tUCBWNd",
        "colab": {
          "base_uri": "https://localhost:8080/"
        },
        "outputId": "8b2302bc-ff9e-4ec0-9203-46334d5faf68"
      },
      "execution_count": 34,
      "outputs": [
        {
          "output_type": "stream",
          "name": "stdout",
          "text": [
            "77\n"
          ]
        }
      ]
    },
    {
      "cell_type": "markdown",
      "source": [
        "3- Sayilar listesindeki tek sayıların karesini alınız.\n"
      ],
      "metadata": {
        "id": "U2ln31P7BWkI"
      }
    },
    {
      "cell_type": "code",
      "source": [
        "for i in sayilar:\n",
        "  if i % 2 == 1:\n",
        "    print(i ** 2)"
      ],
      "metadata": {
        "id": "vFi7Uk_MBaBp",
        "colab": {
          "base_uri": "https://localhost:8080/"
        },
        "outputId": "6359e481-7bc9-454d-a2a0-478a76137f34"
      },
      "execution_count": 35,
      "outputs": [
        {
          "output_type": "stream",
          "name": "stdout",
          "text": [
            "1\n",
            "9\n",
            "25\n",
            "49\n",
            "81\n",
            "361\n",
            "441\n"
          ]
        }
      ]
    },
    {
      "cell_type": "markdown",
      "source": [
        "sehirler = ['kocaeli', 'istanbul', 'ankara', 'izmir', 'rize']\n",
        "\n",
        "4- Şehirlerden hangileri en fazla 5 karakterlidir ?\n",
        "\n",
        "\n"
      ],
      "metadata": {
        "id": "oNKpr5YaBaZa"
      }
    },
    {
      "cell_type": "code",
      "source": [
        "sehirler = ['kocaeli', 'istanbul', 'ankara', 'izmir', 'rize']\n",
        "for i in sehirler:\n",
        "  if len(i) <= 5:\n",
        "    print(i)"
      ],
      "metadata": {
        "id": "OZ7fB80zBcY6",
        "colab": {
          "base_uri": "https://localhost:8080/"
        },
        "outputId": "d098bc3d-516c-4c28-ade1-82ff5c8bbf1a"
      },
      "execution_count": 36,
      "outputs": [
        {
          "output_type": "stream",
          "name": "stdout",
          "text": [
            "izmir\n",
            "rize\n"
          ]
        }
      ]
    },
    {
      "cell_type": "markdown",
      "source": [
        "urunler = [\n",
        "    {'name': 'samsung S6', 'price': '3000'},\n",
        "    {'name': 'samsung S7', 'price': '4000'},\n",
        "    {'name': 'samsung S8', 'price': '5000'},\n",
        "    {'name': 'samsung S9', 'price': '6000'},\n",
        "    {'name': 'samsung S10', 'price': '7000'}\n",
        "]\n",
        "\n",
        "5- Ürünlerin fiyatları toplamı nedir ?"
      ],
      "metadata": {
        "id": "krz2eQlKBc4D"
      }
    },
    {
      "cell_type": "code",
      "source": [
        "urunler = [ {'name': 'samsung S6', 'price': '3000'}, {'name': 'samsung S7', 'price': '4000'}, {'name': 'samsung S8', 'price': '5000'}, {'name': 'samsung S9', 'price': '6000'}, {'name': 'samsung S10', 'price': '7000'} ]\n",
        "toplam = 0\n",
        "for urun in urunler:\n",
        "  fiyat = int(urun['price'])\n",
        "  toplam += fiyat\n",
        "print(\"Ürünlerin toplamı : \",fiyat)"
      ],
      "metadata": {
        "id": "vlxBAIkeBfHw",
        "colab": {
          "base_uri": "https://localhost:8080/"
        },
        "outputId": "7472e522-7f8c-44dc-e23f-744a359ab1fa"
      },
      "execution_count": 38,
      "outputs": [
        {
          "output_type": "stream",
          "name": "stdout",
          "text": [
            "Ürünlerin toplamı :  7000\n"
          ]
        }
      ]
    },
    {
      "cell_type": "markdown",
      "source": [
        "6- Ürünlerden fiyatı en fazla 5000 olan ürünleri gösteriniz ?"
      ],
      "metadata": {
        "id": "bFAgZfMmBfa2"
      }
    },
    {
      "cell_type": "code",
      "source": [
        "for urun in urunler :\n",
        "  if(int(urun['price']) <= 5000):\n",
        "    print(urun['name']) "
      ],
      "metadata": {
        "id": "HbnQ_AL5BkEN",
        "colab": {
          "base_uri": "https://localhost:8080/"
        },
        "outputId": "9b549aa7-a3cd-4a6a-9af8-7976b6bc1588"
      },
      "execution_count": 39,
      "outputs": [
        {
          "output_type": "stream",
          "name": "stdout",
          "text": [
            "samsung S6\n",
            "samsung S7\n",
            "samsung S8\n"
          ]
        }
      ]
    },
    {
      "cell_type": "markdown",
      "source": [
        "# UYGULAMA 1\n",
        "1-100 arasında rastgele üretilecek bir sayıyı aşağı yukarı ifadeleri ile\n",
        "   buldurmaya çalışın. (hak = 5)\n",
        "\n",
        "   ** \"random modülü\" için \"python random\" şeklinde arama yapın.\n",
        "\n",
        "   ** 100 üzerinden puanlama yapın. Her soru 20 puan.\n",
        "   \n",
        "   ** Hak bilgisini kullanıcıdan alın ve her soru belirtilen can sayısı \n",
        "      üzerinden hesaplansın."
      ],
      "metadata": {
        "id": "TOKe_44GBkkM"
      }
    },
    {
      "cell_type": "code",
      "source": [
        "import random\n",
        "\n",
        "sayi = random.randint(1,10)\n",
        "can = int(input('kaç hak kullanmak istersiniz: '))\n",
        "hak = can\n",
        "sayac = 0\n",
        "\n",
        "while hak > 0:\n",
        "    hak -= 1\n",
        "    sayac += 1\n",
        "    tahmin = int(input('tahmin: '))\n",
        "\n",
        "    if sayi == tahmin:\n",
        "        print(f'Tebrikler {sayac}. defada bildiniz. Toplam puanınız: {100 - (100/can) * (sayac-1) }')\n",
        "        break\n",
        "    elif sayi > tahmin:\n",
        "        print('yukarı')\n",
        "    else:\n",
        "        print('aşağı')\n",
        "\n",
        "    if hak == 0:\n",
        "        print(f'hakkınız bitti. Tutulan sayı : {sayi}')"
      ],
      "metadata": {
        "colab": {
          "base_uri": "https://localhost:8080/"
        },
        "id": "jfTR-wMhGPQQ",
        "outputId": "391af602-6fed-4989-f441-a0f6b73d5c1f"
      },
      "execution_count": 53,
      "outputs": [
        {
          "output_type": "stream",
          "name": "stdout",
          "text": [
            "kaç hak kullanmak istersiniz: 5\n",
            "tahmin: 5\n",
            "yukarı\n",
            "tahmin: 7\n",
            "yukarı\n",
            "tahmin: 9\n",
            "yukarı\n",
            "tahmin: 10\n",
            "Tebrikler 4. defada bildiniz. Toplam puanınız: 40.0\n"
          ]
        }
      ]
    },
    {
      "cell_type": "markdown",
      "source": [
        "# UYGULAMA 2\n",
        "Kullanıcıdan girdi alarak yıldız üçgeni oluşturunuz.\n",
        "```\n",
        "Kaç basamak olsun : 5\n",
        "*\n",
        "* *\n",
        "* * *\n",
        "* * * * \n",
        "* * * * *\n",
        "```"
      ],
      "metadata": {
        "id": "9jv260e-BvfT"
      }
    },
    {
      "cell_type": "code",
      "source": [
        "sayi = int(input(\"Kaç basamak olsun : \"))\n",
        "yildiz = \"\"\n",
        "for i in range(1,sayi+1):\n",
        "  yildiz = yildiz + \"*\"\n",
        "  print(yildiz)"
      ],
      "metadata": {
        "id": "6diCikcICAgZ",
        "colab": {
          "base_uri": "https://localhost:8080/"
        },
        "outputId": "fdd9f6e1-d908-4e5d-d11a-aaff0bfce546"
      },
      "execution_count": 57,
      "outputs": [
        {
          "output_type": "stream",
          "name": "stdout",
          "text": [
            "Kaç basamak olsun : 5\n",
            "*\n",
            "**\n",
            "***\n",
            "****\n",
            "*****\n"
          ]
        }
      ]
    },
    {
      "cell_type": "markdown",
      "source": [
        "# UYGULAMA 3\n",
        "- Kullanıcıdan bir parola isteyin. Girilen parolanın 3 ile 8 karakter uzunluğunda olup-olmadığını kontrol edin. \n",
        "- Aynı zamanda kullanıcının bir parola girdiğinden emin olun. Girilen parola 3 karakterden az ya da  8 karakterden uzun ise ya da kullanıcı hiçbir parola girmemişse kullanıcıya gerekli uyarıları verin. \n",
        "- Programınız şartların sağlandığı bir parola belirlenene kadar devam etsin. \n",
        "- Şartların sağlandığı bir parola belirlendiğinde  ise programı break deyimi ile sonlandırın. Program sonunda şöyle bir çıktı elde etmiş olmalısını:\n",
        "```\n",
        "parola belirleyin: 45\n",
        "parola 8 karakterden uz`un 3 karakterden kısa olmamalı\n",
        "parola belirleyin:\n",
        "```\n"
      ],
      "metadata": {
        "id": "pWHxyFklCBAi"
      }
    },
    {
      "cell_type": "code",
      "source": [
        ""
      ],
      "metadata": {
        "id": "4nZcWj9cCXoT"
      },
      "execution_count": null,
      "outputs": []
    },
    {
      "cell_type": "markdown",
      "source": [
        "#UYGULAMA 4\n",
        "- Aşağıda bulunan listeleri birbirleriyle karşılaştırın ve birinci listede bulunan hangi sayıların ikinci listede olmadığını, ikinci listede bulunan hangi sayıların birinci listede olmadığını tespit edin.\n",
        "\n",
        "birinci_liste= [1,2,4,8,101,203,568,784,45,63,52,89,45,36,21,410,23,56,78,45,14,459,125,456,98,96,621]\n",
        "\n",
        "ikinci_liste= [1,2,8,101,568,45,63,21,52,21,410,78,459,96,103,460,452,602] "
      ],
      "metadata": {
        "id": "Llt2Q-yRCYDd"
      }
    },
    {
      "cell_type": "code",
      "source": [
        ""
      ],
      "metadata": {
        "id": "OvcOD6YDCefu"
      },
      "execution_count": null,
      "outputs": []
    },
    {
      "cell_type": "markdown",
      "source": [
        "# UYGULAMA 5\n",
        "Kullanıcıya uzun bir metin gösterin daha sonra kullanıcıdan hangi harften kaç tane geçtiğini öğrenmek istediğini sorun. Daha sonra kullanıcının talep ettiği harfin metinde kaç defa geçtiğini tespit edin.\n",
        "\n",
        "Örnek Metin : \n",
        "\n",
        "Lorem Ipsum, dizgi ve baskı endüstrisinde kullanılan mıgır metinlerdir. Lorem Ipsum, adı bilinmeyen bir matbaacının bir \n",
        "hurufat numune kitabı oluşturmak üzere bir yazı galerisini alarak karıştırdığı 1500'lerden beri endüstri standardı sahte \n",
        "metinler olarak kullanılmıştır. Beşyüz yıl boyunca varlığını sürdürmekle kalmamış, aynı zamanda pek değişmeden elektronik \n",
        "dizgiye de sıçramıştır. 1960'larda Lorem Ipsum pasajları da içeren Letraset yapraklarının yayınlanması ile \n",
        "ve yakın zamanda Aldus PageMaker gibi Lorem Ipsum sürümleri içeren masaüstü yayıncılık yazılımları ile popüler olmuştur."
      ],
      "metadata": {
        "id": "QaU6kd-7CfG2"
      }
    },
    {
      "cell_type": "code",
      "source": [
        ""
      ],
      "metadata": {
        "id": "ghrmEg4bCoUw"
      },
      "execution_count": null,
      "outputs": []
    },
    {
      "cell_type": "markdown",
      "source": [
        "#UYGULAMA 6\n",
        "Kullanıcının girdiği sayının asal olup-olmadığını kontrol eden bir program yazın.\n"
      ],
      "metadata": {
        "id": "qRQXyKewCpGt"
      }
    },
    {
      "cell_type": "code",
      "source": [
        ""
      ],
      "metadata": {
        "id": "MHuNmbYTCuG7"
      },
      "execution_count": null,
      "outputs": []
    },
    {
      "cell_type": "markdown",
      "source": [
        "#UYGULAMA 7\n",
        "Faktöriyel hesaplayıcı oluşturunuz."
      ],
      "metadata": {
        "id": "e97fZuGiCuWX"
      }
    },
    {
      "cell_type": "code",
      "source": [
        ""
      ],
      "metadata": {
        "id": "AevFKrZLC1XG"
      },
      "execution_count": null,
      "outputs": []
    },
    {
      "cell_type": "markdown",
      "source": [
        "#UYGULAMA 8 \n",
        "Bir hesap makinesi hazırlayınız. Hesap makinesinde aşağıdaki işlemler gerçekleşiyor olmalıdır. \n",
        "``` \n",
        "1.Toplama\n",
        "2.Çıkarma\n",
        "3.Çarpma\n",
        "4.Bölme\n",
        "5.Karesini hesaplama\n",
        "6.Karekök Hesaplama\n",
        "q çıkış\n",
        "```"
      ],
      "metadata": {
        "id": "-MjyPS81C2CJ"
      }
    },
    {
      "cell_type": "code",
      "source": [
        ""
      ],
      "metadata": {
        "id": "o33RS79jDEC7"
      },
      "execution_count": null,
      "outputs": []
    },
    {
      "cell_type": "markdown",
      "source": [
        "# UYGULAMA 9\n",
        "1'den 10'a kadar sayılardan oluşan bir çarpım tablosu hazırlayınız."
      ],
      "metadata": {
        "id": "XI_SZ-6QDHBL"
      }
    },
    {
      "cell_type": "code",
      "source": [
        ""
      ],
      "metadata": {
        "id": "tv9LHaLvDGvF"
      },
      "execution_count": null,
      "outputs": []
    }
  ]
}