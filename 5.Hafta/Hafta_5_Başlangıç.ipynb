{
  "nbformat": 4,
  "nbformat_minor": 0,
  "metadata": {
    "colab": {
      "name": "Hafta 5 Başlangıç.ipynb",
      "provenance": []
    },
    "kernelspec": {
      "name": "python3",
      "display_name": "Python 3"
    },
    "language_info": {
      "name": "python"
    }
  },
  "cells": [
    {
      "cell_type": "markdown",
      "source": [
        "# in Operatörü\n",
        "- Belirtilen bir değerin, dizi, metin, liste veya demet gibi bir dizinin öğesi olup olmadığını kontrol eder.\n",
        "* True ya da false değeri döndürür.\n"
      ],
      "metadata": {
        "id": "mxwQsIak_Dxc"
      }
    },
    {
      "cell_type": "code",
      "execution_count": null,
      "metadata": {
        "id": "0A69_qUE-lrM"
      },
      "outputs": [],
      "source": [
        "string = \"Python\""
      ]
    },
    {
      "cell_type": "code",
      "source": [
        ""
      ],
      "metadata": {
        "id": "Uw0SzW6-_PAG"
      },
      "execution_count": null,
      "outputs": []
    },
    {
      "cell_type": "code",
      "source": [
        ""
      ],
      "metadata": {
        "id": "K87L0bOq_Ouo"
      },
      "execution_count": null,
      "outputs": []
    },
    {
      "cell_type": "code",
      "source": [
        "liste = [1,2,3,4,5,6]"
      ],
      "metadata": {
        "id": "wi5xg_Nt_Srq"
      },
      "execution_count": null,
      "outputs": []
    },
    {
      "cell_type": "code",
      "source": [
        ""
      ],
      "metadata": {
        "id": "5Ol0WurZ_XAo"
      },
      "execution_count": null,
      "outputs": []
    },
    {
      "cell_type": "code",
      "source": [
        "demet = (4,5,6,7)"
      ],
      "metadata": {
        "id": "o3xEe-yh_XUj"
      },
      "execution_count": null,
      "outputs": []
    },
    {
      "cell_type": "code",
      "source": [
        ""
      ],
      "metadata": {
        "id": "1LQMpro0_asO"
      },
      "execution_count": null,
      "outputs": []
    },
    {
      "cell_type": "code",
      "source": [
        ""
      ],
      "metadata": {
        "id": "3K5HjAhY_a-5"
      },
      "execution_count": null,
      "outputs": []
    },
    {
      "cell_type": "code",
      "source": [
        "sozluk = {\"TL\" : \"Türkiye\",\"Euro\" : \"Avrupa\", \"Dolar\":\"ABD\"}"
      ],
      "metadata": {
        "id": "5o5JqRHB_c9i"
      },
      "execution_count": null,
      "outputs": []
    },
    {
      "cell_type": "code",
      "source": [
        ""
      ],
      "metadata": {
        "id": "HesOYjpC_fxO"
      },
      "execution_count": null,
      "outputs": []
    },
    {
      "cell_type": "code",
      "source": [
        ""
      ],
      "metadata": {
        "id": "pcFCEtl7_fns"
      },
      "execution_count": null,
      "outputs": []
    },
    {
      "cell_type": "markdown",
      "source": [
        "# DÖNGÜLER\n",
        "- Döngüler, temel olarak, verilen koşullar karşılanana kadar devam eden tekrar eden bir süreçtir.\n",
        "- Döngünün koşulu her zaman doğruysa döngü sonsuza kadar devam eder. Hangisine \"Sonsuz döngü\" denir. Bu tür döngülere genellikle while döngüsünde rastlarız.\n",
        "- Eğer bir döngünün koşulu baştan yanlışsa, bu nedenle döngünün çalışmasına izin vermez. Sonra buna \"sıfır açma döngüsü\" denir.\n",
        "\n",
        "# FOR DÖNGÜSÜ\n",
        "- Belirsiz (bir değerler koleksiyonunda yinelenen) döngüler oluşturmanın basit bir yoludur.\n",
        "- Döngüyü yürütmek için yinelenebilir bir değer (dize, liste vb.) kullanmanız gerekir\n",
        "- Her değer için bir kez yürütülen döngünün gövdesi\n",
        "- Yineleme değişkeni, yinelenebilir koleksiyondaki tüm değerlerden geçer."
      ],
      "metadata": {
        "id": "-BsGKGgq_gEs"
      }
    },
    {
      "cell_type": "code",
      "source": [
        "liste1 = [1,2,3,4,5]"
      ],
      "metadata": {
        "id": "G9T1kSwV_wcN"
      },
      "execution_count": null,
      "outputs": []
    },
    {
      "cell_type": "code",
      "source": [
        ""
      ],
      "metadata": {
        "id": "Zdrb5vyF_xpk"
      },
      "execution_count": null,
      "outputs": []
    },
    {
      "cell_type": "code",
      "source": [
        "string1 = \"Python\""
      ],
      "metadata": {
        "id": "4YBvbLo7_yL1"
      },
      "execution_count": null,
      "outputs": []
    },
    {
      "cell_type": "code",
      "source": [
        ""
      ],
      "metadata": {
        "id": "8opcZQhF_07X"
      },
      "execution_count": null,
      "outputs": []
    },
    {
      "cell_type": "code",
      "source": [
        "demet = (1,2,3,4)"
      ],
      "metadata": {
        "id": "5oXdGr7q_3Ts"
      },
      "execution_count": null,
      "outputs": []
    },
    {
      "cell_type": "code",
      "source": [
        ""
      ],
      "metadata": {
        "id": "zQdaiw48_4gO"
      },
      "execution_count": null,
      "outputs": []
    },
    {
      "cell_type": "code",
      "source": [
        "sozluk = {\"TL\" : \"Türkiye\",\"Euro\" : \"Avrupa\", \"Dolar\":\"ABD\"}"
      ],
      "metadata": {
        "id": "t6pA7DEV_7BO"
      },
      "execution_count": null,
      "outputs": []
    },
    {
      "cell_type": "code",
      "source": [
        ""
      ],
      "metadata": {
        "id": "7LDsxVto__Pi"
      },
      "execution_count": null,
      "outputs": []
    },
    {
      "cell_type": "code",
      "source": [
        "list2 = [62,63,78,45,47,107,15]"
      ],
      "metadata": {
        "id": "zHnF5abFACi6"
      },
      "execution_count": null,
      "outputs": []
    },
    {
      "cell_type": "code",
      "source": [
        ""
      ],
      "metadata": {
        "id": "5_Gq-MvjAE-G"
      },
      "execution_count": null,
      "outputs": []
    },
    {
      "cell_type": "code",
      "source": [
        "listeDemet = [(1,2),(4,5),(10,11)]"
      ],
      "metadata": {
        "id": "F_j4ZEMiAFx6"
      },
      "execution_count": null,
      "outputs": []
    },
    {
      "cell_type": "code",
      "source": [
        ""
      ],
      "metadata": {
        "id": "AB6bdKeXAGqc"
      },
      "execution_count": null,
      "outputs": []
    },
    {
      "cell_type": "markdown",
      "source": [
        "# is Operatörü\n",
        "- \"==\" operatörüne benzer ancak daha güçlü bir mantıksal operatördür. # is not Operatörü\n",
        "- \"!=\" operatörü yerine kullanılabilmesi dışında \"is\"e benzer\n",
        "- \"==\" kullanırken \"is\" kullanmamalısınız çünkü daha güçlü bir önceliğe sahip olduğundan bazı sorunlarınız olabilir. Ayrıca benzer bir şey \"değil\" için de geçerlidir\n",
        "- \"is\"/\"is not\" genellikle True, False veya None koşullu ifadeler için kullanılır\n",
        "\n",
        "# While Döngüsü\n",
        "- Belli bir şartı sağlayana kadar döngü kurmak için kullanılır."
      ],
      "metadata": {
        "id": "LMc5_kg0AFOH"
      }
    },
    {
      "cell_type": "code",
      "source": [
        "sum = 0\n",
        "i = 1\n",
        "while i <= 10:\n",
        "    sum += i\n",
        "    i += 1\n",
        "print(\"Toplam :\", sum)"
      ],
      "metadata": {
        "id": "UeMDgCd3AWDg"
      },
      "execution_count": null,
      "outputs": []
    },
    {
      "cell_type": "markdown",
      "source": [
        "# Range Fonksiyonu\n",
        "- Rasgele sayı üretmeyi sağlayan bir kütüphanedir."
      ],
      "metadata": {
        "id": "sJ3LlxD7Adey"
      }
    },
    {
      "cell_type": "code",
      "source": [
        "for x in range(5):\n",
        "    print(x)"
      ],
      "metadata": {
        "id": "V6CG4F_SAik5"
      },
      "execution_count": null,
      "outputs": []
    },
    {
      "cell_type": "code",
      "source": [
        "for x in range(1,5):\n",
        "    print(x)"
      ],
      "metadata": {
        "id": "ex7QZZATAjZZ"
      },
      "execution_count": null,
      "outputs": []
    },
    {
      "cell_type": "code",
      "source": [
        "for x in range(1,10,2):\n",
        "    print(x)"
      ],
      "metadata": {
        "id": "rWX6GD6ZAlxi"
      },
      "execution_count": null,
      "outputs": []
    },
    {
      "cell_type": "code",
      "source": [
        "liste = []\n",
        "for i in range(0,101):\n",
        "    liste.append(i)\n",
        "print(liste)"
      ],
      "metadata": {
        "id": "Dbz7xeGEAp3q"
      },
      "execution_count": null,
      "outputs": []
    },
    {
      "cell_type": "code",
      "source": [
        ""
      ],
      "metadata": {
        "id": "wJMPqOjqAsZ-"
      },
      "execution_count": null,
      "outputs": []
    },
    {
      "cell_type": "code",
      "source": [
        ""
      ],
      "metadata": {
        "id": "Ty9rR9-pAsWB"
      },
      "execution_count": null,
      "outputs": []
    },
    {
      "cell_type": "code",
      "source": [
        ""
      ],
      "metadata": {
        "id": "CnLPYrDJAsRf"
      },
      "execution_count": null,
      "outputs": []
    },
    {
      "cell_type": "markdown",
      "source": [
        "# break\n",
        "- break ifadesi bir döngü içinde çalıştırıldığında, döngüyü durdurur ve ondan dışarı atlar.\n",
        "# continue\n",
        "- continue ifadesi mevcut değeri atlar (geri döndürmez) ve döngüdeki sonraki yinelemeye gider ancak bu döngünün yürütülmesini durdurmaz"
      ],
      "metadata": {
        "id": "SQ-W8En-Ar_v"
      }
    },
    {
      "cell_type": "code",
      "source": [
        ""
      ],
      "metadata": {
        "id": "bm_y0VP0A2Q3"
      },
      "execution_count": null,
      "outputs": []
    },
    {
      "cell_type": "code",
      "source": [
        ""
      ],
      "metadata": {
        "id": "PJ_6erNoA45V"
      },
      "execution_count": null,
      "outputs": []
    },
    {
      "cell_type": "code",
      "source": [
        ""
      ],
      "metadata": {
        "id": "BZY88iIqA5N6"
      },
      "execution_count": null,
      "outputs": []
    },
    {
      "cell_type": "code",
      "source": [
        ""
      ],
      "metadata": {
        "id": "kqx92GR9A_O6"
      },
      "execution_count": null,
      "outputs": []
    },
    {
      "cell_type": "markdown",
      "source": [
        "# FOR DÖNGÜSÜ UYGULAMALARI\n",
        "sayilar = [1, 3, 5, 7, 9, 12, 19, 21]\n",
        "\n",
        "1- Sayilar listesindeki hangi sayılar 3'ün katıdır ?\n"
      ],
      "metadata": {
        "id": "xT0ycswdA_v1"
      }
    },
    {
      "cell_type": "code",
      "source": [
        ""
      ],
      "metadata": {
        "id": "4HTONha6BHL9"
      },
      "execution_count": null,
      "outputs": []
    },
    {
      "cell_type": "markdown",
      "source": [
        "2- Sayilar listesinde sayıların toplamı kaçtır ?\n",
        "\n"
      ],
      "metadata": {
        "id": "hZ7NsV7LBHjj"
      }
    },
    {
      "cell_type": "code",
      "source": [
        ""
      ],
      "metadata": {
        "id": "yWl76tUCBWNd"
      },
      "execution_count": null,
      "outputs": []
    },
    {
      "cell_type": "markdown",
      "source": [
        "3- Sayilar listesindeki tek sayıların karesini alınız.\n"
      ],
      "metadata": {
        "id": "U2ln31P7BWkI"
      }
    },
    {
      "cell_type": "code",
      "source": [
        ""
      ],
      "metadata": {
        "id": "vFi7Uk_MBaBp"
      },
      "execution_count": null,
      "outputs": []
    },
    {
      "cell_type": "markdown",
      "source": [
        "sehirler = ['kocaeli', 'istanbul', 'ankara', 'izmir', 'rize']\n",
        "\n",
        "4- Şehirlerden hangileri en fazla 5 karakterlidir ?\n",
        "\n",
        "\n"
      ],
      "metadata": {
        "id": "oNKpr5YaBaZa"
      }
    },
    {
      "cell_type": "code",
      "source": [
        ""
      ],
      "metadata": {
        "id": "OZ7fB80zBcY6"
      },
      "execution_count": null,
      "outputs": []
    },
    {
      "cell_type": "markdown",
      "source": [
        "urunler = [\n",
        "    {'name': 'samsung S6', 'price': '3000'},\n",
        "    {'name': 'samsung S7', 'price': '4000'},\n",
        "    {'name': 'samsung S8', 'price': '5000'},\n",
        "    {'name': 'samsung S9', 'price': '6000'},\n",
        "    {'name': 'samsung S10', 'price': '7000'}\n",
        "]\n",
        "\n",
        "5- Ürünlerin fiyatları toplamı nedir ?"
      ],
      "metadata": {
        "id": "krz2eQlKBc4D"
      }
    },
    {
      "cell_type": "code",
      "source": [
        ""
      ],
      "metadata": {
        "id": "vlxBAIkeBfHw"
      },
      "execution_count": null,
      "outputs": []
    },
    {
      "cell_type": "markdown",
      "source": [
        "6- Ürünlerden fiyatı en fazla 5000 olan ürünleri gösteriniz ?"
      ],
      "metadata": {
        "id": "bFAgZfMmBfa2"
      }
    },
    {
      "cell_type": "code",
      "source": [
        ""
      ],
      "metadata": {
        "id": "HbnQ_AL5BkEN"
      },
      "execution_count": null,
      "outputs": []
    },
    {
      "cell_type": "markdown",
      "source": [
        "# UYGULAMA 1\n",
        "1-100 arasında rastgele üretilecek bir sayıyı aşağı yukarı ifadeleri ile\n",
        "   buldurmaya çalışın. (hak = 5)\n",
        "\n",
        "   ** \"random modülü\" için \"python random\" şeklinde arama yapın.\n",
        "\n",
        "   ** 100 üzerinden puanlama yapın. Her soru 20 puan.\n",
        "   \n",
        "   ** Hak bilgisini kullanıcıdan alın ve her soru belirtilen can sayısı \n",
        "      üzerinden hesaplansın."
      ],
      "metadata": {
        "id": "TOKe_44GBkkM"
      }
    },
    {
      "cell_type": "code",
      "source": [
        ""
      ],
      "metadata": {
        "id": "FwfVU-mRBpuX"
      },
      "execution_count": null,
      "outputs": []
    },
    {
      "cell_type": "markdown",
      "source": [
        "# UYGULAMA 2\n",
        "Kullanıcıdan girdi alarak yıldız üçgeni oluşturunuz.\n",
        "```\n",
        "Kaç basamak olsun : 5\n",
        "*\n",
        "* *\n",
        "* * *\n",
        "* * * * \n",
        "* * * * *\n",
        "```"
      ],
      "metadata": {
        "id": "9jv260e-BvfT"
      }
    },
    {
      "cell_type": "code",
      "source": [
        ""
      ],
      "metadata": {
        "id": "6diCikcICAgZ"
      },
      "execution_count": null,
      "outputs": []
    },
    {
      "cell_type": "markdown",
      "source": [
        "# UYGULAMA 3\n",
        "- Kullanıcıdan bir parola isteyin. Girilen parolanın 3 ile 8 karakter uzunluğunda olup-olmadığını kontrol edin. \n",
        "- Aynı zamanda kullanıcının bir parola girdiğinden emin olun. Girilen parola 3 karakterden az ya da  8 karakterden uzun ise ya da kullanıcı hiçbir parola girmemişse kullanıcıya gerekli uyarıları verin. \n",
        "- Programınız şartların sağlandığı bir parola belirlenene kadar devam etsin. \n",
        "- Şartların sağlandığı bir parola belirlendiğinde  ise programı break deyimi ile sonlandırın. Program sonunda şöyle bir çıktı elde etmiş olmalısını:\n",
        "```\n",
        "parola belirleyin: 45\n",
        "parola 8 karakterden uz`un 3 karakterden kısa olmamalı\n",
        "parola belirleyin:\n",
        "```\n"
      ],
      "metadata": {
        "id": "pWHxyFklCBAi"
      }
    },
    {
      "cell_type": "code",
      "source": [
        ""
      ],
      "metadata": {
        "id": "4nZcWj9cCXoT"
      },
      "execution_count": null,
      "outputs": []
    },
    {
      "cell_type": "markdown",
      "source": [
        "#UYGULAMA 4\n",
        "- Aşağıda bulunan listeleri birbirleriyle karşılaştırın ve birinci listede bulunan hangi sayıların ikinci listede olmadığını, ikinci listede bulunan hangi sayıların birinci listede olmadığını tespit edin.\n",
        "\n",
        "birinci_liste= [1,2,4,8,101,203,568,784,45,63,52,89,45,36,21,410,23,56,78,45,14,459,125,456,98,96,621]\n",
        "\n",
        "ikinci_liste= [1,2,8,101,568,45,63,21,52,21,410,78,459,96,103,460,452,602] "
      ],
      "metadata": {
        "id": "Llt2Q-yRCYDd"
      }
    },
    {
      "cell_type": "code",
      "source": [
        ""
      ],
      "metadata": {
        "id": "OvcOD6YDCefu"
      },
      "execution_count": null,
      "outputs": []
    },
    {
      "cell_type": "markdown",
      "source": [
        "# UYGULAMA 5\n",
        "Kullanıcıya uzun bir metin gösterin daha sonra kullanıcıdan hangi harften kaç tane geçtiğini öğrenmek istediğini sorun. Daha sonra kullanıcının talep ettiği harfin metinde kaç defa geçtiğini tespit edin.\n",
        "\n",
        "Örnek Metin : \n",
        "\n",
        "Lorem Ipsum, dizgi ve baskı endüstrisinde kullanılan mıgır metinlerdir. Lorem Ipsum, adı bilinmeyen bir matbaacının bir \n",
        "hurufat numune kitabı oluşturmak üzere bir yazı galerisini alarak karıştırdığı 1500'lerden beri endüstri standardı sahte \n",
        "metinler olarak kullanılmıştır. Beşyüz yıl boyunca varlığını sürdürmekle kalmamış, aynı zamanda pek değişmeden elektronik \n",
        "dizgiye de sıçramıştır. 1960'larda Lorem Ipsum pasajları da içeren Letraset yapraklarının yayınlanması ile \n",
        "ve yakın zamanda Aldus PageMaker gibi Lorem Ipsum sürümleri içeren masaüstü yayıncılık yazılımları ile popüler olmuştur."
      ],
      "metadata": {
        "id": "QaU6kd-7CfG2"
      }
    },
    {
      "cell_type": "code",
      "source": [
        ""
      ],
      "metadata": {
        "id": "ghrmEg4bCoUw"
      },
      "execution_count": null,
      "outputs": []
    },
    {
      "cell_type": "markdown",
      "source": [
        "#UYGULAMA 6\n",
        "Kullanıcının girdiği sayının asal olup-olmadığını kontrol eden bir program yazın.\n"
      ],
      "metadata": {
        "id": "qRQXyKewCpGt"
      }
    },
    {
      "cell_type": "code",
      "source": [
        ""
      ],
      "metadata": {
        "id": "MHuNmbYTCuG7"
      },
      "execution_count": null,
      "outputs": []
    },
    {
      "cell_type": "markdown",
      "source": [
        "#UYGULAMA 7\n",
        "Faktöriyel hesaplayıcı oluşturunuz."
      ],
      "metadata": {
        "id": "e97fZuGiCuWX"
      }
    },
    {
      "cell_type": "code",
      "source": [
        ""
      ],
      "metadata": {
        "id": "AevFKrZLC1XG"
      },
      "execution_count": null,
      "outputs": []
    },
    {
      "cell_type": "markdown",
      "source": [
        "#UYGULAMA 8 \n",
        "Bir hesap makinesi hazırlayınız. Hesap makinesinde aşağıdaki işlemler gerçekleşiyor olmalıdır. \n",
        "``` \n",
        "1.Toplama\n",
        "2.Çıkarma\n",
        "3.Çarpma\n",
        "4.Bölme\n",
        "5.Karesini hesaplama\n",
        "6.Karekök Hesaplama\n",
        "q çıkış\n",
        "```"
      ],
      "metadata": {
        "id": "-MjyPS81C2CJ"
      }
    },
    {
      "cell_type": "code",
      "source": [
        ""
      ],
      "metadata": {
        "id": "o33RS79jDEC7"
      },
      "execution_count": null,
      "outputs": []
    },
    {
      "cell_type": "markdown",
      "source": [
        "# UYGULAMA 9\n",
        "1'den 10'a kadar sayılardan oluşan bir çarpım tablosu hazırlayınız."
      ],
      "metadata": {
        "id": "XI_SZ-6QDHBL"
      }
    },
    {
      "cell_type": "code",
      "source": [
        ""
      ],
      "metadata": {
        "id": "tv9LHaLvDGvF"
      },
      "execution_count": null,
      "outputs": []
    }
  ]
}